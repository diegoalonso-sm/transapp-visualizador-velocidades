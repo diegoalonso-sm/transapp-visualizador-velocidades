{
 "cells": [
  {
   "cell_type": "markdown",
   "source": [
    "\n",
    "### **Importations**"
   ],
   "metadata": {
    "collapsed": false
   }
  },
  {
   "cell_type": "code",
   "execution_count": 2,
   "outputs": [],
   "source": [
    "import pandas as pd\n",
    "import plotly.express as px\n",
    "from matplotlib import pyplot as plt\n",
    "from shapely.geometry import LineString, Point\n",
    "\n",
    "from speed_visualizer.config import INPUT_PATH\n",
    "from speed_visualizer.utils import __latlon_point_to_utm, __utm_point_to_lonlat"
   ],
   "metadata": {
    "collapsed": false
   }
  },
  {
   "cell_type": "code",
   "execution_count": 3,
   "outputs": [],
   "source": [
    "import os\n",
    "\n",
    "trips = pd.read_csv(os.path.join(INPUT_PATH, 'trips.txt'))\n",
    "shapes = pd.read_csv(os.path.join(INPUT_PATH, 'shapes.txt'))\n",
    "stop_times = pd.read_csv(os.path.join(INPUT_PATH, 'stop_times.txt'))\n",
    "stops = pd.read_csv(os.path.join(INPUT_PATH, 'stops.txt'))"
   ],
   "metadata": {
    "collapsed": false
   }
  },
  {
   "cell_type": "markdown",
   "source": [
    "\n",
    "### **Displaying **"
   ],
   "metadata": {
    "collapsed": false
   }
  },
  {
   "cell_type": "code",
   "execution_count": 4,
   "outputs": [
    {
     "data": {
      "text/plain": "   route_id service_id                trip_id  trip_headsign  trip_short_name  \\\n0       468          D  073ac436-0-29bd321d-9  Villa Emanuel              NaN   \n1       468          D  c41b4c56-d-29bd321d-9  Villa Emanuel              NaN   \n2       468          D  18fb2f28-6-29bd321d-9      Baquedano              NaN   \n3       468          D  59554543-4-29bd321d-9  Villa Emanuel              NaN   \n4       468          D  e99f9f4b-2-29bd321d-9      Baquedano              NaN   \n\n   direction_id  block_id    shape_id  wheelchair_accessible  bikes_allowed  \n0             0       NaN  1122123218                    NaN            NaN  \n1             0       NaN  1122123218                    NaN            NaN  \n2             1       NaN  1122123219                    NaN            NaN  \n3             0       NaN  1122123218                    NaN            NaN  \n4             1       NaN  1122123219                    NaN            NaN  ",
      "text/html": "<div>\n<style scoped>\n    .dataframe tbody tr th:only-of-type {\n        vertical-align: middle;\n    }\n\n    .dataframe tbody tr th {\n        vertical-align: top;\n    }\n\n    .dataframe thead th {\n        text-align: right;\n    }\n</style>\n<table border=\"1\" class=\"dataframe\">\n  <thead>\n    <tr style=\"text-align: right;\">\n      <th></th>\n      <th>route_id</th>\n      <th>service_id</th>\n      <th>trip_id</th>\n      <th>trip_headsign</th>\n      <th>trip_short_name</th>\n      <th>direction_id</th>\n      <th>block_id</th>\n      <th>shape_id</th>\n      <th>wheelchair_accessible</th>\n      <th>bikes_allowed</th>\n    </tr>\n  </thead>\n  <tbody>\n    <tr>\n      <th>0</th>\n      <td>468</td>\n      <td>D</td>\n      <td>073ac436-0-29bd321d-9</td>\n      <td>Villa Emanuel</td>\n      <td>NaN</td>\n      <td>0</td>\n      <td>NaN</td>\n      <td>1122123218</td>\n      <td>NaN</td>\n      <td>NaN</td>\n    </tr>\n    <tr>\n      <th>1</th>\n      <td>468</td>\n      <td>D</td>\n      <td>c41b4c56-d-29bd321d-9</td>\n      <td>Villa Emanuel</td>\n      <td>NaN</td>\n      <td>0</td>\n      <td>NaN</td>\n      <td>1122123218</td>\n      <td>NaN</td>\n      <td>NaN</td>\n    </tr>\n    <tr>\n      <th>2</th>\n      <td>468</td>\n      <td>D</td>\n      <td>18fb2f28-6-29bd321d-9</td>\n      <td>Baquedano</td>\n      <td>NaN</td>\n      <td>1</td>\n      <td>NaN</td>\n      <td>1122123219</td>\n      <td>NaN</td>\n      <td>NaN</td>\n    </tr>\n    <tr>\n      <th>3</th>\n      <td>468</td>\n      <td>D</td>\n      <td>59554543-4-29bd321d-9</td>\n      <td>Villa Emanuel</td>\n      <td>NaN</td>\n      <td>0</td>\n      <td>NaN</td>\n      <td>1122123218</td>\n      <td>NaN</td>\n      <td>NaN</td>\n    </tr>\n    <tr>\n      <th>4</th>\n      <td>468</td>\n      <td>D</td>\n      <td>e99f9f4b-2-29bd321d-9</td>\n      <td>Baquedano</td>\n      <td>NaN</td>\n      <td>1</td>\n      <td>NaN</td>\n      <td>1122123219</td>\n      <td>NaN</td>\n      <td>NaN</td>\n    </tr>\n  </tbody>\n</table>\n</div>"
     },
     "execution_count": 4,
     "metadata": {},
     "output_type": "execute_result"
    }
   ],
   "source": [
    "trips.head()"
   ],
   "metadata": {
    "collapsed": false
   }
  },
  {
   "cell_type": "code",
   "execution_count": 5,
   "outputs": [
    {
     "data": {
      "text/plain": "     shape_id  shape_pt_lat  shape_pt_lon  shape_pt_sequence\n0  1122123218     -36.64062     -72.13520                  1\n1  1122123218     -36.64062     -72.13520                  2\n2  1122123218     -36.64062     -72.13520                  3\n3  1122123218     -36.64038     -72.13483                  4\n4  1122123218     -36.64029     -72.13468                  5",
      "text/html": "<div>\n<style scoped>\n    .dataframe tbody tr th:only-of-type {\n        vertical-align: middle;\n    }\n\n    .dataframe tbody tr th {\n        vertical-align: top;\n    }\n\n    .dataframe thead th {\n        text-align: right;\n    }\n</style>\n<table border=\"1\" class=\"dataframe\">\n  <thead>\n    <tr style=\"text-align: right;\">\n      <th></th>\n      <th>shape_id</th>\n      <th>shape_pt_lat</th>\n      <th>shape_pt_lon</th>\n      <th>shape_pt_sequence</th>\n    </tr>\n  </thead>\n  <tbody>\n    <tr>\n      <th>0</th>\n      <td>1122123218</td>\n      <td>-36.64062</td>\n      <td>-72.13520</td>\n      <td>1</td>\n    </tr>\n    <tr>\n      <th>1</th>\n      <td>1122123218</td>\n      <td>-36.64062</td>\n      <td>-72.13520</td>\n      <td>2</td>\n    </tr>\n    <tr>\n      <th>2</th>\n      <td>1122123218</td>\n      <td>-36.64062</td>\n      <td>-72.13520</td>\n      <td>3</td>\n    </tr>\n    <tr>\n      <th>3</th>\n      <td>1122123218</td>\n      <td>-36.64038</td>\n      <td>-72.13483</td>\n      <td>4</td>\n    </tr>\n    <tr>\n      <th>4</th>\n      <td>1122123218</td>\n      <td>-36.64029</td>\n      <td>-72.13468</td>\n      <td>5</td>\n    </tr>\n  </tbody>\n</table>\n</div>"
     },
     "execution_count": 5,
     "metadata": {},
     "output_type": "execute_result"
    }
   ],
   "source": [
    "shapes.head()"
   ],
   "metadata": {
    "collapsed": false
   }
  },
  {
   "cell_type": "code",
   "execution_count": 6,
   "outputs": [
    {
     "data": {
      "text/plain": "                 trip_id arrival_time departure_time stop_id  stop_sequence  \\\n0  073ac436-0-29bd321d-9     08:00:00       08:00:00   120-1              1   \n1  073ac436-0-29bd321d-9     08:01:00       08:01:00   120-5              2   \n2  073ac436-0-29bd321d-9     08:02:00       08:02:00   120-6              3   \n3  073ac436-0-29bd321d-9     08:03:00       08:03:00   120-7              4   \n4  073ac436-0-29bd321d-9     08:06:00       08:06:00   107-4              5   \n\n   stop_headsign  pickup_type  drop_off_type  timepoint  \n0            NaN          NaN            NaN          1  \n1            NaN          NaN            NaN          0  \n2            NaN          NaN            NaN          0  \n3            NaN          NaN            NaN          0  \n4            NaN          NaN            NaN          0  ",
      "text/html": "<div>\n<style scoped>\n    .dataframe tbody tr th:only-of-type {\n        vertical-align: middle;\n    }\n\n    .dataframe tbody tr th {\n        vertical-align: top;\n    }\n\n    .dataframe thead th {\n        text-align: right;\n    }\n</style>\n<table border=\"1\" class=\"dataframe\">\n  <thead>\n    <tr style=\"text-align: right;\">\n      <th></th>\n      <th>trip_id</th>\n      <th>arrival_time</th>\n      <th>departure_time</th>\n      <th>stop_id</th>\n      <th>stop_sequence</th>\n      <th>stop_headsign</th>\n      <th>pickup_type</th>\n      <th>drop_off_type</th>\n      <th>timepoint</th>\n    </tr>\n  </thead>\n  <tbody>\n    <tr>\n      <th>0</th>\n      <td>073ac436-0-29bd321d-9</td>\n      <td>08:00:00</td>\n      <td>08:00:00</td>\n      <td>120-1</td>\n      <td>1</td>\n      <td>NaN</td>\n      <td>NaN</td>\n      <td>NaN</td>\n      <td>1</td>\n    </tr>\n    <tr>\n      <th>1</th>\n      <td>073ac436-0-29bd321d-9</td>\n      <td>08:01:00</td>\n      <td>08:01:00</td>\n      <td>120-5</td>\n      <td>2</td>\n      <td>NaN</td>\n      <td>NaN</td>\n      <td>NaN</td>\n      <td>0</td>\n    </tr>\n    <tr>\n      <th>2</th>\n      <td>073ac436-0-29bd321d-9</td>\n      <td>08:02:00</td>\n      <td>08:02:00</td>\n      <td>120-6</td>\n      <td>3</td>\n      <td>NaN</td>\n      <td>NaN</td>\n      <td>NaN</td>\n      <td>0</td>\n    </tr>\n    <tr>\n      <th>3</th>\n      <td>073ac436-0-29bd321d-9</td>\n      <td>08:03:00</td>\n      <td>08:03:00</td>\n      <td>120-7</td>\n      <td>4</td>\n      <td>NaN</td>\n      <td>NaN</td>\n      <td>NaN</td>\n      <td>0</td>\n    </tr>\n    <tr>\n      <th>4</th>\n      <td>073ac436-0-29bd321d-9</td>\n      <td>08:06:00</td>\n      <td>08:06:00</td>\n      <td>107-4</td>\n      <td>5</td>\n      <td>NaN</td>\n      <td>NaN</td>\n      <td>NaN</td>\n      <td>0</td>\n    </tr>\n  </tbody>\n</table>\n</div>"
     },
     "execution_count": 6,
     "metadata": {},
     "output_type": "execute_result"
    }
   ],
   "source": [
    "stop_times.head()"
   ],
   "metadata": {
    "collapsed": false
   }
  },
  {
   "cell_type": "code",
   "execution_count": 7,
   "outputs": [
    {
     "data": {
      "text/plain": "  stop_id stop_code                               stop_name  stop_desc  \\\n0   120-1       NaN     Av. Baquedano esq. Gabriela Mistral        NaN   \n1   120-5       NaN         Av. Baquedano esq. Pablo Neruda        NaN   \n2   120-6       NaN              Av. Baquedano esq. Cabildo        NaN   \n3   120-7       NaN  Av. Baquedano esq. Entrada a Santuario        NaN   \n4   107-4       NaN      Erasmo Escala esq. Conde del Maule        NaN   \n\n    stop_lat   stop_lon  zone_id  stop_url  location_type  parent_station  \\\n0 -36.640283 -72.134588      NaN       NaN            NaN             NaN   \n1 -36.638495 -72.131816      NaN       NaN            NaN             NaN   \n2 -36.637797 -72.130684      NaN       NaN            NaN             NaN   \n3 -36.634624 -72.126115      NaN       NaN            NaN             NaN   \n4 -36.628075 -72.127618      NaN       NaN            NaN             NaN   \n\n   wheelchair_boarding  \n0                  NaN  \n1                  NaN  \n2                  NaN  \n3                  NaN  \n4                  NaN  ",
      "text/html": "<div>\n<style scoped>\n    .dataframe tbody tr th:only-of-type {\n        vertical-align: middle;\n    }\n\n    .dataframe tbody tr th {\n        vertical-align: top;\n    }\n\n    .dataframe thead th {\n        text-align: right;\n    }\n</style>\n<table border=\"1\" class=\"dataframe\">\n  <thead>\n    <tr style=\"text-align: right;\">\n      <th></th>\n      <th>stop_id</th>\n      <th>stop_code</th>\n      <th>stop_name</th>\n      <th>stop_desc</th>\n      <th>stop_lat</th>\n      <th>stop_lon</th>\n      <th>zone_id</th>\n      <th>stop_url</th>\n      <th>location_type</th>\n      <th>parent_station</th>\n      <th>wheelchair_boarding</th>\n    </tr>\n  </thead>\n  <tbody>\n    <tr>\n      <th>0</th>\n      <td>120-1</td>\n      <td>NaN</td>\n      <td>Av. Baquedano esq. Gabriela Mistral</td>\n      <td>NaN</td>\n      <td>-36.640283</td>\n      <td>-72.134588</td>\n      <td>NaN</td>\n      <td>NaN</td>\n      <td>NaN</td>\n      <td>NaN</td>\n      <td>NaN</td>\n    </tr>\n    <tr>\n      <th>1</th>\n      <td>120-5</td>\n      <td>NaN</td>\n      <td>Av. Baquedano esq. Pablo Neruda</td>\n      <td>NaN</td>\n      <td>-36.638495</td>\n      <td>-72.131816</td>\n      <td>NaN</td>\n      <td>NaN</td>\n      <td>NaN</td>\n      <td>NaN</td>\n      <td>NaN</td>\n    </tr>\n    <tr>\n      <th>2</th>\n      <td>120-6</td>\n      <td>NaN</td>\n      <td>Av. Baquedano esq. Cabildo</td>\n      <td>NaN</td>\n      <td>-36.637797</td>\n      <td>-72.130684</td>\n      <td>NaN</td>\n      <td>NaN</td>\n      <td>NaN</td>\n      <td>NaN</td>\n      <td>NaN</td>\n    </tr>\n    <tr>\n      <th>3</th>\n      <td>120-7</td>\n      <td>NaN</td>\n      <td>Av. Baquedano esq. Entrada a Santuario</td>\n      <td>NaN</td>\n      <td>-36.634624</td>\n      <td>-72.126115</td>\n      <td>NaN</td>\n      <td>NaN</td>\n      <td>NaN</td>\n      <td>NaN</td>\n      <td>NaN</td>\n    </tr>\n    <tr>\n      <th>4</th>\n      <td>107-4</td>\n      <td>NaN</td>\n      <td>Erasmo Escala esq. Conde del Maule</td>\n      <td>NaN</td>\n      <td>-36.628075</td>\n      <td>-72.127618</td>\n      <td>NaN</td>\n      <td>NaN</td>\n      <td>NaN</td>\n      <td>NaN</td>\n      <td>NaN</td>\n    </tr>\n  </tbody>\n</table>\n</div>"
     },
     "execution_count": 7,
     "metadata": {},
     "output_type": "execute_result"
    }
   ],
   "source": [
    "stops.head()"
   ],
   "metadata": {
    "collapsed": false
   }
  },
  {
   "cell_type": "markdown",
   "source": [
    "\n",
    "### **Parameters**"
   ],
   "metadata": {
    "collapsed": false
   }
  },
  {
   "cell_type": "code",
   "execution_count": 643,
   "outputs": [],
   "source": [
    "route_id = 467\n",
    "direction_id = 0\n",
    "time_interval = 0"
   ],
   "metadata": {
    "collapsed": false
   }
  },
  {
   "cell_type": "markdown",
   "source": [
    "\n",
    "### **Obtaining Shapes**"
   ],
   "metadata": {
    "collapsed": false
   }
  },
  {
   "cell_type": "code",
   "execution_count": 644,
   "outputs": [
    {
     "data": {
      "text/plain": "       shape_id                trip_id\n296  1122123216  6be4704f-b-29bd321d-9\n297  1122123216  526f596f-8-29bd321d-9\n298  1122123216  2613fa48-7-29bd321d-9\n299  1122123216  70237e2d-e-29bd321d-9\n301  1122123216  b20d4225-5-29bd321d-9",
      "text/html": "<div>\n<style scoped>\n    .dataframe tbody tr th:only-of-type {\n        vertical-align: middle;\n    }\n\n    .dataframe tbody tr th {\n        vertical-align: top;\n    }\n\n    .dataframe thead th {\n        text-align: right;\n    }\n</style>\n<table border=\"1\" class=\"dataframe\">\n  <thead>\n    <tr style=\"text-align: right;\">\n      <th></th>\n      <th>shape_id</th>\n      <th>trip_id</th>\n    </tr>\n  </thead>\n  <tbody>\n    <tr>\n      <th>296</th>\n      <td>1122123216</td>\n      <td>6be4704f-b-29bd321d-9</td>\n    </tr>\n    <tr>\n      <th>297</th>\n      <td>1122123216</td>\n      <td>526f596f-8-29bd321d-9</td>\n    </tr>\n    <tr>\n      <th>298</th>\n      <td>1122123216</td>\n      <td>2613fa48-7-29bd321d-9</td>\n    </tr>\n    <tr>\n      <th>299</th>\n      <td>1122123216</td>\n      <td>70237e2d-e-29bd321d-9</td>\n    </tr>\n    <tr>\n      <th>301</th>\n      <td>1122123216</td>\n      <td>b20d4225-5-29bd321d-9</td>\n    </tr>\n  </tbody>\n</table>\n</div>"
     },
     "execution_count": 644,
     "metadata": {},
     "output_type": "execute_result"
    }
   ],
   "source": [
    "trips_queried = trips[(trips[\"route_id\"] == route_id) & (trips[\"direction_id\"] == direction_id)]\n",
    "trips_queried = trips_queried[[\"shape_id\", \"trip_id\"]]\n",
    "trips_queried.head()"
   ],
   "metadata": {
    "collapsed": false
   }
  },
  {
   "cell_type": "code",
   "execution_count": 646,
   "outputs": [
    {
     "data": {
      "text/plain": "['1122123216']"
     },
     "execution_count": 646,
     "metadata": {},
     "output_type": "execute_result"
    }
   ],
   "source": [
    "shapes_dict = {}\n",
    "\n",
    "for i in list(trips_queried.shape_id.unique()):\n",
    "    shapes_dict[f'{i}'] = trips_queried[trips_queried[\"shape_id\"] == i]['trip_id'].tolist()\n",
    "\n",
    "shapes_list = list(shapes_dict.keys())\n",
    "shapes_list"
   ],
   "metadata": {
    "collapsed": false
   }
  },
  {
   "cell_type": "markdown",
   "source": [
    "\n",
    "### **Shape/Trip selection**"
   ],
   "metadata": {
    "collapsed": false
   }
  },
  {
   "cell_type": "code",
   "execution_count": 647,
   "outputs": [
    {
     "name": "stdout",
     "output_type": "stream",
     "text": [
      "trip : 6be4704f-b-29bd321d-9, shape : 1122123216\n"
     ]
    }
   ],
   "source": [
    "shape = shapes_list[0]\n",
    "trip = shapes_dict[shape][0]\n",
    "print(f\"trip : {trip}, shape : {shape}\")\n",
    "# frecuencia de aparición shape_id\n",
    "# puntos al final de la ruta\n",
    "# automatizar zona horaria\n",
    "# velocidades\n",
    "# typer\n",
    "# GitHub y DOCS\n",
    "# Ajustar a calle (algoritmo de map matching)\n",
    "# mensajes sobre el mapa para mostrar parámetros con los que se ejecutó\n",
    "# algoritmo de selección de paraderos\n",
    "# mejorar acceso a dataframes"
   ],
   "metadata": {
    "collapsed": false
   }
  },
  {
   "cell_type": "markdown",
   "source": [
    "\n",
    "### **Linestring curve**"
   ],
   "metadata": {
    "collapsed": false
   }
  },
  {
   "cell_type": "code",
   "execution_count": 648,
   "outputs": [
    {
     "data": {
      "text/plain": "      shape_pt_lon  shape_pt_lat\n3663    -72.097880    -36.628730\n3664    -72.097880    -36.628730\n3665    -72.097880    -36.628730\n3666    -72.097780    -36.628500\n3667    -72.097560    -36.628430\n...            ...           ...\n4138    -72.079310    -36.582150\n4139    -72.079140    -36.582190\n4140    -72.078960    -36.582220\n4141    -72.078791    -36.582239\n4142    -72.078780    -36.582240\n\n[480 rows x 2 columns]",
      "text/html": "<div>\n<style scoped>\n    .dataframe tbody tr th:only-of-type {\n        vertical-align: middle;\n    }\n\n    .dataframe tbody tr th {\n        vertical-align: top;\n    }\n\n    .dataframe thead th {\n        text-align: right;\n    }\n</style>\n<table border=\"1\" class=\"dataframe\">\n  <thead>\n    <tr style=\"text-align: right;\">\n      <th></th>\n      <th>shape_pt_lon</th>\n      <th>shape_pt_lat</th>\n    </tr>\n  </thead>\n  <tbody>\n    <tr>\n      <th>3663</th>\n      <td>-72.097880</td>\n      <td>-36.628730</td>\n    </tr>\n    <tr>\n      <th>3664</th>\n      <td>-72.097880</td>\n      <td>-36.628730</td>\n    </tr>\n    <tr>\n      <th>3665</th>\n      <td>-72.097880</td>\n      <td>-36.628730</td>\n    </tr>\n    <tr>\n      <th>3666</th>\n      <td>-72.097780</td>\n      <td>-36.628500</td>\n    </tr>\n    <tr>\n      <th>3667</th>\n      <td>-72.097560</td>\n      <td>-36.628430</td>\n    </tr>\n    <tr>\n      <th>...</th>\n      <td>...</td>\n      <td>...</td>\n    </tr>\n    <tr>\n      <th>4138</th>\n      <td>-72.079310</td>\n      <td>-36.582150</td>\n    </tr>\n    <tr>\n      <th>4139</th>\n      <td>-72.079140</td>\n      <td>-36.582190</td>\n    </tr>\n    <tr>\n      <th>4140</th>\n      <td>-72.078960</td>\n      <td>-36.582220</td>\n    </tr>\n    <tr>\n      <th>4141</th>\n      <td>-72.078791</td>\n      <td>-36.582239</td>\n    </tr>\n    <tr>\n      <th>4142</th>\n      <td>-72.078780</td>\n      <td>-36.582240</td>\n    </tr>\n  </tbody>\n</table>\n<p>480 rows × 2 columns</p>\n</div>"
     },
     "execution_count": 648,
     "metadata": {},
     "output_type": "execute_result"
    }
   ],
   "source": [
    "curve_lat_lon = shapes[shapes[\"shape_id\"] == int(shape)][[\"shape_pt_lon\", \"shape_pt_lat\"]]\n",
    "curve_lat_lon"
   ],
   "metadata": {
    "collapsed": false
   }
  },
  {
   "cell_type": "code",
   "execution_count": 649,
   "outputs": [
    {
     "data": {
      "text/plain": "        shape_pt_x    shape_pt_y\n0    759501.494149  5.942390e+06\n1    759501.494149  5.942390e+06\n2    759501.494149  5.942390e+06\n3    759511.210145  5.942415e+06\n4    759531.121997  5.942422e+06\n..             ...           ...\n475  761319.655972  5.947508e+06\n476  761334.735065  5.947503e+06\n477  761350.742833  5.947499e+06\n478  761365.803272  5.947497e+06\n479  761366.784336  5.947497e+06\n\n[480 rows x 2 columns]",
      "text/html": "<div>\n<style scoped>\n    .dataframe tbody tr th:only-of-type {\n        vertical-align: middle;\n    }\n\n    .dataframe tbody tr th {\n        vertical-align: top;\n    }\n\n    .dataframe thead th {\n        text-align: right;\n    }\n</style>\n<table border=\"1\" class=\"dataframe\">\n  <thead>\n    <tr style=\"text-align: right;\">\n      <th></th>\n      <th>shape_pt_x</th>\n      <th>shape_pt_y</th>\n    </tr>\n  </thead>\n  <tbody>\n    <tr>\n      <th>0</th>\n      <td>759501.494149</td>\n      <td>5.942390e+06</td>\n    </tr>\n    <tr>\n      <th>1</th>\n      <td>759501.494149</td>\n      <td>5.942390e+06</td>\n    </tr>\n    <tr>\n      <th>2</th>\n      <td>759501.494149</td>\n      <td>5.942390e+06</td>\n    </tr>\n    <tr>\n      <th>3</th>\n      <td>759511.210145</td>\n      <td>5.942415e+06</td>\n    </tr>\n    <tr>\n      <th>4</th>\n      <td>759531.121997</td>\n      <td>5.942422e+06</td>\n    </tr>\n    <tr>\n      <th>...</th>\n      <td>...</td>\n      <td>...</td>\n    </tr>\n    <tr>\n      <th>475</th>\n      <td>761319.655972</td>\n      <td>5.947508e+06</td>\n    </tr>\n    <tr>\n      <th>476</th>\n      <td>761334.735065</td>\n      <td>5.947503e+06</td>\n    </tr>\n    <tr>\n      <th>477</th>\n      <td>761350.742833</td>\n      <td>5.947499e+06</td>\n    </tr>\n    <tr>\n      <th>478</th>\n      <td>761365.803272</td>\n      <td>5.947497e+06</td>\n    </tr>\n    <tr>\n      <th>479</th>\n      <td>761366.784336</td>\n      <td>5.947497e+06</td>\n    </tr>\n  </tbody>\n</table>\n<p>480 rows × 2 columns</p>\n</div>"
     },
     "execution_count": 649,
     "metadata": {},
     "output_type": "execute_result"
    }
   ],
   "source": [
    "curve_utm = []\n",
    "\n",
    "for i in range(len(curve_lat_lon.axes[0])):\n",
    "\n",
    "    x,y = __latlon_point_to_utm(curve_lat_lon.iloc[i,0], curve_lat_lon.iloc[i,1])\n",
    "    curve_utm += [{'shape_pt_x': x, 'shape_pt_y' : y}]\n",
    "\n",
    "curve_utm = pd.DataFrame(curve_utm)\n",
    "curve_utm"
   ],
   "metadata": {
    "collapsed": false
   }
  },
  {
   "cell_type": "code",
   "execution_count": 650,
   "outputs": [
    {
     "data": {
      "text/plain": "[<matplotlib.lines.Line2D at 0x25816a265e0>]"
     },
     "execution_count": 650,
     "metadata": {},
     "output_type": "execute_result"
    },
    {
     "data": {
      "text/plain": "<Figure size 640x480 with 1 Axes>",
      "image/png": "[encoded data removed]"
     },
     "metadata": {},
     "output_type": "display_data"
    }
   ],
   "source": [
    "ls = LineString(curve_utm)\n",
    "plt.plot(*ls.xy)"
   ],
   "metadata": {
    "collapsed": false
   }
  },
  {
   "cell_type": "markdown",
   "source": [
    "\n",
    "### **Point stops**"
   ],
   "metadata": {
    "collapsed": false
   }
  },
  {
   "cell_type": "code",
   "execution_count": 651,
   "outputs": [
    {
     "data": {
      "text/plain": "                     trip_id arrival_time departure_time stop_id  \\\n52754  6be4704f-b-29bd321d-9     08:03:00       08:03:00    84-3   \n52755  6be4704f-b-29bd321d-9     08:07:00       08:07:00    84-4   \n52756  6be4704f-b-29bd321d-9     08:09:00       08:09:00    50-2   \n52757  6be4704f-b-29bd321d-9     08:10:00       08:10:00    50-4   \n52758  6be4704f-b-29bd321d-9     08:12:00       08:12:00   114-1   \n52759  6be4704f-b-29bd321d-9     08:14:00       08:14:00    81-2   \n52760  6be4704f-b-29bd321d-9     08:15:00       08:15:00    84-2   \n52761  6be4704f-b-29bd321d-9     08:16:00       08:16:00     8-1   \n52762  6be4704f-b-29bd321d-9     08:18:00       08:18:00    82-1   \n52763  6be4704f-b-29bd321d-9     08:18:00       08:18:00    51-1   \n52764  6be4704f-b-29bd321d-9     08:23:00       08:23:00    13-1   \n52765  6be4704f-b-29bd321d-9     08:24:00       08:24:00    13-2   \n52766  6be4704f-b-29bd321d-9     08:25:00       08:25:00    18-3   \n52767  6be4704f-b-29bd321d-9     08:27:00       08:27:00    18-2   \n52768  6be4704f-b-29bd321d-9     08:27:00       08:27:00    18-1   \n52769  6be4704f-b-29bd321d-9     08:29:00       08:29:00    15-1   \n52770  6be4704f-b-29bd321d-9     08:31:00       08:31:00   21-10   \n52771  6be4704f-b-29bd321d-9     08:31:00       08:31:00    21-8   \n52772  6be4704f-b-29bd321d-9     08:32:00       08:32:00    21-5   \n52773  6be4704f-b-29bd321d-9     08:33:00       08:33:00    21-4   \n52774  6be4704f-b-29bd321d-9     08:34:00       08:34:00    21-3   \n52775  6be4704f-b-29bd321d-9     08:34:00       08:34:00    21-2   \n52776  6be4704f-b-29bd321d-9     08:35:00       08:35:00    21-1   \n52777  6be4704f-b-29bd321d-9     08:35:00       08:35:00    10-9   \n52778  6be4704f-b-29bd321d-9     08:36:00       08:36:00    10-7   \n52779  6be4704f-b-29bd321d-9     08:36:00       08:36:00    18-8   \n52780  6be4704f-b-29bd321d-9     08:37:00       08:37:00    10-6   \n52781  6be4704f-b-29bd321d-9     08:37:00       08:37:00    10-5   \n52782  6be4704f-b-29bd321d-9     08:38:00       08:38:00    10-3   \n52783  6be4704f-b-29bd321d-9     08:40:00       08:40:00     5-3   \n52784  6be4704f-b-29bd321d-9     08:42:00       08:42:00    75-2   \n52785  6be4704f-b-29bd321d-9     08:43:00       08:43:00    75-1   \n52786  6be4704f-b-29bd321d-9     08:45:00       08:45:00    26-1   \n\n       stop_sequence  stop_headsign  pickup_type  drop_off_type  timepoint  \n52754              1            NaN          NaN            NaN          0  \n52755              2            NaN          NaN            NaN          0  \n52756              3            NaN          NaN            NaN          0  \n52757              4            NaN          NaN            NaN          0  \n52758              5            NaN          NaN            NaN          0  \n52759              6            NaN          NaN            NaN          0  \n52760              7            NaN          NaN            NaN          0  \n52761              8            NaN          NaN            NaN          0  \n52762              9            NaN          NaN            NaN          0  \n52763             10            NaN          NaN            NaN          0  \n52764             11            NaN          NaN            NaN          0  \n52765             12            NaN          NaN            NaN          0  \n52766             13            NaN          NaN            NaN          0  \n52767             14            NaN          NaN            NaN          0  \n52768             15            NaN          NaN            NaN          0  \n52769             16            NaN          NaN            NaN          0  \n52770             17            NaN          NaN            NaN          0  \n52771             18            NaN          NaN            NaN          0  \n52772             19            NaN          NaN            NaN          0  \n52773             20            NaN          NaN            NaN          0  \n52774             21            NaN          NaN            NaN          0  \n52775             22            NaN          NaN            NaN          0  \n52776             23            NaN          NaN            NaN          0  \n52777             24            NaN          NaN            NaN          0  \n52778             25            NaN          NaN            NaN          0  \n52779             26            NaN          NaN            NaN          0  \n52780             27            NaN          NaN            NaN          0  \n52781             28            NaN          NaN            NaN          0  \n52782             29            NaN          NaN            NaN          0  \n52783             30            NaN          NaN            NaN          0  \n52784             31            NaN          NaN            NaN          0  \n52785             32            NaN          NaN            NaN          0  \n52786             33            NaN          NaN            NaN          0  ",
      "text/html": "<div>\n<style scoped>\n    .dataframe tbody tr th:only-of-type {\n        vertical-align: middle;\n    }\n\n    .dataframe tbody tr th {\n        vertical-align: top;\n    }\n\n    .dataframe thead th {\n        text-align: right;\n    }\n</style>\n<table border=\"1\" class=\"dataframe\">\n  <thead>\n    <tr style=\"text-align: right;\">\n      <th></th>\n      <th>trip_id</th>\n      <th>arrival_time</th>\n      <th>departure_time</th>\n      <th>stop_id</th>\n      <th>stop_sequence</th>\n      <th>stop_headsign</th>\n      <th>pickup_type</th>\n      <th>drop_off_type</th>\n      <th>timepoint</th>\n    </tr>\n  </thead>\n  <tbody>\n    <tr>\n      <th>52754</th>\n      <td>6be4704f-b-29bd321d-9</td>\n      <td>08:03:00</td>\n      <td>08:03:00</td>\n      <td>84-3</td>\n      <td>1</td>\n      <td>NaN</td>\n      <td>NaN</td>\n      <td>NaN</td>\n      <td>0</td>\n    </tr>\n    <tr>\n      <th>52755</th>\n      <td>6be4704f-b-29bd321d-9</td>\n      <td>08:07:00</td>\n      <td>08:07:00</td>\n      <td>84-4</td>\n      <td>2</td>\n      <td>NaN</td>\n      <td>NaN</td>\n      <td>NaN</td>\n      <td>0</td>\n    </tr>\n    <tr>\n      <th>52756</th>\n      <td>6be4704f-b-29bd321d-9</td>\n      <td>08:09:00</td>\n      <td>08:09:00</td>\n      <td>50-2</td>\n      <td>3</td>\n      <td>NaN</td>\n      <td>NaN</td>\n      <td>NaN</td>\n      <td>0</td>\n    </tr>\n    <tr>\n      <th>52757</th>\n      <td>6be4704f-b-29bd321d-9</td>\n      <td>08:10:00</td>\n      <td>08:10:00</td>\n      <td>50-4</td>\n      <td>4</td>\n      <td>NaN</td>\n      <td>NaN</td>\n      <td>NaN</td>\n      <td>0</td>\n    </tr>\n    <tr>\n      <th>52758</th>\n      <td>6be4704f-b-29bd321d-9</td>\n      <td>08:12:00</td>\n      <td>08:12:00</td>\n      <td>114-1</td>\n      <td>5</td>\n      <td>NaN</td>\n      <td>NaN</td>\n      <td>NaN</td>\n      <td>0</td>\n    </tr>\n    <tr>\n      <th>52759</th>\n      <td>6be4704f-b-29bd321d-9</td>\n      <td>08:14:00</td>\n      <td>08:14:00</td>\n      <td>81-2</td>\n      <td>6</td>\n      <td>NaN</td>\n      <td>NaN</td>\n      <td>NaN</td>\n      <td>0</td>\n    </tr>\n    <tr>\n      <th>52760</th>\n      <td>6be4704f-b-29bd321d-9</td>\n      <td>08:15:00</td>\n      <td>08:15:00</td>\n      <td>84-2</td>\n      <td>7</td>\n      <td>NaN</td>\n      <td>NaN</td>\n      <td>NaN</td>\n      <td>0</td>\n    </tr>\n    <tr>\n      <th>52761</th>\n      <td>6be4704f-b-29bd321d-9</td>\n      <td>08:16:00</td>\n      <td>08:16:00</td>\n      <td>8-1</td>\n      <td>8</td>\n      <td>NaN</td>\n      <td>NaN</td>\n      <td>NaN</td>\n      <td>0</td>\n    </tr>\n    <tr>\n      <th>52762</th>\n      <td>6be4704f-b-29bd321d-9</td>\n      <td>08:18:00</td>\n      <td>08:18:00</td>\n      <td>82-1</td>\n      <td>9</td>\n      <td>NaN</td>\n      <td>NaN</td>\n      <td>NaN</td>\n      <td>0</td>\n    </tr>\n    <tr>\n      <th>52763</th>\n      <td>6be4704f-b-29bd321d-9</td>\n      <td>08:18:00</td>\n      <td>08:18:00</td>\n      <td>51-1</td>\n      <td>10</td>\n      <td>NaN</td>\n      <td>NaN</td>\n      <td>NaN</td>\n      <td>0</td>\n    </tr>\n    <tr>\n      <th>52764</th>\n      <td>6be4704f-b-29bd321d-9</td>\n      <td>08:23:00</td>\n      <td>08:23:00</td>\n      <td>13-1</td>\n      <td>11</td>\n      <td>NaN</td>\n      <td>NaN</td>\n      <td>NaN</td>\n      <td>0</td>\n    </tr>\n    <tr>\n      <th>52765</th>\n      <td>6be4704f-b-29bd321d-9</td>\n      <td>08:24:00</td>\n      <td>08:24:00</td>\n      <td>13-2</td>\n      <td>12</td>\n      <td>NaN</td>\n      <td>NaN</td>\n      <td>NaN</td>\n      <td>0</td>\n    </tr>\n    <tr>\n      <th>52766</th>\n      <td>6be4704f-b-29bd321d-9</td>\n      <td>08:25:00</td>\n      <td>08:25:00</td>\n      <td>18-3</td>\n      <td>13</td>\n      <td>NaN</td>\n      <td>NaN</td>\n      <td>NaN</td>\n      <td>0</td>\n    </tr>\n    <tr>\n      <th>52767</th>\n      <td>6be4704f-b-29bd321d-9</td>\n      <td>08:27:00</td>\n      <td>08:27:00</td>\n      <td>18-2</td>\n      <td>14</td>\n      <td>NaN</td>\n      <td>NaN</td>\n      <td>NaN</td>\n      <td>0</td>\n    </tr>\n    <tr>\n      <th>52768</th>\n      <td>6be4704f-b-29bd321d-9</td>\n      <td>08:27:00</td>\n      <td>08:27:00</td>\n      <td>18-1</td>\n      <td>15</td>\n      <td>NaN</td>\n      <td>NaN</td>\n      <td>NaN</td>\n      <td>0</td>\n    </tr>\n    <tr>\n      <th>52769</th>\n      <td>6be4704f-b-29bd321d-9</td>\n      <td>08:29:00</td>\n      <td>08:29:00</td>\n      <td>15-1</td>\n      <td>16</td>\n      <td>NaN</td>\n      <td>NaN</td>\n      <td>NaN</td>\n      <td>0</td>\n    </tr>\n    <tr>\n      <th>52770</th>\n      <td>6be4704f-b-29bd321d-9</td>\n      <td>08:31:00</td>\n      <td>08:31:00</td>\n      <td>21-10</td>\n      <td>17</td>\n      <td>NaN</td>\n      <td>NaN</td>\n      <td>NaN</td>\n      <td>0</td>\n    </tr>\n    <tr>\n      <th>52771</th>\n      <td>6be4704f-b-29bd321d-9</td>\n      <td>08:31:00</td>\n      <td>08:31:00</td>\n      <td>21-8</td>\n      <td>18</td>\n      <td>NaN</td>\n      <td>NaN</td>\n      <td>NaN</td>\n      <td>0</td>\n    </tr>\n    <tr>\n      <th>52772</th>\n      <td>6be4704f-b-29bd321d-9</td>\n      <td>08:32:00</td>\n      <td>08:32:00</td>\n      <td>21-5</td>\n      <td>19</td>\n      <td>NaN</td>\n      <td>NaN</td>\n      <td>NaN</td>\n      <td>0</td>\n    </tr>\n    <tr>\n      <th>52773</th>\n      <td>6be4704f-b-29bd321d-9</td>\n      <td>08:33:00</td>\n      <td>08:33:00</td>\n      <td>21-4</td>\n      <td>20</td>\n      <td>NaN</td>\n      <td>NaN</td>\n      <td>NaN</td>\n      <td>0</td>\n    </tr>\n    <tr>\n      <th>52774</th>\n      <td>6be4704f-b-29bd321d-9</td>\n      <td>08:34:00</td>\n      <td>08:34:00</td>\n      <td>21-3</td>\n      <td>21</td>\n      <td>NaN</td>\n      <td>NaN</td>\n      <td>NaN</td>\n      <td>0</td>\n    </tr>\n    <tr>\n      <th>52775</th>\n      <td>6be4704f-b-29bd321d-9</td>\n      <td>08:34:00</td>\n      <td>08:34:00</td>\n      <td>21-2</td>\n      <td>22</td>\n      <td>NaN</td>\n      <td>NaN</td>\n      <td>NaN</td>\n      <td>0</td>\n    </tr>\n    <tr>\n      <th>52776</th>\n      <td>6be4704f-b-29bd321d-9</td>\n      <td>08:35:00</td>\n      <td>08:35:00</td>\n      <td>21-1</td>\n      <td>23</td>\n      <td>NaN</td>\n      <td>NaN</td>\n      <td>NaN</td>\n      <td>0</td>\n    </tr>\n    <tr>\n      <th>52777</th>\n      <td>6be4704f-b-29bd321d-9</td>\n      <td>08:35:00</td>\n      <td>08:35:00</td>\n      <td>10-9</td>\n      <td>24</td>\n      <td>NaN</td>\n      <td>NaN</td>\n      <td>NaN</td>\n      <td>0</td>\n    </tr>\n    <tr>\n      <th>52778</th>\n      <td>6be4704f-b-29bd321d-9</td>\n      <td>08:36:00</td>\n      <td>08:36:00</td>\n      <td>10-7</td>\n      <td>25</td>\n      <td>NaN</td>\n      <td>NaN</td>\n      <td>NaN</td>\n      <td>0</td>\n    </tr>\n    <tr>\n      <th>52779</th>\n      <td>6be4704f-b-29bd321d-9</td>\n      <td>08:36:00</td>\n      <td>08:36:00</td>\n      <td>18-8</td>\n      <td>26</td>\n      <td>NaN</td>\n      <td>NaN</td>\n      <td>NaN</td>\n      <td>0</td>\n    </tr>\n    <tr>\n      <th>52780</th>\n      <td>6be4704f-b-29bd321d-9</td>\n      <td>08:37:00</td>\n      <td>08:37:00</td>\n      <td>10-6</td>\n      <td>27</td>\n      <td>NaN</td>\n      <td>NaN</td>\n      <td>NaN</td>\n      <td>0</td>\n    </tr>\n    <tr>\n      <th>52781</th>\n      <td>6be4704f-b-29bd321d-9</td>\n      <td>08:37:00</td>\n      <td>08:37:00</td>\n      <td>10-5</td>\n      <td>28</td>\n      <td>NaN</td>\n      <td>NaN</td>\n      <td>NaN</td>\n      <td>0</td>\n    </tr>\n    <tr>\n      <th>52782</th>\n      <td>6be4704f-b-29bd321d-9</td>\n      <td>08:38:00</td>\n      <td>08:38:00</td>\n      <td>10-3</td>\n      <td>29</td>\n      <td>NaN</td>\n      <td>NaN</td>\n      <td>NaN</td>\n      <td>0</td>\n    </tr>\n    <tr>\n      <th>52783</th>\n      <td>6be4704f-b-29bd321d-9</td>\n      <td>08:40:00</td>\n      <td>08:40:00</td>\n      <td>5-3</td>\n      <td>30</td>\n      <td>NaN</td>\n      <td>NaN</td>\n      <td>NaN</td>\n      <td>0</td>\n    </tr>\n    <tr>\n      <th>52784</th>\n      <td>6be4704f-b-29bd321d-9</td>\n      <td>08:42:00</td>\n      <td>08:42:00</td>\n      <td>75-2</td>\n      <td>31</td>\n      <td>NaN</td>\n      <td>NaN</td>\n      <td>NaN</td>\n      <td>0</td>\n    </tr>\n    <tr>\n      <th>52785</th>\n      <td>6be4704f-b-29bd321d-9</td>\n      <td>08:43:00</td>\n      <td>08:43:00</td>\n      <td>75-1</td>\n      <td>32</td>\n      <td>NaN</td>\n      <td>NaN</td>\n      <td>NaN</td>\n      <td>0</td>\n    </tr>\n    <tr>\n      <th>52786</th>\n      <td>6be4704f-b-29bd321d-9</td>\n      <td>08:45:00</td>\n      <td>08:45:00</td>\n      <td>26-1</td>\n      <td>33</td>\n      <td>NaN</td>\n      <td>NaN</td>\n      <td>NaN</td>\n      <td>0</td>\n    </tr>\n  </tbody>\n</table>\n</div>"
     },
     "execution_count": 651,
     "metadata": {},
     "output_type": "execute_result"
    }
   ],
   "source": [
    "stop_times[stop_times[\"trip_id\"] == trip] # ordenarlo por shape_id, stop_sequence"
   ],
   "metadata": {
    "collapsed": false
   }
  },
  {
   "cell_type": "code",
   "execution_count": 652,
   "outputs": [
    {
     "data": {
      "text/plain": "    stop_id stop_code                                      stop_name  \\\n0     120-1       NaN            Av. Baquedano esq. Gabriela Mistral   \n1     120-5       NaN                Av. Baquedano esq. Pablo Neruda   \n2     120-6       NaN                     Av. Baquedano esq. Cabildo   \n3     120-7       NaN         Av. Baquedano esq. Entrada a Santuario   \n4     107-4       NaN             Erasmo Escala esq. Conde del Maule   \n..      ...       ...                                            ...   \n307    53-1      53-1              Real Audiencia esq. Luis Arellano   \n308    52-1      52-1                 Rosauro Acuña esq. Santa Maria   \n309    14-1       NaN           14-1 - Isabel Riquelme esq. Libertad   \n310   111-1       NaN  Calle Granaderos esq. Demetrio O Higgins Puga   \n311   108-1       NaN         Condel del Maule esq. Calle Las Canoas   \n\n     stop_desc   stop_lat   stop_lon  zone_id  stop_url  location_type  \\\n0          NaN -36.640283 -72.134588      NaN       NaN            NaN   \n1          NaN -36.638495 -72.131816      NaN       NaN            NaN   \n2          NaN -36.637797 -72.130684      NaN       NaN            NaN   \n3          NaN -36.634624 -72.126115      NaN       NaN            NaN   \n4          NaN -36.628075 -72.127618      NaN       NaN            NaN   \n..         ...        ...        ...      ...       ...            ...   \n307        NaN -36.615459 -72.129906      NaN       NaN            NaN   \n308        NaN -36.620359 -72.107313      NaN       NaN            NaN   \n309        NaN -36.607375 -72.099429      NaN       NaN            NaN   \n310        NaN -36.627523 -72.110866      NaN       NaN            NaN   \n311        NaN -36.629428 -72.119016      NaN       NaN            NaN   \n\n     parent_station  wheelchair_boarding  \n0               NaN                  NaN  \n1               NaN                  NaN  \n2               NaN                  NaN  \n3               NaN                  NaN  \n4               NaN                  NaN  \n..              ...                  ...  \n307             NaN                  NaN  \n308             NaN                  NaN  \n309             NaN                  NaN  \n310             NaN                  NaN  \n311             NaN                  NaN  \n\n[312 rows x 11 columns]",
      "text/html": "<div>\n<style scoped>\n    .dataframe tbody tr th:only-of-type {\n        vertical-align: middle;\n    }\n\n    .dataframe tbody tr th {\n        vertical-align: top;\n    }\n\n    .dataframe thead th {\n        text-align: right;\n    }\n</style>\n<table border=\"1\" class=\"dataframe\">\n  <thead>\n    <tr style=\"text-align: right;\">\n      <th></th>\n      <th>stop_id</th>\n      <th>stop_code</th>\n      <th>stop_name</th>\n      <th>stop_desc</th>\n      <th>stop_lat</th>\n      <th>stop_lon</th>\n      <th>zone_id</th>\n      <th>stop_url</th>\n      <th>location_type</th>\n      <th>parent_station</th>\n      <th>wheelchair_boarding</th>\n    </tr>\n  </thead>\n  <tbody>\n    <tr>\n      <th>0</th>\n      <td>120-1</td>\n      <td>NaN</td>\n      <td>Av. Baquedano esq. Gabriela Mistral</td>\n      <td>NaN</td>\n      <td>-36.640283</td>\n      <td>-72.134588</td>\n      <td>NaN</td>\n      <td>NaN</td>\n      <td>NaN</td>\n      <td>NaN</td>\n      <td>NaN</td>\n    </tr>\n    <tr>\n      <th>1</th>\n      <td>120-5</td>\n      <td>NaN</td>\n      <td>Av. Baquedano esq. Pablo Neruda</td>\n      <td>NaN</td>\n      <td>-36.638495</td>\n      <td>-72.131816</td>\n      <td>NaN</td>\n      <td>NaN</td>\n      <td>NaN</td>\n      <td>NaN</td>\n      <td>NaN</td>\n    </tr>\n    <tr>\n      <th>2</th>\n      <td>120-6</td>\n      <td>NaN</td>\n      <td>Av. Baquedano esq. Cabildo</td>\n      <td>NaN</td>\n      <td>-36.637797</td>\n      <td>-72.130684</td>\n      <td>NaN</td>\n      <td>NaN</td>\n      <td>NaN</td>\n      <td>NaN</td>\n      <td>NaN</td>\n    </tr>\n    <tr>\n      <th>3</th>\n      <td>120-7</td>\n      <td>NaN</td>\n      <td>Av. Baquedano esq. Entrada a Santuario</td>\n      <td>NaN</td>\n      <td>-36.634624</td>\n      <td>-72.126115</td>\n      <td>NaN</td>\n      <td>NaN</td>\n      <td>NaN</td>\n      <td>NaN</td>\n      <td>NaN</td>\n    </tr>\n    <tr>\n      <th>4</th>\n      <td>107-4</td>\n      <td>NaN</td>\n      <td>Erasmo Escala esq. Conde del Maule</td>\n      <td>NaN</td>\n      <td>-36.628075</td>\n      <td>-72.127618</td>\n      <td>NaN</td>\n      <td>NaN</td>\n      <td>NaN</td>\n      <td>NaN</td>\n      <td>NaN</td>\n    </tr>\n    <tr>\n      <th>...</th>\n      <td>...</td>\n      <td>...</td>\n      <td>...</td>\n      <td>...</td>\n      <td>...</td>\n      <td>...</td>\n      <td>...</td>\n      <td>...</td>\n      <td>...</td>\n      <td>...</td>\n      <td>...</td>\n    </tr>\n    <tr>\n      <th>307</th>\n      <td>53-1</td>\n      <td>53-1</td>\n      <td>Real Audiencia esq. Luis Arellano</td>\n      <td>NaN</td>\n      <td>-36.615459</td>\n      <td>-72.129906</td>\n      <td>NaN</td>\n      <td>NaN</td>\n      <td>NaN</td>\n      <td>NaN</td>\n      <td>NaN</td>\n    </tr>\n    <tr>\n      <th>308</th>\n      <td>52-1</td>\n      <td>52-1</td>\n      <td>Rosauro Acuña esq. Santa Maria</td>\n      <td>NaN</td>\n      <td>-36.620359</td>\n      <td>-72.107313</td>\n      <td>NaN</td>\n      <td>NaN</td>\n      <td>NaN</td>\n      <td>NaN</td>\n      <td>NaN</td>\n    </tr>\n    <tr>\n      <th>309</th>\n      <td>14-1</td>\n      <td>NaN</td>\n      <td>14-1 - Isabel Riquelme esq. Libertad</td>\n      <td>NaN</td>\n      <td>-36.607375</td>\n      <td>-72.099429</td>\n      <td>NaN</td>\n      <td>NaN</td>\n      <td>NaN</td>\n      <td>NaN</td>\n      <td>NaN</td>\n    </tr>\n    <tr>\n      <th>310</th>\n      <td>111-1</td>\n      <td>NaN</td>\n      <td>Calle Granaderos esq. Demetrio O Higgins Puga</td>\n      <td>NaN</td>\n      <td>-36.627523</td>\n      <td>-72.110866</td>\n      <td>NaN</td>\n      <td>NaN</td>\n      <td>NaN</td>\n      <td>NaN</td>\n      <td>NaN</td>\n    </tr>\n    <tr>\n      <th>311</th>\n      <td>108-1</td>\n      <td>NaN</td>\n      <td>Condel del Maule esq. Calle Las Canoas</td>\n      <td>NaN</td>\n      <td>-36.629428</td>\n      <td>-72.119016</td>\n      <td>NaN</td>\n      <td>NaN</td>\n      <td>NaN</td>\n      <td>NaN</td>\n      <td>NaN</td>\n    </tr>\n  </tbody>\n</table>\n<p>312 rows × 11 columns</p>\n</div>"
     },
     "execution_count": 652,
     "metadata": {},
     "output_type": "execute_result"
    }
   ],
   "source": [
    "stops"
   ],
   "metadata": {
    "collapsed": false
   }
  },
  {
   "cell_type": "code",
   "execution_count": 653,
   "outputs": [
    {
     "data": {
      "text/plain": "    stop_id stop_code                         stop_name  stop_desc   stop_lat  \\\n180    84-3      84-3  Barros Arana esq. Las Margaritas        NaN -36.631039   \n\n     stop_lon  zone_id  stop_url  location_type  parent_station  \\\n180 -72.10113      NaN       NaN            NaN             NaN   \n\n     wheelchair_boarding  \n180                  NaN  ",
      "text/html": "<div>\n<style scoped>\n    .dataframe tbody tr th:only-of-type {\n        vertical-align: middle;\n    }\n\n    .dataframe tbody tr th {\n        vertical-align: top;\n    }\n\n    .dataframe thead th {\n        text-align: right;\n    }\n</style>\n<table border=\"1\" class=\"dataframe\">\n  <thead>\n    <tr style=\"text-align: right;\">\n      <th></th>\n      <th>stop_id</th>\n      <th>stop_code</th>\n      <th>stop_name</th>\n      <th>stop_desc</th>\n      <th>stop_lat</th>\n      <th>stop_lon</th>\n      <th>zone_id</th>\n      <th>stop_url</th>\n      <th>location_type</th>\n      <th>parent_station</th>\n      <th>wheelchair_boarding</th>\n    </tr>\n  </thead>\n  <tbody>\n    <tr>\n      <th>180</th>\n      <td>84-3</td>\n      <td>84-3</td>\n      <td>Barros Arana esq. Las Margaritas</td>\n      <td>NaN</td>\n      <td>-36.631039</td>\n      <td>-72.10113</td>\n      <td>NaN</td>\n      <td>NaN</td>\n      <td>NaN</td>\n      <td>NaN</td>\n      <td>NaN</td>\n    </tr>\n  </tbody>\n</table>\n</div>"
     },
     "execution_count": 653,
     "metadata": {},
     "output_type": "execute_result"
    }
   ],
   "source": [
    "stops[stops[\"stop_id\"] == \"84-3\"]"
   ],
   "metadata": {
    "collapsed": false
   }
  },
  {
   "cell_type": "code",
   "execution_count": 654,
   "outputs": [],
   "source": [
    "stops_list = stop_times[stop_times[\"trip_id\"] == trip][\"stop_id\"].tolist()"
   ],
   "metadata": {
    "collapsed": false
   }
  },
  {
   "cell_type": "code",
   "execution_count": 655,
   "outputs": [
    {
     "data": {
      "text/plain": "    stop_id                                         stop_name   stop_lon  \\\n16     13-2                            5 De Abril esq. Maipon -72.102280   \n21     18-1                   Av. Libertad esq. Yerbas Buenas -72.093790   \n51     18-3                      Av. Libertad esq. 5 De Abril -72.100419   \n55     21-8                    Maipon esq. Mercado De Chillan -72.101484   \n58     21-5                      Maipon esq. 18 De Septiembre -72.105441   \n59     21-4                         Maipon esq. Claudio Arrau -72.107932   \n60     21-3                     Maipon esq. Plaza La Victoria -72.109066   \n79     15-1                   Independencia esq. Constitucion -72.096833   \n81     21-2                                 Maipon esq. Rosas -72.111037   \n82     21-1                            Maipon esq. Av. Brasil -72.112352   \n89     10-9                          Av. Brasil esq. El Roble -72.112431   \n90     10-7                      Av. Brasil esq. Constitucion -72.112025   \n91     18-8                      Av. Libertad esq. Av. Brasil -72.111382   \n95     18-2  Av. Libertad esq. Colegio La Purisima Concepcion -72.096419   \n102    50-2                         Nueva Sur esq. Los Nardos -72.099077   \n103    50-4                        Nueva Sur esq. Los Espinos -72.103577   \n105    13-1                       5 De Abril esq. Arturo Prat -72.102655   \n123   21-10                          Maipon esq. Banco Estado -72.099800   \n155    10-6                            Av. Brasil esq. Bulnes -72.111067   \n156    10-5                   Av. Brasil esq. Vega De Saldias -72.110643   \n157    10-3                            Av. Brasil esq. Gamero -72.110163   \n180    84-3                  Barros Arana esq. Las Margaritas -72.101130   \n181    84-4             Barros Arana esq. Alberto Orrego Luco -72.101385   \n182   114-1                   Huambal esq. Av. Reino de Chile -72.107231   \n183    81-2                      Los Espinos esq. Los Espinos -72.103139   \n184    84-2                       Barros Arana esq. Rio Viejo -72.099689   \n185     8-1                         Barros Arana esq. Uno Sur -72.098216   \n186    82-1    Angel Custodio Oyarzun esq. Rodrigo De Quiroga -72.099270   \n187    51-1                    Rodrigo Quiroga esq. Av. Chile -72.101240   \n188     5-3                    Av. Ecuador esq. Av. O'Higgins -72.105851   \n189    75-2            Av. Francia esq. Padre Alberto Hurtado -72.101694   \n190    75-1                         Av. Francia esq. Porvenir -72.101970   \n191    26-1       Manuel Rodriguez esq. Padre Alberto Hurtado -72.096609   \n\n      stop_lat  \n16  -36.610890  \n21  -36.608391  \n51  -36.606769  \n55  -36.610449  \n58  -36.609509  \n59  -36.608909  \n60  -36.608579  \n79  -36.609268  \n81  -36.608129  \n82  -36.607799  \n89  -36.606797  \n90  -36.605459  \n91  -36.604088  \n95  -36.607745  \n102 -36.630029  \n103 -36.629879  \n105 -36.611869  \n123 -36.610769  \n155 -36.602969  \n156 -36.601759  \n157 -36.600549  \n180 -36.631039  \n181 -36.634659  \n182 -36.630329  \n183 -36.627539  \n184 -36.626809  \n185 -36.624369  \n186 -36.622189  \n187 -36.621229  \n188 -36.598689  \n189 -36.597469  \n190 -36.595479  \n191 -36.592405  ",
      "text/html": "<div>\n<style scoped>\n    .dataframe tbody tr th:only-of-type {\n        vertical-align: middle;\n    }\n\n    .dataframe tbody tr th {\n        vertical-align: top;\n    }\n\n    .dataframe thead th {\n        text-align: right;\n    }\n</style>\n<table border=\"1\" class=\"dataframe\">\n  <thead>\n    <tr style=\"text-align: right;\">\n      <th></th>\n      <th>stop_id</th>\n      <th>stop_name</th>\n      <th>stop_lon</th>\n      <th>stop_lat</th>\n    </tr>\n  </thead>\n  <tbody>\n    <tr>\n      <th>16</th>\n      <td>13-2</td>\n      <td>5 De Abril esq. Maipon</td>\n      <td>-72.102280</td>\n      <td>-36.610890</td>\n    </tr>\n    <tr>\n      <th>21</th>\n      <td>18-1</td>\n      <td>Av. Libertad esq. Yerbas Buenas</td>\n      <td>-72.093790</td>\n      <td>-36.608391</td>\n    </tr>\n    <tr>\n      <th>51</th>\n      <td>18-3</td>\n      <td>Av. Libertad esq. 5 De Abril</td>\n      <td>-72.100419</td>\n      <td>-36.606769</td>\n    </tr>\n    <tr>\n      <th>55</th>\n      <td>21-8</td>\n      <td>Maipon esq. Mercado De Chillan</td>\n      <td>-72.101484</td>\n      <td>-36.610449</td>\n    </tr>\n    <tr>\n      <th>58</th>\n      <td>21-5</td>\n      <td>Maipon esq. 18 De Septiembre</td>\n      <td>-72.105441</td>\n      <td>-36.609509</td>\n    </tr>\n    <tr>\n      <th>59</th>\n      <td>21-4</td>\n      <td>Maipon esq. Claudio Arrau</td>\n      <td>-72.107932</td>\n      <td>-36.608909</td>\n    </tr>\n    <tr>\n      <th>60</th>\n      <td>21-3</td>\n      <td>Maipon esq. Plaza La Victoria</td>\n      <td>-72.109066</td>\n      <td>-36.608579</td>\n    </tr>\n    <tr>\n      <th>79</th>\n      <td>15-1</td>\n      <td>Independencia esq. Constitucion</td>\n      <td>-72.096833</td>\n      <td>-36.609268</td>\n    </tr>\n    <tr>\n      <th>81</th>\n      <td>21-2</td>\n      <td>Maipon esq. Rosas</td>\n      <td>-72.111037</td>\n      <td>-36.608129</td>\n    </tr>\n    <tr>\n      <th>82</th>\n      <td>21-1</td>\n      <td>Maipon esq. Av. Brasil</td>\n      <td>-72.112352</td>\n      <td>-36.607799</td>\n    </tr>\n    <tr>\n      <th>89</th>\n      <td>10-9</td>\n      <td>Av. Brasil esq. El Roble</td>\n      <td>-72.112431</td>\n      <td>-36.606797</td>\n    </tr>\n    <tr>\n      <th>90</th>\n      <td>10-7</td>\n      <td>Av. Brasil esq. Constitucion</td>\n      <td>-72.112025</td>\n      <td>-36.605459</td>\n    </tr>\n    <tr>\n      <th>91</th>\n      <td>18-8</td>\n      <td>Av. Libertad esq. Av. Brasil</td>\n      <td>-72.111382</td>\n      <td>-36.604088</td>\n    </tr>\n    <tr>\n      <th>95</th>\n      <td>18-2</td>\n      <td>Av. Libertad esq. Colegio La Purisima Concepcion</td>\n      <td>-72.096419</td>\n      <td>-36.607745</td>\n    </tr>\n    <tr>\n      <th>102</th>\n      <td>50-2</td>\n      <td>Nueva Sur esq. Los Nardos</td>\n      <td>-72.099077</td>\n      <td>-36.630029</td>\n    </tr>\n    <tr>\n      <th>103</th>\n      <td>50-4</td>\n      <td>Nueva Sur esq. Los Espinos</td>\n      <td>-72.103577</td>\n      <td>-36.629879</td>\n    </tr>\n    <tr>\n      <th>105</th>\n      <td>13-1</td>\n      <td>5 De Abril esq. Arturo Prat</td>\n      <td>-72.102655</td>\n      <td>-36.611869</td>\n    </tr>\n    <tr>\n      <th>123</th>\n      <td>21-10</td>\n      <td>Maipon esq. Banco Estado</td>\n      <td>-72.099800</td>\n      <td>-36.610769</td>\n    </tr>\n    <tr>\n      <th>155</th>\n      <td>10-6</td>\n      <td>Av. Brasil esq. Bulnes</td>\n      <td>-72.111067</td>\n      <td>-36.602969</td>\n    </tr>\n    <tr>\n      <th>156</th>\n      <td>10-5</td>\n      <td>Av. Brasil esq. Vega De Saldias</td>\n      <td>-72.110643</td>\n      <td>-36.601759</td>\n    </tr>\n    <tr>\n      <th>157</th>\n      <td>10-3</td>\n      <td>Av. Brasil esq. Gamero</td>\n      <td>-72.110163</td>\n      <td>-36.600549</td>\n    </tr>\n    <tr>\n      <th>180</th>\n      <td>84-3</td>\n      <td>Barros Arana esq. Las Margaritas</td>\n      <td>-72.101130</td>\n      <td>-36.631039</td>\n    </tr>\n    <tr>\n      <th>181</th>\n      <td>84-4</td>\n      <td>Barros Arana esq. Alberto Orrego Luco</td>\n      <td>-72.101385</td>\n      <td>-36.634659</td>\n    </tr>\n    <tr>\n      <th>182</th>\n      <td>114-1</td>\n      <td>Huambal esq. Av. Reino de Chile</td>\n      <td>-72.107231</td>\n      <td>-36.630329</td>\n    </tr>\n    <tr>\n      <th>183</th>\n      <td>81-2</td>\n      <td>Los Espinos esq. Los Espinos</td>\n      <td>-72.103139</td>\n      <td>-36.627539</td>\n    </tr>\n    <tr>\n      <th>184</th>\n      <td>84-2</td>\n      <td>Barros Arana esq. Rio Viejo</td>\n      <td>-72.099689</td>\n      <td>-36.626809</td>\n    </tr>\n    <tr>\n      <th>185</th>\n      <td>8-1</td>\n      <td>Barros Arana esq. Uno Sur</td>\n      <td>-72.098216</td>\n      <td>-36.624369</td>\n    </tr>\n    <tr>\n      <th>186</th>\n      <td>82-1</td>\n      <td>Angel Custodio Oyarzun esq. Rodrigo De Quiroga</td>\n      <td>-72.099270</td>\n      <td>-36.622189</td>\n    </tr>\n    <tr>\n      <th>187</th>\n      <td>51-1</td>\n      <td>Rodrigo Quiroga esq. Av. Chile</td>\n      <td>-72.101240</td>\n      <td>-36.621229</td>\n    </tr>\n    <tr>\n      <th>188</th>\n      <td>5-3</td>\n      <td>Av. Ecuador esq. Av. O'Higgins</td>\n      <td>-72.105851</td>\n      <td>-36.598689</td>\n    </tr>\n    <tr>\n      <th>189</th>\n      <td>75-2</td>\n      <td>Av. Francia esq. Padre Alberto Hurtado</td>\n      <td>-72.101694</td>\n      <td>-36.597469</td>\n    </tr>\n    <tr>\n      <th>190</th>\n      <td>75-1</td>\n      <td>Av. Francia esq. Porvenir</td>\n      <td>-72.101970</td>\n      <td>-36.595479</td>\n    </tr>\n    <tr>\n      <th>191</th>\n      <td>26-1</td>\n      <td>Manuel Rodriguez esq. Padre Alberto Hurtado</td>\n      <td>-72.096609</td>\n      <td>-36.592405</td>\n    </tr>\n  </tbody>\n</table>\n</div>"
     },
     "execution_count": 655,
     "metadata": {},
     "output_type": "execute_result"
    }
   ],
   "source": [
    "stops_lat_lon = stops[stops[\"stop_id\"].isin(stops_list)][['stop_id', 'stop_name', 'stop_lon', 'stop_lat']]\n",
    "stops_lat_lon"
   ],
   "metadata": {
    "collapsed": false
   }
  },
  {
   "cell_type": "code",
   "execution_count": 656,
   "outputs": [
    {
     "data": {
      "text/plain": "   stop_id                                         stop_name     shape_pt_x  \\\n0     13-2                            5 De Abril esq. Maipon  759167.731555   \n1     18-1                   Av. Libertad esq. Yerbas Buenas  759935.649181   \n2     18-3                      Av. Libertad esq. 5 De Abril  759348.030818   \n3     21-8                    Maipon esq. Mercado De Chillan  759240.419944   \n4     21-5                      Maipon esq. 18 De Septiembre  758889.567431   \n5     21-4                         Maipon esq. Claudio Arrau  758668.723021   \n6     21-3                     Maipon esq. Plaza La Victoria  758568.374957   \n7     15-1                   Independencia esq. Constitucion  759660.467817   \n8     21-2                                 Maipon esq. Rosas  758393.545788   \n9     21-1                            Maipon esq. Av. Brasil  758277.002581   \n10    10-9                          Av. Brasil esq. El Roble  758273.279386   \n11    10-7                      Av. Brasil esq. Constitucion  758314.068725   \n12    18-8                      Av. Libertad esq. Av. Brasil  758376.173356   \n13    18-2  Av. Libertad esq. Colegio La Purisima Concepcion  759702.617229   \n14    50-2                         Nueva Sur esq. Los Nardos  759390.076196   \n15    50-4                        Nueva Sur esq. Los Espinos  758988.105321   \n16    13-1                       5 De Abril esq. Arturo Prat  759130.904698   \n17   21-10                          Maipon esq. Banco Estado  759389.999802   \n18    10-6                            Av. Brasil esq. Bulnes  758408.092312   \n19    10-5                   Av. Brasil esq. Vega De Saldias  758450.068212   \n20    10-3                            Av. Brasil esq. Gamero  758497.055648   \n21    84-3                  Barros Arana esq. Las Margaritas  759203.072602   \n22    84-4             Barros Arana esq. Alberto Orrego Luco  759168.129627   \n23   114-1                   Huambal esq. Av. Reino de Chile  758659.801980   \n24    81-2                      Los Espinos esq. Los Espinos  759035.119033   \n25    84-2                       Barros Arana esq. Rio Viejo  759346.140402   \n26     8-1                         Barros Arana esq. Uno Sur  759486.076856   \n27    82-1    Angel Custodio Oyarzun esq. Rodrigo De Quiroga  759399.114060   \n28    51-1                    Rodrigo Quiroga esq. Av. Chile  759226.120038   \n29     5-3                    Av. Ecuador esq. Av. O'Higgins  758889.082565   \n30    75-2            Av. Francia esq. Padre Alberto Hurtado  759265.115653   \n31    75-1                         Av. Francia esq. Porvenir  759247.084827   \n32    26-1       Manuel Rodriguez esq. Padre Alberto Hurtado  759737.093124   \n\n      shape_pt_y  \n0   5.944381e+06  \n1   5.944635e+06  \n2   5.944833e+06  \n3   5.944428e+06  \n4   5.944543e+06  \n5   5.944616e+06  \n6   5.944656e+06  \n7   5.944546e+06  \n8   5.944711e+06  \n9   5.944751e+06  \n10  5.944863e+06  \n11  5.945010e+06  \n12  5.945160e+06  \n13  5.944714e+06  \n14  5.942249e+06  \n15  5.942277e+06  \n16  5.944273e+06  \n17  5.944388e+06  \n18  5.945284e+06  \n19  5.945417e+06  \n20  5.945550e+06  \n21  5.942142e+06  \n22  5.941741e+06  \n23  5.942237e+06  \n24  5.942536e+06  \n25  5.942608e+06  \n26  5.942874e+06  \n27  5.943119e+06  \n28  5.943231e+06  \n29  5.945745e+06  \n30  5.945869e+06  \n31  5.946090e+06  \n32  5.946417e+06  ",
      "text/html": "<div>\n<style scoped>\n    .dataframe tbody tr th:only-of-type {\n        vertical-align: middle;\n    }\n\n    .dataframe tbody tr th {\n        vertical-align: top;\n    }\n\n    .dataframe thead th {\n        text-align: right;\n    }\n</style>\n<table border=\"1\" class=\"dataframe\">\n  <thead>\n    <tr style=\"text-align: right;\">\n      <th></th>\n      <th>stop_id</th>\n      <th>stop_name</th>\n      <th>shape_pt_x</th>\n      <th>shape_pt_y</th>\n    </tr>\n  </thead>\n  <tbody>\n    <tr>\n      <th>0</th>\n      <td>13-2</td>\n      <td>5 De Abril esq. Maipon</td>\n      <td>759167.731555</td>\n      <td>5.944381e+06</td>\n    </tr>\n    <tr>\n      <th>1</th>\n      <td>18-1</td>\n      <td>Av. Libertad esq. Yerbas Buenas</td>\n      <td>759935.649181</td>\n      <td>5.944635e+06</td>\n    </tr>\n    <tr>\n      <th>2</th>\n      <td>18-3</td>\n      <td>Av. Libertad esq. 5 De Abril</td>\n      <td>759348.030818</td>\n      <td>5.944833e+06</td>\n    </tr>\n    <tr>\n      <th>3</th>\n      <td>21-8</td>\n      <td>Maipon esq. Mercado De Chillan</td>\n      <td>759240.419944</td>\n      <td>5.944428e+06</td>\n    </tr>\n    <tr>\n      <th>4</th>\n      <td>21-5</td>\n      <td>Maipon esq. 18 De Septiembre</td>\n      <td>758889.567431</td>\n      <td>5.944543e+06</td>\n    </tr>\n    <tr>\n      <th>5</th>\n      <td>21-4</td>\n      <td>Maipon esq. Claudio Arrau</td>\n      <td>758668.723021</td>\n      <td>5.944616e+06</td>\n    </tr>\n    <tr>\n      <th>6</th>\n      <td>21-3</td>\n      <td>Maipon esq. Plaza La Victoria</td>\n      <td>758568.374957</td>\n      <td>5.944656e+06</td>\n    </tr>\n    <tr>\n      <th>7</th>\n      <td>15-1</td>\n      <td>Independencia esq. Constitucion</td>\n      <td>759660.467817</td>\n      <td>5.944546e+06</td>\n    </tr>\n    <tr>\n      <th>8</th>\n      <td>21-2</td>\n      <td>Maipon esq. Rosas</td>\n      <td>758393.545788</td>\n      <td>5.944711e+06</td>\n    </tr>\n    <tr>\n      <th>9</th>\n      <td>21-1</td>\n      <td>Maipon esq. Av. Brasil</td>\n      <td>758277.002581</td>\n      <td>5.944751e+06</td>\n    </tr>\n    <tr>\n      <th>10</th>\n      <td>10-9</td>\n      <td>Av. Brasil esq. El Roble</td>\n      <td>758273.279386</td>\n      <td>5.944863e+06</td>\n    </tr>\n    <tr>\n      <th>11</th>\n      <td>10-7</td>\n      <td>Av. Brasil esq. Constitucion</td>\n      <td>758314.068725</td>\n      <td>5.945010e+06</td>\n    </tr>\n    <tr>\n      <th>12</th>\n      <td>18-8</td>\n      <td>Av. Libertad esq. Av. Brasil</td>\n      <td>758376.173356</td>\n      <td>5.945160e+06</td>\n    </tr>\n    <tr>\n      <th>13</th>\n      <td>18-2</td>\n      <td>Av. Libertad esq. Colegio La Purisima Concepcion</td>\n      <td>759702.617229</td>\n      <td>5.944714e+06</td>\n    </tr>\n    <tr>\n      <th>14</th>\n      <td>50-2</td>\n      <td>Nueva Sur esq. Los Nardos</td>\n      <td>759390.076196</td>\n      <td>5.942249e+06</td>\n    </tr>\n    <tr>\n      <th>15</th>\n      <td>50-4</td>\n      <td>Nueva Sur esq. Los Espinos</td>\n      <td>758988.105321</td>\n      <td>5.942277e+06</td>\n    </tr>\n    <tr>\n      <th>16</th>\n      <td>13-1</td>\n      <td>5 De Abril esq. Arturo Prat</td>\n      <td>759130.904698</td>\n      <td>5.944273e+06</td>\n    </tr>\n    <tr>\n      <th>17</th>\n      <td>21-10</td>\n      <td>Maipon esq. Banco Estado</td>\n      <td>759389.999802</td>\n      <td>5.944388e+06</td>\n    </tr>\n    <tr>\n      <th>18</th>\n      <td>10-6</td>\n      <td>Av. Brasil esq. Bulnes</td>\n      <td>758408.092312</td>\n      <td>5.945284e+06</td>\n    </tr>\n    <tr>\n      <th>19</th>\n      <td>10-5</td>\n      <td>Av. Brasil esq. Vega De Saldias</td>\n      <td>758450.068212</td>\n      <td>5.945417e+06</td>\n    </tr>\n    <tr>\n      <th>20</th>\n      <td>10-3</td>\n      <td>Av. Brasil esq. Gamero</td>\n      <td>758497.055648</td>\n      <td>5.945550e+06</td>\n    </tr>\n    <tr>\n      <th>21</th>\n      <td>84-3</td>\n      <td>Barros Arana esq. Las Margaritas</td>\n      <td>759203.072602</td>\n      <td>5.942142e+06</td>\n    </tr>\n    <tr>\n      <th>22</th>\n      <td>84-4</td>\n      <td>Barros Arana esq. Alberto Orrego Luco</td>\n      <td>759168.129627</td>\n      <td>5.941741e+06</td>\n    </tr>\n    <tr>\n      <th>23</th>\n      <td>114-1</td>\n      <td>Huambal esq. Av. Reino de Chile</td>\n      <td>758659.801980</td>\n      <td>5.942237e+06</td>\n    </tr>\n    <tr>\n      <th>24</th>\n      <td>81-2</td>\n      <td>Los Espinos esq. Los Espinos</td>\n      <td>759035.119033</td>\n      <td>5.942536e+06</td>\n    </tr>\n    <tr>\n      <th>25</th>\n      <td>84-2</td>\n      <td>Barros Arana esq. Rio Viejo</td>\n      <td>759346.140402</td>\n      <td>5.942608e+06</td>\n    </tr>\n    <tr>\n      <th>26</th>\n      <td>8-1</td>\n      <td>Barros Arana esq. Uno Sur</td>\n      <td>759486.076856</td>\n      <td>5.942874e+06</td>\n    </tr>\n    <tr>\n      <th>27</th>\n      <td>82-1</td>\n      <td>Angel Custodio Oyarzun esq. Rodrigo De Quiroga</td>\n      <td>759399.114060</td>\n      <td>5.943119e+06</td>\n    </tr>\n    <tr>\n      <th>28</th>\n      <td>51-1</td>\n      <td>Rodrigo Quiroga esq. Av. Chile</td>\n      <td>759226.120038</td>\n      <td>5.943231e+06</td>\n    </tr>\n    <tr>\n      <th>29</th>\n      <td>5-3</td>\n      <td>Av. Ecuador esq. Av. O'Higgins</td>\n      <td>758889.082565</td>\n      <td>5.945745e+06</td>\n    </tr>\n    <tr>\n      <th>30</th>\n      <td>75-2</td>\n      <td>Av. Francia esq. Padre Alberto Hurtado</td>\n      <td>759265.115653</td>\n      <td>5.945869e+06</td>\n    </tr>\n    <tr>\n      <th>31</th>\n      <td>75-1</td>\n      <td>Av. Francia esq. Porvenir</td>\n      <td>759247.084827</td>\n      <td>5.946090e+06</td>\n    </tr>\n    <tr>\n      <th>32</th>\n      <td>26-1</td>\n      <td>Manuel Rodriguez esq. Padre Alberto Hurtado</td>\n      <td>759737.093124</td>\n      <td>5.946417e+06</td>\n    </tr>\n  </tbody>\n</table>\n</div>"
     },
     "execution_count": 656,
     "metadata": {},
     "output_type": "execute_result"
    }
   ],
   "source": [
    "stops_utm = []\n",
    "\n",
    "for i in range(len(stops_lat_lon.axes[0])):\n",
    "    stop_id = stops_lat_lon.iloc[i,0]\n",
    "    stop_name = stops_lat_lon.iloc[i,1]\n",
    "    x,y = __latlon_point_to_utm(stops_lat_lon.iloc[i,2], stops_lat_lon.iloc[i,3])\n",
    "    stops_utm += [{'stop_id' : stop_id, 'stop_name' : stop_name ,'shape_pt_x': x, 'shape_pt_y' : y}]\n",
    "\n",
    "stops_utm = pd.DataFrame(stops_utm)\n",
    "stops_utm"
   ],
   "metadata": {
    "collapsed": false
   }
  },
  {
   "cell_type": "code",
   "execution_count": 657,
   "outputs": [
    {
     "name": "stderr",
     "output_type": "stream",
     "text": [
      "C:\\Users\\diego\\AppData\\Local\\Programs\\Python\\Python39\\lib\\site-packages\\shapely\\linear.py:90: RuntimeWarning:\n",
      "\n",
      "invalid value encountered in line_locate_point\n",
      "\n"
     ]
    },
    {
     "data": {
      "text/plain": "[(759157.1620202775, 5944384.543746402),\n (759938.0594755015, 5944642.504768498),\n (759350.7271876257, 5944841.49045551),\n (759240.3196545021, 5944427.5516212275),\n (758889.3691152049, 5944542.239449294),\n (758668.4970288343, 5944615.4623868195),\n (758566.262214841, 5944649.427057123),\n (759663.7100186555, 5944545.24232968),\n (758392.0777477303, 5944706.557017364),\n (758275.6784102101, 5944747.542950828),\n (758262.3363664894, 5944866.33926255),\n (758311.5319087191, 5945010.862391237),\n (758365.5111154539, 5945164.181771751),\n (759705.2149871812, 5944721.84555305),\n (759389.4153354382, 5942243.057184207),\n (758988.6591594962, 5942273.456980961),\n (759121.6015720753, 5944276.499788316),\n (759386.4186313485, 5944377.546815207),\n (758403.6281267512, 5945285.1163520925),\n (758447.9034463768, 5945417.591217726),\n (758490.9542970689, 5945551.764830564),\n (759204.8579963348, 5942141.909855844),\n (759157.170937732, 5941744.963125743),\n (758654.3497650049, 5942238.5488729505),\n (759028.3851112439, 5942536.963948787),\n (759343.2345563432, 5942608.816510693),\n (759476.7361414633, 5942879.394220513),\n (759396.3943694455, 5943119.982807416),\n (759223.0335356907, 5943225.065445281),\n (758893.0557260659, 5945755.658650913),\n (759262.5999295558, 5945868.532944163),\n (759241.9356380898, 5946089.867201031),\n (759737.2149788142, 5946417.192532718)]"
     },
     "execution_count": 657,
     "metadata": {},
     "output_type": "execute_result"
    }
   ],
   "source": [
    "ls = LineString(curve_utm)\n",
    "\n",
    "stops_in_shape = []\n",
    "asd = []\n",
    "\n",
    "for i in range(len(stops_lat_lon.axes[0])):\n",
    "\n",
    "    stop_id = stops_utm.iloc[i,0]\n",
    "    stop_name = stops_utm.iloc[i,1]\n",
    "\n",
    "    pt = Point(stops_utm.iloc[i][2], stops_utm.iloc[i][3])\n",
    "\n",
    "    prj =  ls.interpolate(ls.project(pt))\n",
    "    asd += [(prj.x, prj.y)]\n",
    "\n",
    "    lon, lat = __utm_point_to_lonlat(prj.x, prj.y, 18, 'H')\n",
    "\n",
    "    stops_in_shape += [{'stop_id' : stop_id, 'stop_name' : stop_name, 'shape_pt_lon' : lon,\n",
    "                        'shape_pt_lat': lat}]\n",
    "\n",
    "stops_in_shape = pd.DataFrame(stops_in_shape)\n",
    "stops_in_shape\n",
    "asd"
   ],
   "metadata": {
    "collapsed": false
   }
  },
  {
   "cell_type": "code",
   "execution_count": 658,
   "outputs": [
    {
     "data": {
      "text/plain": "(756180.052604152, 5941206.187597305, 18, 'H')"
     },
     "execution_count": 658,
     "metadata": {},
     "output_type": "execute_result"
    }
   ],
   "source": [
    "import utm\n",
    "utm.from_latlon(-36.640283, -72.134588)"
   ],
   "metadata": {
    "collapsed": false
   }
  },
  {
   "cell_type": "code",
   "execution_count": 659,
   "outputs": [],
   "source": [
    "def generate_stop_matching_evaluation_map(shape_, stops_, filename, auto_open=False):\n",
    "    mapbox_access_token = 'pk.eyJ1IjoidHJhbnNhcHAiLCJhIjoiY2w4czhubzh3MXhwajNwbzgwM2dzM3R6bCJ9.vsA2xogBFcRYH2DbwDOb4w'\n",
    "\n",
    "    # all stops\n",
    "    fig = px.scatter_mapbox(stops_, lat='shape_pt_lat', lon='shape_pt_lon', hover_name='stop_name',\n",
    "                            color_discrete_sequence=['yellow'], hover_data=['stop_id', 'stop_name'],\n",
    "                            zoom=11, height=700, title=\"stops\")\n",
    "\n",
    "    # shape\n",
    "    fig2 = px.line_mapbox(shape_, lat='shape_pt_lat', lon='shape_pt_lon', color_discrete_sequence=['blue'])\n",
    "\n",
    "    fig.add_trace(fig2.data[0])\n",
    "\n",
    "    fig.update_layout(mapbox_style=\"dark\", mapbox_accesstoken=mapbox_access_token)\n",
    "    fig.update_layout(margin={\"r\": 0, \"t\": 0, \"l\": 0, \"b\": 0})\n",
    "    fig.show()\n",
    "    fig.write_html(os.path.join(TMP_PATH, '{0}.html'.format(filename)), auto_open=auto_open)"
   ],
   "metadata": {
    "collapsed": false
   }
  },
  {
   "cell_type": "code",
   "execution_count": 660,
   "outputs": [],
   "source": [
    "#TO DO: investigar variar flechas para representar direcciones"
   ],
   "metadata": {
    "collapsed": false
   }
  },
  {
   "cell_type": "markdown",
   "source": [],
   "metadata": {
    "collapsed": false
   }
  },
  {
   "cell_type": "code",
   "execution_count": 661,
   "outputs": [
    {
     "data": {
      "application/vnd.plotly.v1+json": {
       "data": [
        {
         "customdata": [
          [
           "13-2",
           "5 De Abril esq. Maipon"
          ],
          [
           "18-1",
           "Av. Libertad esq. Yerbas Buenas"
          ],
          [
           "18-3",
           "Av. Libertad esq. 5 De Abril"
          ],
          [
           "21-8",
           "Maipon esq. Mercado De Chillan"
          ],
          [
           "21-5",
           "Maipon esq. 18 De Septiembre"
          ],
          [
           "21-4",
           "Maipon esq. Claudio Arrau"
          ],
          [
           "21-3",
           "Maipon esq. Plaza La Victoria"
          ],
          [
           "15-1",
           "Independencia esq. Constitucion"
          ],
          [
           "21-2",
           "Maipon esq. Rosas"
          ],
          [
           "21-1",
           "Maipon esq. Av. Brasil"
          ],
          [
           "10-9",
           "Av. Brasil esq. El Roble"
          ],
          [
           "10-7",
           "Av. Brasil esq. Constitucion"
          ],
          [
           "18-8",
           "Av. Libertad esq. Av. Brasil"
          ],
          [
           "18-2",
           "Av. Libertad esq. Colegio La Purisima Concepcion"
          ],
          [
           "50-2",
           "Nueva Sur esq. Los Nardos"
          ],
          [
           "50-4",
           "Nueva Sur esq. Los Espinos"
          ],
          [
           "13-1",
           "5 De Abril esq. Arturo Prat"
          ],
          [
           "21-10",
           "Maipon esq. Banco Estado"
          ],
          [
           "10-6",
           "Av. Brasil esq. Bulnes"
          ],
          [
           "10-5",
           "Av. Brasil esq. Vega De Saldias"
          ],
          [
           "10-3",
           "Av. Brasil esq. Gamero"
          ],
          [
           "84-3",
           "Barros Arana esq. Las Margaritas"
          ],
          [
           "84-4",
           "Barros Arana esq. Alberto Orrego Luco"
          ],
          [
           "114-1",
           "Huambal esq. Av. Reino de Chile"
          ],
          [
           "81-2",
           "Los Espinos esq. Los Espinos"
          ],
          [
           "84-2",
           "Barros Arana esq. Rio Viejo"
          ],
          [
           "8-1",
           "Barros Arana esq. Uno Sur"
          ],
          [
           "82-1",
           "Angel Custodio Oyarzun esq. Rodrigo De Quiroga"
          ],
          [
           "51-1",
           "Rodrigo Quiroga esq. Av. Chile"
          ],
          [
           "5-3",
           "Av. Ecuador esq. Av. O'Higgins"
          ],
          [
           "75-2",
           "Av. Francia esq. Padre Alberto Hurtado"
          ],
          [
           "75-1",
           "Av. Francia esq. Porvenir"
          ],
          [
           "26-1",
           "Manuel Rodriguez esq. Padre Alberto Hurtado"
          ]
         ],
         "hovertemplate": "<b>%{hovertext}</b><br><br>shape_pt_lat=%{lat}<br>shape_pt_lon=%{lon}<br>stop_id=%{customdata[0]}<br>stop_name=%{customdata[1]}<extra></extra>",
         "hovertext": [
          "5 De Abril esq. Maipon",
          "Av. Libertad esq. Yerbas Buenas",
          "Av. Libertad esq. 5 De Abril",
          "Maipon esq. Mercado De Chillan",
          "Maipon esq. 18 De Septiembre",
          "Maipon esq. Claudio Arrau",
          "Maipon esq. Plaza La Victoria",
          "Independencia esq. Constitucion",
          "Maipon esq. Rosas",
          "Maipon esq. Av. Brasil",
          "Av. Brasil esq. El Roble",
          "Av. Brasil esq. Constitucion",
          "Av. Libertad esq. Av. Brasil",
          "Av. Libertad esq. Colegio La Purisima Concepcion",
          "Nueva Sur esq. Los Nardos",
          "Nueva Sur esq. Los Espinos",
          "5 De Abril esq. Arturo Prat",
          "Maipon esq. Banco Estado",
          "Av. Brasil esq. Bulnes",
          "Av. Brasil esq. Vega De Saldias",
          "Av. Brasil esq. Gamero",
          "Barros Arana esq. Las Margaritas",
          "Barros Arana esq. Alberto Orrego Luco",
          "Huambal esq. Av. Reino de Chile",
          "Los Espinos esq. Los Espinos",
          "Barros Arana esq. Rio Viejo",
          "Barros Arana esq. Uno Sur",
          "Angel Custodio Oyarzun esq. Rodrigo De Quiroga",
          "Rodrigo Quiroga esq. Av. Chile",
          "Av. Ecuador esq. Av. O'Higgins",
          "Av. Francia esq. Padre Alberto Hurtado",
          "Av. Francia esq. Porvenir",
          "Manuel Rodriguez esq. Padre Alberto Hurtado"
         ],
         "lat": [
          -36.610861532456454,
          -36.60832645499902,
          -36.606694808819164,
          -36.6104517086091,
          -36.60951446489349,
          -36.60891514014187,
          -36.6086370643946,
          -36.60927689115066,
          -36.60816990547312,
          -36.60783241849737,
          -36.60676644340976,
          -36.605451899044326,
          -36.604056859794674,
          -36.60767555589552,
          -36.6300790951667,
          -36.629914400044434,
          -36.611843966485196,
          -36.61086219368214,
          -36.60295769396002,
          -36.601752955160464,
          -36.600533252135115,
          -36.63103998872829,
          -36.63462683920032,
          -36.63031949871927,
          -36.62753113229805,
          -36.62679858235942,
          -36.62432612130497,
          -36.62218187107304,
          -36.621282929551754,
          -36.5985884458223,
          -36.59747182488328,
          -36.595484661550834,
          -36.59240290197837
         ],
         "legendgroup": "",
         "lon": [
          -72.10239920987408,
          -72.09376547882438,
          -72.10039163750234,
          -72.1014850162852,
          -72.10544300908774,
          -72.10793429339572,
          -72.1090874436082,
          -72.09679642229061,
          -72.11105187921196,
          -72.11236555108232,
          -72.1125544526764,
          -72.11205361657264,
          -72.11150233211788,
          -72.09639256520309,
          -72.09908250647473,
          -72.10356947844627,
          -72.10275992650332,
          -72.0998365347081,
          -72.11111731478441,
          -72.11066741752232,
          -72.11023177707426,
          -72.101109997112,
          -72.1015087372964,
          -72.10729219172912,
          -72.10321458006732,
          -72.09972187583051,
          -72.09832203476239,
          -72.09930066938554,
          -72.10127248167154,
          -72.10581035029271,
          -72.10172200705031,
          -72.10202733143034,
          -72.09660771354216
         ],
         "marker": {
          "color": "yellow"
         },
         "mode": "markers",
         "name": "",
         "showlegend": false,
         "subplot": "mapbox",
         "type": "scattermapbox"
        },
        {
         "hovertemplate": "shape_pt_lat=%{lat}<br>shape_pt_lon=%{lon}<extra></extra>",
         "lat": [
          -36.62873,
          -36.62873,
          -36.62873,
          -36.6285,
          -36.62843,
          -36.62831,
          -36.62824,
          -36.62816,
          -36.62807,
          -36.62801,
          -36.62797,
          -36.62778,
          -36.62759,
          -36.62759,
          -36.627594,
          -36.62759,
          -36.62742,
          -36.62738,
          -36.62733,
          -36.62711,
          -36.62711,
          -36.62705,
          -36.62703,
          -36.62742,
          -36.627665,
          -36.627665,
          -36.62785,
          -36.62794,
          -36.62807,
          -36.62826,
          -36.62835,
          -36.62835,
          -36.628335,
          -36.62835,
          -36.62855,
          -36.62862,
          -36.62867,
          -36.62877,
          -36.62901,
          -36.62926,
          -36.62926,
          -36.629259,
          -36.62934,
          -36.62942,
          -36.62953,
          -36.62972,
          -36.62985,
          -36.62994,
          -36.63038,
          -36.63077,
          -36.63091,
          -36.63091,
          -36.63091,
          -36.63104,
          -36.63118,
          -36.6316,
          -36.63198,
          -36.63234,
          -36.63267,
          -36.63298,
          -36.63329,
          -36.63364,
          -36.63393,
          -36.63427,
          -36.63432,
          -36.63453,
          -36.63458,
          -36.63463,
          -36.6347,
          -36.63475,
          -36.63554,
          -36.63554,
          -36.63575,
          -36.63591,
          -36.63606,
          -36.63622,
          -36.63638,
          -36.63653,
          -36.6367,
          -36.6367,
          -36.63668,
          -36.63588,
          -36.63586,
          -36.63586,
          -36.635857,
          -36.63572,
          -36.63556,
          -36.63542,
          -36.63531,
          -36.63531,
          -36.635308,
          -36.63526,
          -36.6351,
          -36.63495,
          -36.63475,
          -36.6347,
          -36.63463,
          -36.63458,
          -36.63453,
          -36.63452,
          -36.63452,
          -36.634516,
          -36.63432,
          -36.63427,
          -36.63393,
          -36.63385,
          -36.63385,
          -36.633848,
          -36.63364,
          -36.63329,
          -36.63298,
          -36.63267,
          -36.63234,
          -36.63198,
          -36.6316,
          -36.63118,
          -36.63119,
          -36.63125,
          -36.63125,
          -36.631251,
          -36.6313,
          -36.63135,
          -36.63135,
          -36.63094,
          -36.63075,
          -36.63075,
          -36.630751,
          -36.63055,
          -36.63016,
          -36.63012,
          -36.63012,
          -36.63012,
          -36.63009,
          -36.63008,
          -36.63006,
          -36.63004,
          -36.63004,
          -36.630037,
          -36.62994,
          -36.62994,
          -36.62993,
          -36.62986,
          -36.62984,
          -36.62983,
          -36.62982,
          -36.62982,
          -36.62982,
          -36.62988,
          -36.62992,
          -36.62993,
          -36.62997,
          -36.63009,
          -36.63011,
          -36.63013,
          -36.63014,
          -36.63014,
          -36.63014,
          -36.63031,
          -36.63015,
          -36.63015,
          -36.630163,
          -36.63015,
          -36.63022,
          -36.63022,
          -36.630218,
          -36.63022,
          -36.63033,
          -36.63039,
          -36.63039,
          -36.630383,
          -36.6304,
          -36.63041,
          -36.63045,
          -36.63055,
          -36.63057,
          -36.63031,
          -36.63021,
          -36.63021,
          -36.630247,
          -36.63021,
          -36.63018,
          -36.62984,
          -36.62976,
          -36.62968,
          -36.62958,
          -36.62939,
          -36.62846,
          -36.62848,
          -36.62853,
          -36.62853,
          -36.628529,
          -36.62853,
          -36.62871,
          -36.62875,
          -36.628927,
          -36.628927,
          -36.62893,
          -36.62869,
          -36.62864,
          -36.62841,
          -36.62841,
          -36.62844,
          -36.62841,
          -36.62837,
          -36.62812,
          -36.6281,
          -36.62783,
          -36.62769,
          -36.62744,
          -36.62739,
          -36.62733,
          -36.62703,
          -36.6266,
          -36.6266,
          -36.626615,
          -36.6266,
          -36.62664,
          -36.62671,
          -36.62671,
          -36.626713,
          -36.62673,
          -36.62674,
          -36.62683,
          -36.6269,
          -36.62694,
          -36.62703,
          -36.627,
          -36.627,
          -36.62661,
          -36.62654,
          -36.6263,
          -36.6263,
          -36.626302,
          -36.6262,
          -36.62598,
          -36.62578,
          -36.62573,
          -36.62555,
          -36.62537,
          -36.62524,
          -36.62496,
          -36.62458,
          -36.62413,
          -36.6237,
          -36.62358,
          -36.62358,
          -36.623586,
          -36.62352,
          -36.623384,
          -36.623384,
          -36.62338,
          -36.62281,
          -36.62281,
          -36.622816,
          -36.62232,
          -36.62218,
          -36.62203,
          -36.62201,
          -36.62188,
          -36.62185,
          -36.62185,
          -36.621849,
          -36.62176,
          -36.62164,
          -36.62162,
          -36.62151,
          -36.6215,
          -36.62139,
          -36.62137,
          -36.62128,
          -36.62127,
          -36.62122,
          -36.62116,
          -36.62086,
          -36.62084,
          -36.62084,
          -36.62084,
          -36.6207,
          -36.6206,
          -36.6205,
          -36.62039,
          -36.62028,
          -36.62011,
          -36.61989,
          -36.61965,
          -36.61924,
          -36.61881,
          -36.61881,
          -36.618839,
          -36.61881,
          -36.61835,
          -36.6183,
          -36.61748,
          -36.61664,
          -36.61656,
          -36.61642,
          -36.61637,
          -36.61624,
          -36.61624,
          -36.616246,
          -36.616,
          -36.61583,
          -36.61563,
          -36.61542,
          -36.61525,
          -36.61522,
          -36.61522,
          -36.615224,
          -36.615209,
          -36.613922,
          -36.613238,
          -36.612749,
          -36.611558,
          -36.610281,
          -36.609918,
          -36.609918,
          -36.60906,
          -36.607821,
          -36.606595,
          -36.606963,
          -36.607332,
          -36.60772,
          -36.608104,
          -36.608212,
          -36.608212,
          -36.608475,
          -36.60969,
          -36.609334,
          -36.608958,
          -36.610189,
          -36.611433,
          -36.611042,
          -36.610924,
          -36.610924,
          -36.610658,
          -36.610281,
          -36.609917,
          -36.609562,
          -36.609194,
          -36.608832,
          -36.608804,
          -36.608467,
          -36.608446,
          -36.608342,
          -36.608342,
          -36.608181,
          -36.608094,
          -36.60769,
          -36.60645,
          -36.605222,
          -36.603953,
          -36.602728,
          -36.601544,
          -36.601159,
          -36.601159,
          -36.600281,
          -36.599415,
          -36.599065,
          -36.597774,
          -36.59793,
          -36.598471,
          -36.598521,
          -36.598905,
          -36.59928,
          -36.59938,
          -36.5994,
          -36.5994,
          -36.59968,
          -36.59953,
          -36.59852,
          -36.59823,
          -36.5982,
          -36.59813,
          -36.59791,
          -36.59787,
          -36.59665,
          -36.59481,
          -36.59424,
          -36.59364,
          -36.5936,
          -36.5936,
          -36.59372,
          -36.59385,
          -36.59399,
          -36.59413,
          -36.59422,
          -36.59438,
          -36.59449,
          -36.59451,
          -36.59454,
          -36.59454,
          -36.594538,
          -36.59454,
          -36.59448,
          -36.59417,
          -36.59379,
          -36.59341,
          -36.59314,
          -36.59301,
          -36.59288,
          -36.5926,
          -36.59228,
          -36.59228,
          -36.59239,
          -36.59241,
          -36.59249,
          -36.59267,
          -36.59275,
          -36.59285,
          -36.59306,
          -36.59326,
          -36.59342,
          -36.59361,
          -36.59376,
          -36.59376,
          -36.59419,
          -36.59456,
          -36.59474,
          -36.59474,
          -36.59498,
          -36.59538,
          -36.59577,
          -36.59618,
          -36.596198,
          -36.596198,
          -36.59668,
          -36.59719,
          -36.59719,
          -36.59679,
          -36.59641,
          -36.59601,
          -36.59562,
          -36.59525,
          -36.59487,
          -36.59476,
          -36.59473,
          -36.59437,
          -36.59364,
          -36.59351,
          -36.59282,
          -36.59258,
          -36.59037,
          -36.58893,
          -36.58837,
          -36.58823,
          -36.58806,
          -36.588,
          -36.58794,
          -36.58769,
          -36.58762,
          -36.58745,
          -36.58725,
          -36.58689,
          -36.58682,
          -36.58646,
          -36.58618,
          -36.58605,
          -36.58593,
          -36.58547,
          -36.58541,
          -36.58475,
          -36.58454,
          -36.58445,
          -36.58434,
          -36.58386,
          -36.5833,
          -36.58323,
          -36.58305,
          -36.58296,
          -36.58259,
          -36.58192,
          -36.58192,
          -36.58199,
          -36.58205,
          -36.58211,
          -36.58215,
          -36.58219,
          -36.58222,
          -36.582239,
          -36.58224
         ],
         "legendgroup": "",
         "line": {
          "color": "blue"
         },
         "lon": [
          -72.09788,
          -72.09788,
          -72.09788,
          -72.09778,
          -72.09756,
          -72.09744,
          -72.09734,
          -72.09729,
          -72.09727,
          -72.09729,
          -72.09736,
          -72.09785,
          -72.09833,
          -72.09833,
          -72.09832,
          -72.09833,
          -72.09876,
          -72.09888,
          -72.09907,
          -72.09957,
          -72.09957,
          -72.09971,
          -72.09983,
          -72.10002,
          -72.10014,
          -72.10014,
          -72.10023,
          -72.10028,
          -72.10035,
          -72.10046,
          -72.10052,
          -72.10052,
          -72.10051,
          -72.10052,
          -72.10063,
          -72.10068,
          -72.1007,
          -72.10072,
          -72.10078,
          -72.10084,
          -72.10084,
          -72.10084,
          -72.10086,
          -72.10088,
          -72.10091,
          -72.10095,
          -72.10097,
          -72.10098,
          -72.10103,
          -72.10108,
          -72.10109,
          -72.10109,
          -72.101096,
          -72.10111,
          -72.10112,
          -72.10117,
          -72.10122,
          -72.10126,
          -72.1013,
          -72.10133,
          -72.10137,
          -72.10141,
          -72.10143,
          -72.10146,
          -72.10146,
          -72.10148,
          -72.10149,
          -72.10151,
          -72.10155,
          -72.10157,
          -72.10218,
          -72.10218,
          -72.10176,
          -72.10144,
          -72.10112,
          -72.1008,
          -72.10047,
          -72.10015,
          -72.09981,
          -72.09981,
          -72.09979,
          -72.09921,
          -72.09926,
          -72.09926,
          -72.099259,
          -72.09955,
          -72.09988,
          -72.10019,
          -72.10042,
          -72.10042,
          -72.100422,
          -72.10052,
          -72.10085,
          -72.10117,
          -72.10157,
          -72.10155,
          -72.10151,
          -72.10149,
          -72.10148,
          -72.10148,
          -72.10148,
          -72.101479,
          -72.10146,
          -72.10146,
          -72.10143,
          -72.10143,
          -72.10143,
          -72.101424,
          -72.10141,
          -72.10137,
          -72.10133,
          -72.1013,
          -72.10126,
          -72.10122,
          -72.10117,
          -72.10112,
          -72.10101,
          -72.10017,
          -72.10017,
          -72.100173,
          -72.09949,
          -72.09883,
          -72.09883,
          -72.09878,
          -72.09876,
          -72.09876,
          -72.098756,
          -72.09873,
          -72.09863,
          -72.09885,
          -72.09885,
          -72.098854,
          -72.09902,
          -72.09907,
          -72.09935,
          -72.09965,
          -72.09965,
          -72.099647,
          -72.10089,
          -72.10098,
          -72.10107,
          -72.10199,
          -72.10227,
          -72.10243,
          -72.10267,
          -72.1027,
          -72.10279,
          -72.10332,
          -72.10361,
          -72.10372,
          -72.1038,
          -72.10408,
          -72.10414,
          -72.10421,
          -72.10426,
          -72.10426,
          -72.104261,
          -72.10512,
          -72.10509,
          -72.10509,
          -72.105092,
          -72.10509,
          -72.10545,
          -72.10545,
          -72.105441,
          -72.10545,
          -72.10605,
          -72.10632,
          -72.10632,
          -72.106322,
          -72.10641,
          -72.10647,
          -72.10665,
          -72.10722,
          -72.10735,
          -72.10729,
          -72.10726,
          -72.10726,
          -72.107271,
          -72.10726,
          -72.10726,
          -72.10718,
          -72.10716,
          -72.10715,
          -72.10712,
          -72.10708,
          -72.10687,
          -72.10677,
          -72.10646,
          -72.10646,
          -72.106464,
          -72.10646,
          -72.10513,
          -72.10479,
          -72.103523,
          -72.103523,
          -72.1035,
          -72.10345,
          -72.10344,
          -72.1034,
          -72.1034,
          -72.103405,
          -72.1034,
          -72.10339,
          -72.10334,
          -72.10333,
          -72.10327,
          -72.10324,
          -72.1032,
          -72.10318,
          -72.10316,
          -72.10302,
          -72.10282,
          -72.10282,
          -72.102827,
          -72.10282,
          -72.10255,
          -72.10202,
          -72.10202,
          -72.102004,
          -72.1019,
          -72.10183,
          -72.10122,
          -72.10069,
          -72.10044,
          -72.09983,
          -72.09982,
          -72.09982,
          -72.09963,
          -72.09959,
          -72.09947,
          -72.09947,
          -72.099471,
          -72.09942,
          -72.0993,
          -72.09919,
          -72.09916,
          -72.09905,
          -72.09895,
          -72.09888,
          -72.09871,
          -72.09848,
          -72.0982,
          -72.09789,
          -72.09854,
          -72.09854,
          -72.098538,
          -72.09891,
          -72.099677,
          -72.099677,
          -72.0997,
          -72.09951,
          -72.09951,
          -72.099514,
          -72.09935,
          -72.0993,
          -72.09925,
          -72.09929,
          -72.09967,
          -72.09975,
          -72.09975,
          -72.099749,
          -72.09998,
          -72.10031,
          -72.10035,
          -72.10065,
          -72.1007,
          -72.10099,
          -72.10105,
          -72.10128,
          -72.10133,
          -72.10145,
          -72.10141,
          -72.10125,
          -72.10123,
          -72.10123,
          -72.101239,
          -72.10116,
          -72.1011,
          -72.10105,
          -72.101,
          -72.10095,
          -72.10089,
          -72.10081,
          -72.10071,
          -72.10056,
          -72.10039,
          -72.10039,
          -72.100401,
          -72.10039,
          -72.10022,
          -72.1002,
          -72.09989,
          -72.09957,
          -72.09954,
          -72.09948,
          -72.09946,
          -72.09997,
          -72.09997,
          -72.099976,
          -72.101,
          -72.10169,
          -72.10253,
          -72.10339,
          -72.10405,
          -72.10403,
          -72.10403,
          -72.104004,
          -72.104065,
          -72.103522,
          -72.103271,
          -72.103092,
          -72.102655,
          -72.102186,
          -72.102053,
          -72.102053,
          -72.10174,
          -72.101287,
          -72.100808,
          -72.099273,
          -72.097781,
          -72.096213,
          -72.094664,
          -72.094229,
          -72.094229,
          -72.093164,
          -72.093616,
          -72.095145,
          -72.096677,
          -72.097138,
          -72.097593,
          -72.099129,
          -72.099594,
          -72.099594,
          -72.100638,
          -72.102186,
          -72.103755,
          -72.105244,
          -72.106785,
          -72.108277,
          -72.108392,
          -72.109796,
          -72.109887,
          -72.110326,
          -72.110326,
          -72.111005,
          -72.111373,
          -72.112906,
          -72.112434,
          -72.111966,
          -72.111461,
          -72.111038,
          -72.110588,
          -72.110452,
          -72.110452,
          -72.110143,
          -72.109826,
          -72.109698,
          -72.109181,
          -72.108449,
          -72.10627,
          -72.106067,
          -72.104606,
          -72.103082,
          -72.102685,
          -72.10269,
          -72.10269,
          -72.10158,
          -72.10153,
          -72.10159,
          -72.10163,
          -72.10163,
          -72.10163,
          -72.10166,
          -72.10166,
          -72.10185,
          -72.10213,
          -72.10221,
          -72.10234,
          -72.10235,
          -72.10235,
          -72.1019,
          -72.1014,
          -72.10087,
          -72.10035,
          -72.1,
          -72.0994,
          -72.09899,
          -72.09893,
          -72.09888,
          -72.09888,
          -72.098884,
          -72.09888,
          -72.09882,
          -72.09856,
          -72.09823,
          -72.0979,
          -72.09766,
          -72.09755,
          -72.09743,
          -72.09718,
          -72.09689,
          -72.09689,
          -72.09664,
          -72.09659,
          -72.09642,
          -72.09602,
          -72.09584,
          -72.09561,
          -72.09516,
          -72.09472,
          -72.09437,
          -72.09394,
          -72.09361,
          -72.09361,
          -72.09391,
          -72.09417,
          -72.09429,
          -72.09429,
          -72.09446,
          -72.09474,
          -72.09501,
          -72.0953,
          -72.09526,
          -72.09526,
          -72.0942,
          -72.09311,
          -72.09311,
          -72.09276,
          -72.09247,
          -72.09213,
          -72.0918,
          -72.09149,
          -72.09116,
          -72.09107,
          -72.09104,
          -72.09073,
          -72.09009,
          -72.08998,
          -72.08937,
          -72.08916,
          -72.08722,
          -72.086,
          -72.08551,
          -72.08539,
          -72.08524,
          -72.08519,
          -72.08513,
          -72.08493,
          -72.08487,
          -72.08472,
          -72.08454,
          -72.08421,
          -72.08415,
          -72.08385,
          -72.08361,
          -72.0835,
          -72.0834,
          -72.08302,
          -72.08296,
          -72.0824,
          -72.08222,
          -72.08214,
          -72.08205,
          -72.08165,
          -72.08116,
          -72.0811,
          -72.08094,
          -72.08086,
          -72.08054,
          -72.07998,
          -72.07998,
          -72.07982,
          -72.07966,
          -72.07949,
          -72.07931,
          -72.07914,
          -72.07896,
          -72.078791,
          -72.07878
         ],
         "mode": "lines",
         "name": "",
         "showlegend": false,
         "subplot": "mapbox",
         "type": "scattermapbox"
        }
       ],
       "layout": {
        "template": {
         "data": {
          "histogram2dcontour": [
           {
            "type": "histogram2dcontour",
            "colorbar": {
             "outlinewidth": 0,
             "ticks": ""
            },
            "colorscale": [
             [
              0.0,
              "#0d0887"
             ],
             [
              0.1111111111111111,
              "#46039f"
             ],
             [
              0.2222222222222222,
              "#7201a8"
             ],
             [
              0.3333333333333333,
              "#9c179e"
             ],
             [
              0.4444444444444444,
              "#bd3786"
             ],
             [
              0.5555555555555556,
              "#d8576b"
             ],
             [
              0.6666666666666666,
              "#ed7953"
             ],
             [
              0.7777777777777778,
              "#fb9f3a"
             ],
             [
              0.8888888888888888,
              "#fdca26"
             ],
             [
              1.0,
              "#f0f921"
             ]
            ]
           }
          ],
          "choropleth": [
           {
            "type": "choropleth",
            "colorbar": {
             "outlinewidth": 0,
             "ticks": ""
            }
           }
          ],
          "histogram2d": [
           {
            "type": "histogram2d",
            "colorbar": {
             "outlinewidth": 0,
             "ticks": ""
            },
            "colorscale": [
             [
              0.0,
              "#0d0887"
             ],
             [
              0.1111111111111111,
              "#46039f"
             ],
             [
              0.2222222222222222,
              "#7201a8"
             ],
             [
              0.3333333333333333,
              "#9c179e"
             ],
             [
              0.4444444444444444,
              "#bd3786"
             ],
             [
              0.5555555555555556,
              "#d8576b"
             ],
             [
              0.6666666666666666,
              "#ed7953"
             ],
             [
              0.7777777777777778,
              "#fb9f3a"
             ],
             [
              0.8888888888888888,
              "#fdca26"
             ],
             [
              1.0,
              "#f0f921"
             ]
            ]
           }
          ],
          "heatmap": [
           {
            "type": "heatmap",
            "colorbar": {
             "outlinewidth": 0,
             "ticks": ""
            },
            "colorscale": [
             [
              0.0,
              "#0d0887"
             ],
             [
              0.1111111111111111,
              "#46039f"
             ],
             [
              0.2222222222222222,
              "#7201a8"
             ],
             [
              0.3333333333333333,
              "#9c179e"
             ],
             [
              0.4444444444444444,
              "#bd3786"
             ],
             [
              0.5555555555555556,
              "#d8576b"
             ],
             [
              0.6666666666666666,
              "#ed7953"
             ],
             [
              0.7777777777777778,
              "#fb9f3a"
             ],
             [
              0.8888888888888888,
              "#fdca26"
             ],
             [
              1.0,
              "#f0f921"
             ]
            ]
           }
          ],
          "heatmapgl": [
           {
            "type": "heatmapgl",
            "colorbar": {
             "outlinewidth": 0,
             "ticks": ""
            },
            "colorscale": [
             [
              0.0,
              "#0d0887"
             ],
             [
              0.1111111111111111,
              "#46039f"
             ],
             [
              0.2222222222222222,
              "#7201a8"
             ],
             [
              0.3333333333333333,
              "#9c179e"
             ],
             [
              0.4444444444444444,
              "#bd3786"
             ],
             [
              0.5555555555555556,
              "#d8576b"
             ],
             [
              0.6666666666666666,
              "#ed7953"
             ],
             [
              0.7777777777777778,
              "#fb9f3a"
             ],
             [
              0.8888888888888888,
              "#fdca26"
             ],
             [
              1.0,
              "#f0f921"
             ]
            ]
           }
          ],
          "contourcarpet": [
           {
            "type": "contourcarpet",
            "colorbar": {
             "outlinewidth": 0,
             "ticks": ""
            }
           }
          ],
          "contour": [
           {
            "type": "contour",
            "colorbar": {
             "outlinewidth": 0,
             "ticks": ""
            },
            "colorscale": [
             [
              0.0,
              "#0d0887"
             ],
             [
              0.1111111111111111,
              "#46039f"
             ],
             [
              0.2222222222222222,
              "#7201a8"
             ],
             [
              0.3333333333333333,
              "#9c179e"
             ],
             [
              0.4444444444444444,
              "#bd3786"
             ],
             [
              0.5555555555555556,
              "#d8576b"
             ],
             [
              0.6666666666666666,
              "#ed7953"
             ],
             [
              0.7777777777777778,
              "#fb9f3a"
             ],
             [
              0.8888888888888888,
              "#fdca26"
             ],
             [
              1.0,
              "#f0f921"
             ]
            ]
           }
          ],
          "surface": [
           {
            "type": "surface",
            "colorbar": {
             "outlinewidth": 0,
             "ticks": ""
            },
            "colorscale": [
             [
              0.0,
              "#0d0887"
             ],
             [
              0.1111111111111111,
              "#46039f"
             ],
             [
              0.2222222222222222,
              "#7201a8"
             ],
             [
              0.3333333333333333,
              "#9c179e"
             ],
             [
              0.4444444444444444,
              "#bd3786"
             ],
             [
              0.5555555555555556,
              "#d8576b"
             ],
             [
              0.6666666666666666,
              "#ed7953"
             ],
             [
              0.7777777777777778,
              "#fb9f3a"
             ],
             [
              0.8888888888888888,
              "#fdca26"
             ],
             [
              1.0,
              "#f0f921"
             ]
            ]
           }
          ],
          "mesh3d": [
           {
            "type": "mesh3d",
            "colorbar": {
             "outlinewidth": 0,
             "ticks": ""
            }
           }
          ],
          "scatter": [
           {
            "marker": {
             "line": {
              "color": "#283442"
             }
            },
            "type": "scatter"
           }
          ],
          "parcoords": [
           {
            "type": "parcoords",
            "line": {
             "colorbar": {
              "outlinewidth": 0,
              "ticks": ""
             }
            }
           }
          ],
          "scatterpolargl": [
           {
            "type": "scatterpolargl",
            "marker": {
             "colorbar": {
              "outlinewidth": 0,
              "ticks": ""
             }
            }
           }
          ],
          "bar": [
           {
            "error_x": {
             "color": "#f2f5fa"
            },
            "error_y": {
             "color": "#f2f5fa"
            },
            "marker": {
             "line": {
              "color": "rgb(17,17,17)",
              "width": 0.5
             },
             "pattern": {
              "fillmode": "overlay",
              "size": 10,
              "solidity": 0.2
             }
            },
            "type": "bar"
           }
          ],
          "scattergeo": [
           {
            "type": "scattergeo",
            "marker": {
             "colorbar": {
              "outlinewidth": 0,
              "ticks": ""
             }
            }
           }
          ],
          "scatterpolar": [
           {
            "type": "scatterpolar",
            "marker": {
             "colorbar": {
              "outlinewidth": 0,
              "ticks": ""
             }
            }
           }
          ],
          "histogram": [
           {
            "marker": {
             "pattern": {
              "fillmode": "overlay",
              "size": 10,
              "solidity": 0.2
             }
            },
            "type": "histogram"
           }
          ],
          "scattergl": [
           {
            "marker": {
             "line": {
              "color": "#283442"
             }
            },
            "type": "scattergl"
           }
          ],
          "scatter3d": [
           {
            "type": "scatter3d",
            "line": {
             "colorbar": {
              "outlinewidth": 0,
              "ticks": ""
             }
            },
            "marker": {
             "colorbar": {
              "outlinewidth": 0,
              "ticks": ""
             }
            }
           }
          ],
          "scattermapbox": [
           {
            "type": "scattermapbox",
            "marker": {
             "colorbar": {
              "outlinewidth": 0,
              "ticks": ""
             }
            }
           }
          ],
          "scatterternary": [
           {
            "type": "scatterternary",
            "marker": {
             "colorbar": {
              "outlinewidth": 0,
              "ticks": ""
             }
            }
           }
          ],
          "scattercarpet": [
           {
            "type": "scattercarpet",
            "marker": {
             "colorbar": {
              "outlinewidth": 0,
              "ticks": ""
             }
            }
           }
          ],
          "carpet": [
           {
            "aaxis": {
             "endlinecolor": "#A2B1C6",
             "gridcolor": "#506784",
             "linecolor": "#506784",
             "minorgridcolor": "#506784",
             "startlinecolor": "#A2B1C6"
            },
            "baxis": {
             "endlinecolor": "#A2B1C6",
             "gridcolor": "#506784",
             "linecolor": "#506784",
             "minorgridcolor": "#506784",
             "startlinecolor": "#A2B1C6"
            },
            "type": "carpet"
           }
          ],
          "table": [
           {
            "cells": {
             "fill": {
              "color": "#506784"
             },
             "line": {
              "color": "rgb(17,17,17)"
             }
            },
            "header": {
             "fill": {
              "color": "#2a3f5f"
             },
             "line": {
              "color": "rgb(17,17,17)"
             }
            },
            "type": "table"
           }
          ],
          "barpolar": [
           {
            "marker": {
             "line": {
              "color": "rgb(17,17,17)",
              "width": 0.5
             },
             "pattern": {
              "fillmode": "overlay",
              "size": 10,
              "solidity": 0.2
             }
            },
            "type": "barpolar"
           }
          ],
          "pie": [
           {
            "automargin": true,
            "type": "pie"
           }
          ]
         },
         "layout": {
          "autotypenumbers": "strict",
          "colorway": [
           "#636efa",
           "#EF553B",
           "#00cc96",
           "#ab63fa",
           "#FFA15A",
           "#19d3f3",
           "#FF6692",
           "#B6E880",
           "#FF97FF",
           "#FECB52"
          ],
          "font": {
           "color": "#f2f5fa"
          },
          "hovermode": "closest",
          "hoverlabel": {
           "align": "left"
          },
          "paper_bgcolor": "rgb(17,17,17)",
          "plot_bgcolor": "rgb(17,17,17)",
          "polar": {
           "bgcolor": "rgb(17,17,17)",
           "angularaxis": {
            "gridcolor": "#506784",
            "linecolor": "#506784",
            "ticks": ""
           },
           "radialaxis": {
            "gridcolor": "#506784",
            "linecolor": "#506784",
            "ticks": ""
           }
          },
          "ternary": {
           "bgcolor": "rgb(17,17,17)",
           "aaxis": {
            "gridcolor": "#506784",
            "linecolor": "#506784",
            "ticks": ""
           },
           "baxis": {
            "gridcolor": "#506784",
            "linecolor": "#506784",
            "ticks": ""
           },
           "caxis": {
            "gridcolor": "#506784",
            "linecolor": "#506784",
            "ticks": ""
           }
          },
          "coloraxis": {
           "colorbar": {
            "outlinewidth": 0,
            "ticks": ""
           }
          },
          "colorscale": {
           "sequential": [
            [
             0.0,
             "#0d0887"
            ],
            [
             0.1111111111111111,
             "#46039f"
            ],
            [
             0.2222222222222222,
             "#7201a8"
            ],
            [
             0.3333333333333333,
             "#9c179e"
            ],
            [
             0.4444444444444444,
             "#bd3786"
            ],
            [
             0.5555555555555556,
             "#d8576b"
            ],
            [
             0.6666666666666666,
             "#ed7953"
            ],
            [
             0.7777777777777778,
             "#fb9f3a"
            ],
            [
             0.8888888888888888,
             "#fdca26"
            ],
            [
             1.0,
             "#f0f921"
            ]
           ],
           "sequentialminus": [
            [
             0.0,
             "#0d0887"
            ],
            [
             0.1111111111111111,
             "#46039f"
            ],
            [
             0.2222222222222222,
             "#7201a8"
            ],
            [
             0.3333333333333333,
             "#9c179e"
            ],
            [
             0.4444444444444444,
             "#bd3786"
            ],
            [
             0.5555555555555556,
             "#d8576b"
            ],
            [
             0.6666666666666666,
             "#ed7953"
            ],
            [
             0.7777777777777778,
             "#fb9f3a"
            ],
            [
             0.8888888888888888,
             "#fdca26"
            ],
            [
             1.0,
             "#f0f921"
            ]
           ],
           "diverging": [
            [
             0,
             "#8e0152"
            ],
            [
             0.1,
             "#c51b7d"
            ],
            [
             0.2,
             "#de77ae"
            ],
            [
             0.3,
             "#f1b6da"
            ],
            [
             0.4,
             "#fde0ef"
            ],
            [
             0.5,
             "#f7f7f7"
            ],
            [
             0.6,
             "#e6f5d0"
            ],
            [
             0.7,
             "#b8e186"
            ],
            [
             0.8,
             "#7fbc41"
            ],
            [
             0.9,
             "#4d9221"
            ],
            [
             1,
             "#276419"
            ]
           ]
          },
          "xaxis": {
           "gridcolor": "#283442",
           "linecolor": "#506784",
           "ticks": "",
           "title": {
            "standoff": 15
           },
           "zerolinecolor": "#283442",
           "automargin": true,
           "zerolinewidth": 2
          },
          "yaxis": {
           "gridcolor": "#283442",
           "linecolor": "#506784",
           "ticks": "",
           "title": {
            "standoff": 15
           },
           "zerolinecolor": "#283442",
           "automargin": true,
           "zerolinewidth": 2
          },
          "scene": {
           "xaxis": {
            "backgroundcolor": "rgb(17,17,17)",
            "gridcolor": "#506784",
            "linecolor": "#506784",
            "showbackground": true,
            "ticks": "",
            "zerolinecolor": "#C8D4E3",
            "gridwidth": 2
           },
           "yaxis": {
            "backgroundcolor": "rgb(17,17,17)",
            "gridcolor": "#506784",
            "linecolor": "#506784",
            "showbackground": true,
            "ticks": "",
            "zerolinecolor": "#C8D4E3",
            "gridwidth": 2
           },
           "zaxis": {
            "backgroundcolor": "rgb(17,17,17)",
            "gridcolor": "#506784",
            "linecolor": "#506784",
            "showbackground": true,
            "ticks": "",
            "zerolinecolor": "#C8D4E3",
            "gridwidth": 2
           }
          },
          "shapedefaults": {
           "line": {
            "color": "#f2f5fa"
           }
          },
          "annotationdefaults": {
           "arrowcolor": "#f2f5fa",
           "arrowhead": 0,
           "arrowwidth": 1
          },
          "geo": {
           "bgcolor": "rgb(17,17,17)",
           "landcolor": "rgb(17,17,17)",
           "subunitcolor": "#506784",
           "showland": true,
           "showlakes": true,
           "lakecolor": "rgb(17,17,17)"
          },
          "title": {
           "x": 0.05
          },
          "updatemenudefaults": {
           "bgcolor": "#506784",
           "borderwidth": 0
          },
          "sliderdefaults": {
           "bgcolor": "#C8D4E3",
           "borderwidth": 1,
           "bordercolor": "rgb(17,17,17)",
           "tickwidth": 0
          },
          "mapbox": {
           "style": "dark"
          }
         }
        },
        "mapbox": {
         "domain": {
          "x": [
           0.0,
           1.0
          ],
          "y": [
           0.0,
           1.0
          ]
         },
         "center": {
          "lat": -36.6122008939904,
          "lon": -72.10389084343684
         },
         "zoom": 11,
         "style": "dark",
         "accesstoken": "pk.eyJ1IjoidHJhbnNhcHAiLCJhIjoiY2w4czhubzh3MXhwajNwbzgwM2dzM3R6bCJ9.vsA2xogBFcRYH2DbwDOb4w"
        },
        "legend": {
         "tracegroupgap": 0
        },
        "title": {
         "text": "stops"
        },
        "height": 700,
        "margin": {
         "r": 0,
         "t": 0,
         "l": 0,
         "b": 0
        }
       },
       "config": {
        "plotlyServerURL": "https://plot.ly"
       }
      },
      "text/html": "<div>                            <div id=\"791f9707-92b6-49fb-984c-563d6e1a2695\" class=\"plotly-graph-div\" style=\"height:700px; width:100%;\"></div>            <script type=\"text/javascript\">                require([\"plotly\"], function(Plotly) {                    window.PLOTLYENV=window.PLOTLYENV || {};                                    if (document.getElementById(\"791f9707-92b6-49fb-984c-563d6e1a2695\")) {                    Plotly.newPlot(                        \"791f9707-92b6-49fb-984c-563d6e1a2695\",                        [{\"customdata\":[[\"13-2\",\"5 De Abril esq. Maipon\"],[\"18-1\",\"Av. Libertad esq. Yerbas Buenas\"],[\"18-3\",\"Av. Libertad esq. 5 De Abril\"],[\"21-8\",\"Maipon esq. Mercado De Chillan\"],[\"21-5\",\"Maipon esq. 18 De Septiembre\"],[\"21-4\",\"Maipon esq. Claudio Arrau\"],[\"21-3\",\"Maipon esq. Plaza La Victoria\"],[\"15-1\",\"Independencia esq. Constitucion\"],[\"21-2\",\"Maipon esq. Rosas\"],[\"21-1\",\"Maipon esq. Av. Brasil\"],[\"10-9\",\"Av. Brasil esq. El Roble\"],[\"10-7\",\"Av. Brasil esq. Constitucion\"],[\"18-8\",\"Av. Libertad esq. Av. Brasil\"],[\"18-2\",\"Av. Libertad esq. Colegio La Purisima Concepcion\"],[\"50-2\",\"Nueva Sur esq. Los Nardos\"],[\"50-4\",\"Nueva Sur esq. Los Espinos\"],[\"13-1\",\"5 De Abril esq. Arturo Prat\"],[\"21-10\",\"Maipon esq. Banco Estado\"],[\"10-6\",\"Av. Brasil esq. Bulnes\"],[\"10-5\",\"Av. Brasil esq. Vega De Saldias\"],[\"10-3\",\"Av. Brasil esq. Gamero\"],[\"84-3\",\"Barros Arana esq. Las Margaritas\"],[\"84-4\",\"Barros Arana esq. Alberto Orrego Luco\"],[\"114-1\",\"Huambal esq. Av. Reino de Chile\"],[\"81-2\",\"Los Espinos esq. Los Espinos\"],[\"84-2\",\"Barros Arana esq. Rio Viejo\"],[\"8-1\",\"Barros Arana esq. Uno Sur\"],[\"82-1\",\"Angel Custodio Oyarzun esq. Rodrigo De Quiroga\"],[\"51-1\",\"Rodrigo Quiroga esq. Av. Chile\"],[\"5-3\",\"Av. Ecuador esq. Av. O'Higgins\"],[\"75-2\",\"Av. Francia esq. Padre Alberto Hurtado\"],[\"75-1\",\"Av. Francia esq. Porvenir\"],[\"26-1\",\"Manuel Rodriguez esq. Padre Alberto Hurtado\"]],\"hovertemplate\":\"<b>%{hovertext}</b><br><br>shape_pt_lat=%{lat}<br>shape_pt_lon=%{lon}<br>stop_id=%{customdata[0]}<br>stop_name=%{customdata[1]}<extra></extra>\",\"hovertext\":[\"5 De Abril esq. Maipon\",\"Av. Libertad esq. Yerbas Buenas\",\"Av. Libertad esq. 5 De Abril\",\"Maipon esq. Mercado De Chillan\",\"Maipon esq. 18 De Septiembre\",\"Maipon esq. Claudio Arrau\",\"Maipon esq. Plaza La Victoria\",\"Independencia esq. Constitucion\",\"Maipon esq. Rosas\",\"Maipon esq. Av. Brasil\",\"Av. Brasil esq. El Roble\",\"Av. Brasil esq. Constitucion\",\"Av. Libertad esq. Av. Brasil\",\"Av. Libertad esq. Colegio La Purisima Concepcion\",\"Nueva Sur esq. Los Nardos\",\"Nueva Sur esq. Los Espinos\",\"5 De Abril esq. Arturo Prat\",\"Maipon esq. Banco Estado\",\"Av. Brasil esq. Bulnes\",\"Av. Brasil esq. Vega De Saldias\",\"Av. Brasil esq. Gamero\",\"Barros Arana esq. Las Margaritas\",\"Barros Arana esq. Alberto Orrego Luco\",\"Huambal esq. Av. Reino de Chile\",\"Los Espinos esq. Los Espinos\",\"Barros Arana esq. Rio Viejo\",\"Barros Arana esq. Uno Sur\",\"Angel Custodio Oyarzun esq. Rodrigo De Quiroga\",\"Rodrigo Quiroga esq. Av. Chile\",\"Av. Ecuador esq. Av. O'Higgins\",\"Av. Francia esq. Padre Alberto Hurtado\",\"Av. Francia esq. Porvenir\",\"Manuel Rodriguez esq. Padre Alberto Hurtado\"],\"lat\":[-36.610861532456454,-36.60832645499902,-36.606694808819164,-36.6104517086091,-36.60951446489349,-36.60891514014187,-36.6086370643946,-36.60927689115066,-36.60816990547312,-36.60783241849737,-36.60676644340976,-36.605451899044326,-36.604056859794674,-36.60767555589552,-36.6300790951667,-36.629914400044434,-36.611843966485196,-36.61086219368214,-36.60295769396002,-36.601752955160464,-36.600533252135115,-36.63103998872829,-36.63462683920032,-36.63031949871927,-36.62753113229805,-36.62679858235942,-36.62432612130497,-36.62218187107304,-36.621282929551754,-36.5985884458223,-36.59747182488328,-36.595484661550834,-36.59240290197837],\"legendgroup\":\"\",\"lon\":[-72.10239920987408,-72.09376547882438,-72.10039163750234,-72.1014850162852,-72.10544300908774,-72.10793429339572,-72.1090874436082,-72.09679642229061,-72.11105187921196,-72.11236555108232,-72.1125544526764,-72.11205361657264,-72.11150233211788,-72.09639256520309,-72.09908250647473,-72.10356947844627,-72.10275992650332,-72.0998365347081,-72.11111731478441,-72.11066741752232,-72.11023177707426,-72.101109997112,-72.1015087372964,-72.10729219172912,-72.10321458006732,-72.09972187583051,-72.09832203476239,-72.09930066938554,-72.10127248167154,-72.10581035029271,-72.10172200705031,-72.10202733143034,-72.09660771354216],\"marker\":{\"color\":\"yellow\"},\"mode\":\"markers\",\"name\":\"\",\"showlegend\":false,\"subplot\":\"mapbox\",\"type\":\"scattermapbox\"},{\"hovertemplate\":\"shape_pt_lat=%{lat}<br>shape_pt_lon=%{lon}<extra></extra>\",\"lat\":[-36.62873,-36.62873,-36.62873,-36.6285,-36.62843,-36.62831,-36.62824,-36.62816,-36.62807,-36.62801,-36.62797,-36.62778,-36.62759,-36.62759,-36.627594,-36.62759,-36.62742,-36.62738,-36.62733,-36.62711,-36.62711,-36.62705,-36.62703,-36.62742,-36.627665,-36.627665,-36.62785,-36.62794,-36.62807,-36.62826,-36.62835,-36.62835,-36.628335,-36.62835,-36.62855,-36.62862,-36.62867,-36.62877,-36.62901,-36.62926,-36.62926,-36.629259,-36.62934,-36.62942,-36.62953,-36.62972,-36.62985,-36.62994,-36.63038,-36.63077,-36.63091,-36.63091,-36.63091,-36.63104,-36.63118,-36.6316,-36.63198,-36.63234,-36.63267,-36.63298,-36.63329,-36.63364,-36.63393,-36.63427,-36.63432,-36.63453,-36.63458,-36.63463,-36.6347,-36.63475,-36.63554,-36.63554,-36.63575,-36.63591,-36.63606,-36.63622,-36.63638,-36.63653,-36.6367,-36.6367,-36.63668,-36.63588,-36.63586,-36.63586,-36.635857,-36.63572,-36.63556,-36.63542,-36.63531,-36.63531,-36.635308,-36.63526,-36.6351,-36.63495,-36.63475,-36.6347,-36.63463,-36.63458,-36.63453,-36.63452,-36.63452,-36.634516,-36.63432,-36.63427,-36.63393,-36.63385,-36.63385,-36.633848,-36.63364,-36.63329,-36.63298,-36.63267,-36.63234,-36.63198,-36.6316,-36.63118,-36.63119,-36.63125,-36.63125,-36.631251,-36.6313,-36.63135,-36.63135,-36.63094,-36.63075,-36.63075,-36.630751,-36.63055,-36.63016,-36.63012,-36.63012,-36.63012,-36.63009,-36.63008,-36.63006,-36.63004,-36.63004,-36.630037,-36.62994,-36.62994,-36.62993,-36.62986,-36.62984,-36.62983,-36.62982,-36.62982,-36.62982,-36.62988,-36.62992,-36.62993,-36.62997,-36.63009,-36.63011,-36.63013,-36.63014,-36.63014,-36.63014,-36.63031,-36.63015,-36.63015,-36.630163,-36.63015,-36.63022,-36.63022,-36.630218,-36.63022,-36.63033,-36.63039,-36.63039,-36.630383,-36.6304,-36.63041,-36.63045,-36.63055,-36.63057,-36.63031,-36.63021,-36.63021,-36.630247,-36.63021,-36.63018,-36.62984,-36.62976,-36.62968,-36.62958,-36.62939,-36.62846,-36.62848,-36.62853,-36.62853,-36.628529,-36.62853,-36.62871,-36.62875,-36.628927,-36.628927,-36.62893,-36.62869,-36.62864,-36.62841,-36.62841,-36.62844,-36.62841,-36.62837,-36.62812,-36.6281,-36.62783,-36.62769,-36.62744,-36.62739,-36.62733,-36.62703,-36.6266,-36.6266,-36.626615,-36.6266,-36.62664,-36.62671,-36.62671,-36.626713,-36.62673,-36.62674,-36.62683,-36.6269,-36.62694,-36.62703,-36.627,-36.627,-36.62661,-36.62654,-36.6263,-36.6263,-36.626302,-36.6262,-36.62598,-36.62578,-36.62573,-36.62555,-36.62537,-36.62524,-36.62496,-36.62458,-36.62413,-36.6237,-36.62358,-36.62358,-36.623586,-36.62352,-36.623384,-36.623384,-36.62338,-36.62281,-36.62281,-36.622816,-36.62232,-36.62218,-36.62203,-36.62201,-36.62188,-36.62185,-36.62185,-36.621849,-36.62176,-36.62164,-36.62162,-36.62151,-36.6215,-36.62139,-36.62137,-36.62128,-36.62127,-36.62122,-36.62116,-36.62086,-36.62084,-36.62084,-36.62084,-36.6207,-36.6206,-36.6205,-36.62039,-36.62028,-36.62011,-36.61989,-36.61965,-36.61924,-36.61881,-36.61881,-36.618839,-36.61881,-36.61835,-36.6183,-36.61748,-36.61664,-36.61656,-36.61642,-36.61637,-36.61624,-36.61624,-36.616246,-36.616,-36.61583,-36.61563,-36.61542,-36.61525,-36.61522,-36.61522,-36.615224,-36.615209,-36.613922,-36.613238,-36.612749,-36.611558,-36.610281,-36.609918,-36.609918,-36.60906,-36.607821,-36.606595,-36.606963,-36.607332,-36.60772,-36.608104,-36.608212,-36.608212,-36.608475,-36.60969,-36.609334,-36.608958,-36.610189,-36.611433,-36.611042,-36.610924,-36.610924,-36.610658,-36.610281,-36.609917,-36.609562,-36.609194,-36.608832,-36.608804,-36.608467,-36.608446,-36.608342,-36.608342,-36.608181,-36.608094,-36.60769,-36.60645,-36.605222,-36.603953,-36.602728,-36.601544,-36.601159,-36.601159,-36.600281,-36.599415,-36.599065,-36.597774,-36.59793,-36.598471,-36.598521,-36.598905,-36.59928,-36.59938,-36.5994,-36.5994,-36.59968,-36.59953,-36.59852,-36.59823,-36.5982,-36.59813,-36.59791,-36.59787,-36.59665,-36.59481,-36.59424,-36.59364,-36.5936,-36.5936,-36.59372,-36.59385,-36.59399,-36.59413,-36.59422,-36.59438,-36.59449,-36.59451,-36.59454,-36.59454,-36.594538,-36.59454,-36.59448,-36.59417,-36.59379,-36.59341,-36.59314,-36.59301,-36.59288,-36.5926,-36.59228,-36.59228,-36.59239,-36.59241,-36.59249,-36.59267,-36.59275,-36.59285,-36.59306,-36.59326,-36.59342,-36.59361,-36.59376,-36.59376,-36.59419,-36.59456,-36.59474,-36.59474,-36.59498,-36.59538,-36.59577,-36.59618,-36.596198,-36.596198,-36.59668,-36.59719,-36.59719,-36.59679,-36.59641,-36.59601,-36.59562,-36.59525,-36.59487,-36.59476,-36.59473,-36.59437,-36.59364,-36.59351,-36.59282,-36.59258,-36.59037,-36.58893,-36.58837,-36.58823,-36.58806,-36.588,-36.58794,-36.58769,-36.58762,-36.58745,-36.58725,-36.58689,-36.58682,-36.58646,-36.58618,-36.58605,-36.58593,-36.58547,-36.58541,-36.58475,-36.58454,-36.58445,-36.58434,-36.58386,-36.5833,-36.58323,-36.58305,-36.58296,-36.58259,-36.58192,-36.58192,-36.58199,-36.58205,-36.58211,-36.58215,-36.58219,-36.58222,-36.582239,-36.58224],\"legendgroup\":\"\",\"line\":{\"color\":\"blue\"},\"lon\":[-72.09788,-72.09788,-72.09788,-72.09778,-72.09756,-72.09744,-72.09734,-72.09729,-72.09727,-72.09729,-72.09736,-72.09785,-72.09833,-72.09833,-72.09832,-72.09833,-72.09876,-72.09888,-72.09907,-72.09957,-72.09957,-72.09971,-72.09983,-72.10002,-72.10014,-72.10014,-72.10023,-72.10028,-72.10035,-72.10046,-72.10052,-72.10052,-72.10051,-72.10052,-72.10063,-72.10068,-72.1007,-72.10072,-72.10078,-72.10084,-72.10084,-72.10084,-72.10086,-72.10088,-72.10091,-72.10095,-72.10097,-72.10098,-72.10103,-72.10108,-72.10109,-72.10109,-72.101096,-72.10111,-72.10112,-72.10117,-72.10122,-72.10126,-72.1013,-72.10133,-72.10137,-72.10141,-72.10143,-72.10146,-72.10146,-72.10148,-72.10149,-72.10151,-72.10155,-72.10157,-72.10218,-72.10218,-72.10176,-72.10144,-72.10112,-72.1008,-72.10047,-72.10015,-72.09981,-72.09981,-72.09979,-72.09921,-72.09926,-72.09926,-72.099259,-72.09955,-72.09988,-72.10019,-72.10042,-72.10042,-72.100422,-72.10052,-72.10085,-72.10117,-72.10157,-72.10155,-72.10151,-72.10149,-72.10148,-72.10148,-72.10148,-72.101479,-72.10146,-72.10146,-72.10143,-72.10143,-72.10143,-72.101424,-72.10141,-72.10137,-72.10133,-72.1013,-72.10126,-72.10122,-72.10117,-72.10112,-72.10101,-72.10017,-72.10017,-72.100173,-72.09949,-72.09883,-72.09883,-72.09878,-72.09876,-72.09876,-72.098756,-72.09873,-72.09863,-72.09885,-72.09885,-72.098854,-72.09902,-72.09907,-72.09935,-72.09965,-72.09965,-72.099647,-72.10089,-72.10098,-72.10107,-72.10199,-72.10227,-72.10243,-72.10267,-72.1027,-72.10279,-72.10332,-72.10361,-72.10372,-72.1038,-72.10408,-72.10414,-72.10421,-72.10426,-72.10426,-72.104261,-72.10512,-72.10509,-72.10509,-72.105092,-72.10509,-72.10545,-72.10545,-72.105441,-72.10545,-72.10605,-72.10632,-72.10632,-72.106322,-72.10641,-72.10647,-72.10665,-72.10722,-72.10735,-72.10729,-72.10726,-72.10726,-72.107271,-72.10726,-72.10726,-72.10718,-72.10716,-72.10715,-72.10712,-72.10708,-72.10687,-72.10677,-72.10646,-72.10646,-72.106464,-72.10646,-72.10513,-72.10479,-72.103523,-72.103523,-72.1035,-72.10345,-72.10344,-72.1034,-72.1034,-72.103405,-72.1034,-72.10339,-72.10334,-72.10333,-72.10327,-72.10324,-72.1032,-72.10318,-72.10316,-72.10302,-72.10282,-72.10282,-72.102827,-72.10282,-72.10255,-72.10202,-72.10202,-72.102004,-72.1019,-72.10183,-72.10122,-72.10069,-72.10044,-72.09983,-72.09982,-72.09982,-72.09963,-72.09959,-72.09947,-72.09947,-72.099471,-72.09942,-72.0993,-72.09919,-72.09916,-72.09905,-72.09895,-72.09888,-72.09871,-72.09848,-72.0982,-72.09789,-72.09854,-72.09854,-72.098538,-72.09891,-72.099677,-72.099677,-72.0997,-72.09951,-72.09951,-72.099514,-72.09935,-72.0993,-72.09925,-72.09929,-72.09967,-72.09975,-72.09975,-72.099749,-72.09998,-72.10031,-72.10035,-72.10065,-72.1007,-72.10099,-72.10105,-72.10128,-72.10133,-72.10145,-72.10141,-72.10125,-72.10123,-72.10123,-72.101239,-72.10116,-72.1011,-72.10105,-72.101,-72.10095,-72.10089,-72.10081,-72.10071,-72.10056,-72.10039,-72.10039,-72.100401,-72.10039,-72.10022,-72.1002,-72.09989,-72.09957,-72.09954,-72.09948,-72.09946,-72.09997,-72.09997,-72.099976,-72.101,-72.10169,-72.10253,-72.10339,-72.10405,-72.10403,-72.10403,-72.104004,-72.104065,-72.103522,-72.103271,-72.103092,-72.102655,-72.102186,-72.102053,-72.102053,-72.10174,-72.101287,-72.100808,-72.099273,-72.097781,-72.096213,-72.094664,-72.094229,-72.094229,-72.093164,-72.093616,-72.095145,-72.096677,-72.097138,-72.097593,-72.099129,-72.099594,-72.099594,-72.100638,-72.102186,-72.103755,-72.105244,-72.106785,-72.108277,-72.108392,-72.109796,-72.109887,-72.110326,-72.110326,-72.111005,-72.111373,-72.112906,-72.112434,-72.111966,-72.111461,-72.111038,-72.110588,-72.110452,-72.110452,-72.110143,-72.109826,-72.109698,-72.109181,-72.108449,-72.10627,-72.106067,-72.104606,-72.103082,-72.102685,-72.10269,-72.10269,-72.10158,-72.10153,-72.10159,-72.10163,-72.10163,-72.10163,-72.10166,-72.10166,-72.10185,-72.10213,-72.10221,-72.10234,-72.10235,-72.10235,-72.1019,-72.1014,-72.10087,-72.10035,-72.1,-72.0994,-72.09899,-72.09893,-72.09888,-72.09888,-72.098884,-72.09888,-72.09882,-72.09856,-72.09823,-72.0979,-72.09766,-72.09755,-72.09743,-72.09718,-72.09689,-72.09689,-72.09664,-72.09659,-72.09642,-72.09602,-72.09584,-72.09561,-72.09516,-72.09472,-72.09437,-72.09394,-72.09361,-72.09361,-72.09391,-72.09417,-72.09429,-72.09429,-72.09446,-72.09474,-72.09501,-72.0953,-72.09526,-72.09526,-72.0942,-72.09311,-72.09311,-72.09276,-72.09247,-72.09213,-72.0918,-72.09149,-72.09116,-72.09107,-72.09104,-72.09073,-72.09009,-72.08998,-72.08937,-72.08916,-72.08722,-72.086,-72.08551,-72.08539,-72.08524,-72.08519,-72.08513,-72.08493,-72.08487,-72.08472,-72.08454,-72.08421,-72.08415,-72.08385,-72.08361,-72.0835,-72.0834,-72.08302,-72.08296,-72.0824,-72.08222,-72.08214,-72.08205,-72.08165,-72.08116,-72.0811,-72.08094,-72.08086,-72.08054,-72.07998,-72.07998,-72.07982,-72.07966,-72.07949,-72.07931,-72.07914,-72.07896,-72.078791,-72.07878],\"mode\":\"lines\",\"name\":\"\",\"showlegend\":false,\"subplot\":\"mapbox\",\"type\":\"scattermapbox\"}],                        {\"template\":{\"data\":{\"histogram2dcontour\":[{\"type\":\"histogram2dcontour\",\"colorbar\":{\"outlinewidth\":0,\"ticks\":\"\"},\"colorscale\":[[0.0,\"#0d0887\"],[0.1111111111111111,\"#46039f\"],[0.2222222222222222,\"#7201a8\"],[0.3333333333333333,\"#9c179e\"],[0.4444444444444444,\"#bd3786\"],[0.5555555555555556,\"#d8576b\"],[0.6666666666666666,\"#ed7953\"],[0.7777777777777778,\"#fb9f3a\"],[0.8888888888888888,\"#fdca26\"],[1.0,\"#f0f921\"]]}],\"choropleth\":[{\"type\":\"choropleth\",\"colorbar\":{\"outlinewidth\":0,\"ticks\":\"\"}}],\"histogram2d\":[{\"type\":\"histogram2d\",\"colorbar\":{\"outlinewidth\":0,\"ticks\":\"\"},\"colorscale\":[[0.0,\"#0d0887\"],[0.1111111111111111,\"#46039f\"],[0.2222222222222222,\"#7201a8\"],[0.3333333333333333,\"#9c179e\"],[0.4444444444444444,\"#bd3786\"],[0.5555555555555556,\"#d8576b\"],[0.6666666666666666,\"#ed7953\"],[0.7777777777777778,\"#fb9f3a\"],[0.8888888888888888,\"#fdca26\"],[1.0,\"#f0f921\"]]}],\"heatmap\":[{\"type\":\"heatmap\",\"colorbar\":{\"outlinewidth\":0,\"ticks\":\"\"},\"colorscale\":[[0.0,\"#0d0887\"],[0.1111111111111111,\"#46039f\"],[0.2222222222222222,\"#7201a8\"],[0.3333333333333333,\"#9c179e\"],[0.4444444444444444,\"#bd3786\"],[0.5555555555555556,\"#d8576b\"],[0.6666666666666666,\"#ed7953\"],[0.7777777777777778,\"#fb9f3a\"],[0.8888888888888888,\"#fdca26\"],[1.0,\"#f0f921\"]]}],\"heatmapgl\":[{\"type\":\"heatmapgl\",\"colorbar\":{\"outlinewidth\":0,\"ticks\":\"\"},\"colorscale\":[[0.0,\"#0d0887\"],[0.1111111111111111,\"#46039f\"],[0.2222222222222222,\"#7201a8\"],[0.3333333333333333,\"#9c179e\"],[0.4444444444444444,\"#bd3786\"],[0.5555555555555556,\"#d8576b\"],[0.6666666666666666,\"#ed7953\"],[0.7777777777777778,\"#fb9f3a\"],[0.8888888888888888,\"#fdca26\"],[1.0,\"#f0f921\"]]}],\"contourcarpet\":[{\"type\":\"contourcarpet\",\"colorbar\":{\"outlinewidth\":0,\"ticks\":\"\"}}],\"contour\":[{\"type\":\"contour\",\"colorbar\":{\"outlinewidth\":0,\"ticks\":\"\"},\"colorscale\":[[0.0,\"#0d0887\"],[0.1111111111111111,\"#46039f\"],[0.2222222222222222,\"#7201a8\"],[0.3333333333333333,\"#9c179e\"],[0.4444444444444444,\"#bd3786\"],[0.5555555555555556,\"#d8576b\"],[0.6666666666666666,\"#ed7953\"],[0.7777777777777778,\"#fb9f3a\"],[0.8888888888888888,\"#fdca26\"],[1.0,\"#f0f921\"]]}],\"surface\":[{\"type\":\"surface\",\"colorbar\":{\"outlinewidth\":0,\"ticks\":\"\"},\"colorscale\":[[0.0,\"#0d0887\"],[0.1111111111111111,\"#46039f\"],[0.2222222222222222,\"#7201a8\"],[0.3333333333333333,\"#9c179e\"],[0.4444444444444444,\"#bd3786\"],[0.5555555555555556,\"#d8576b\"],[0.6666666666666666,\"#ed7953\"],[0.7777777777777778,\"#fb9f3a\"],[0.8888888888888888,\"#fdca26\"],[1.0,\"#f0f921\"]]}],\"mesh3d\":[{\"type\":\"mesh3d\",\"colorbar\":{\"outlinewidth\":0,\"ticks\":\"\"}}],\"scatter\":[{\"marker\":{\"line\":{\"color\":\"#283442\"}},\"type\":\"scatter\"}],\"parcoords\":[{\"type\":\"parcoords\",\"line\":{\"colorbar\":{\"outlinewidth\":0,\"ticks\":\"\"}}}],\"scatterpolargl\":[{\"type\":\"scatterpolargl\",\"marker\":{\"colorbar\":{\"outlinewidth\":0,\"ticks\":\"\"}}}],\"bar\":[{\"error_x\":{\"color\":\"#f2f5fa\"},\"error_y\":{\"color\":\"#f2f5fa\"},\"marker\":{\"line\":{\"color\":\"rgb(17,17,17)\",\"width\":0.5},\"pattern\":{\"fillmode\":\"overlay\",\"size\":10,\"solidity\":0.2}},\"type\":\"bar\"}],\"scattergeo\":[{\"type\":\"scattergeo\",\"marker\":{\"colorbar\":{\"outlinewidth\":0,\"ticks\":\"\"}}}],\"scatterpolar\":[{\"type\":\"scatterpolar\",\"marker\":{\"colorbar\":{\"outlinewidth\":0,\"ticks\":\"\"}}}],\"histogram\":[{\"marker\":{\"pattern\":{\"fillmode\":\"overlay\",\"size\":10,\"solidity\":0.2}},\"type\":\"histogram\"}],\"scattergl\":[{\"marker\":{\"line\":{\"color\":\"#283442\"}},\"type\":\"scattergl\"}],\"scatter3d\":[{\"type\":\"scatter3d\",\"line\":{\"colorbar\":{\"outlinewidth\":0,\"ticks\":\"\"}},\"marker\":{\"colorbar\":{\"outlinewidth\":0,\"ticks\":\"\"}}}],\"scattermapbox\":[{\"type\":\"scattermapbox\",\"marker\":{\"colorbar\":{\"outlinewidth\":0,\"ticks\":\"\"}}}],\"scatterternary\":[{\"type\":\"scatterternary\",\"marker\":{\"colorbar\":{\"outlinewidth\":0,\"ticks\":\"\"}}}],\"scattercarpet\":[{\"type\":\"scattercarpet\",\"marker\":{\"colorbar\":{\"outlinewidth\":0,\"ticks\":\"\"}}}],\"carpet\":[{\"aaxis\":{\"endlinecolor\":\"#A2B1C6\",\"gridcolor\":\"#506784\",\"linecolor\":\"#506784\",\"minorgridcolor\":\"#506784\",\"startlinecolor\":\"#A2B1C6\"},\"baxis\":{\"endlinecolor\":\"#A2B1C6\",\"gridcolor\":\"#506784\",\"linecolor\":\"#506784\",\"minorgridcolor\":\"#506784\",\"startlinecolor\":\"#A2B1C6\"},\"type\":\"carpet\"}],\"table\":[{\"cells\":{\"fill\":{\"color\":\"#506784\"},\"line\":{\"color\":\"rgb(17,17,17)\"}},\"header\":{\"fill\":{\"color\":\"#2a3f5f\"},\"line\":{\"color\":\"rgb(17,17,17)\"}},\"type\":\"table\"}],\"barpolar\":[{\"marker\":{\"line\":{\"color\":\"rgb(17,17,17)\",\"width\":0.5},\"pattern\":{\"fillmode\":\"overlay\",\"size\":10,\"solidity\":0.2}},\"type\":\"barpolar\"}],\"pie\":[{\"automargin\":true,\"type\":\"pie\"}]},\"layout\":{\"autotypenumbers\":\"strict\",\"colorway\":[\"#636efa\",\"#EF553B\",\"#00cc96\",\"#ab63fa\",\"#FFA15A\",\"#19d3f3\",\"#FF6692\",\"#B6E880\",\"#FF97FF\",\"#FECB52\"],\"font\":{\"color\":\"#f2f5fa\"},\"hovermode\":\"closest\",\"hoverlabel\":{\"align\":\"left\"},\"paper_bgcolor\":\"rgb(17,17,17)\",\"plot_bgcolor\":\"rgb(17,17,17)\",\"polar\":{\"bgcolor\":\"rgb(17,17,17)\",\"angularaxis\":{\"gridcolor\":\"#506784\",\"linecolor\":\"#506784\",\"ticks\":\"\"},\"radialaxis\":{\"gridcolor\":\"#506784\",\"linecolor\":\"#506784\",\"ticks\":\"\"}},\"ternary\":{\"bgcolor\":\"rgb(17,17,17)\",\"aaxis\":{\"gridcolor\":\"#506784\",\"linecolor\":\"#506784\",\"ticks\":\"\"},\"baxis\":{\"gridcolor\":\"#506784\",\"linecolor\":\"#506784\",\"ticks\":\"\"},\"caxis\":{\"gridcolor\":\"#506784\",\"linecolor\":\"#506784\",\"ticks\":\"\"}},\"coloraxis\":{\"colorbar\":{\"outlinewidth\":0,\"ticks\":\"\"}},\"colorscale\":{\"sequential\":[[0.0,\"#0d0887\"],[0.1111111111111111,\"#46039f\"],[0.2222222222222222,\"#7201a8\"],[0.3333333333333333,\"#9c179e\"],[0.4444444444444444,\"#bd3786\"],[0.5555555555555556,\"#d8576b\"],[0.6666666666666666,\"#ed7953\"],[0.7777777777777778,\"#fb9f3a\"],[0.8888888888888888,\"#fdca26\"],[1.0,\"#f0f921\"]],\"sequentialminus\":[[0.0,\"#0d0887\"],[0.1111111111111111,\"#46039f\"],[0.2222222222222222,\"#7201a8\"],[0.3333333333333333,\"#9c179e\"],[0.4444444444444444,\"#bd3786\"],[0.5555555555555556,\"#d8576b\"],[0.6666666666666666,\"#ed7953\"],[0.7777777777777778,\"#fb9f3a\"],[0.8888888888888888,\"#fdca26\"],[1.0,\"#f0f921\"]],\"diverging\":[[0,\"#8e0152\"],[0.1,\"#c51b7d\"],[0.2,\"#de77ae\"],[0.3,\"#f1b6da\"],[0.4,\"#fde0ef\"],[0.5,\"#f7f7f7\"],[0.6,\"#e6f5d0\"],[0.7,\"#b8e186\"],[0.8,\"#7fbc41\"],[0.9,\"#4d9221\"],[1,\"#276419\"]]},\"xaxis\":{\"gridcolor\":\"#283442\",\"linecolor\":\"#506784\",\"ticks\":\"\",\"title\":{\"standoff\":15},\"zerolinecolor\":\"#283442\",\"automargin\":true,\"zerolinewidth\":2},\"yaxis\":{\"gridcolor\":\"#283442\",\"linecolor\":\"#506784\",\"ticks\":\"\",\"title\":{\"standoff\":15},\"zerolinecolor\":\"#283442\",\"automargin\":true,\"zerolinewidth\":2},\"scene\":{\"xaxis\":{\"backgroundcolor\":\"rgb(17,17,17)\",\"gridcolor\":\"#506784\",\"linecolor\":\"#506784\",\"showbackground\":true,\"ticks\":\"\",\"zerolinecolor\":\"#C8D4E3\",\"gridwidth\":2},\"yaxis\":{\"backgroundcolor\":\"rgb(17,17,17)\",\"gridcolor\":\"#506784\",\"linecolor\":\"#506784\",\"showbackground\":true,\"ticks\":\"\",\"zerolinecolor\":\"#C8D4E3\",\"gridwidth\":2},\"zaxis\":{\"backgroundcolor\":\"rgb(17,17,17)\",\"gridcolor\":\"#506784\",\"linecolor\":\"#506784\",\"showbackground\":true,\"ticks\":\"\",\"zerolinecolor\":\"#C8D4E3\",\"gridwidth\":2}},\"shapedefaults\":{\"line\":{\"color\":\"#f2f5fa\"}},\"annotationdefaults\":{\"arrowcolor\":\"#f2f5fa\",\"arrowhead\":0,\"arrowwidth\":1},\"geo\":{\"bgcolor\":\"rgb(17,17,17)\",\"landcolor\":\"rgb(17,17,17)\",\"subunitcolor\":\"#506784\",\"showland\":true,\"showlakes\":true,\"lakecolor\":\"rgb(17,17,17)\"},\"title\":{\"x\":0.05},\"updatemenudefaults\":{\"bgcolor\":\"#506784\",\"borderwidth\":0},\"sliderdefaults\":{\"bgcolor\":\"#C8D4E3\",\"borderwidth\":1,\"bordercolor\":\"rgb(17,17,17)\",\"tickwidth\":0},\"mapbox\":{\"style\":\"dark\"}}},\"mapbox\":{\"domain\":{\"x\":[0.0,1.0],\"y\":[0.0,1.0]},\"center\":{\"lat\":-36.6122008939904,\"lon\":-72.10389084343684},\"zoom\":11,\"style\":\"dark\",\"accesstoken\":\"pk.eyJ1IjoidHJhbnNhcHAiLCJhIjoiY2w4czhubzh3MXhwajNwbzgwM2dzM3R6bCJ9.vsA2xogBFcRYH2DbwDOb4w\"},\"legend\":{\"tracegroupgap\":0},\"title\":{\"text\":\"stops\"},\"height\":700,\"margin\":{\"r\":0,\"t\":0,\"l\":0,\"b\":0}},                        {\"responsive\": true}                    ).then(function(){\n                            \nvar gd = document.getElementById('791f9707-92b6-49fb-984c-563d6e1a2695');\nvar x = new MutationObserver(function (mutations, observer) {{\n        var display = window.getComputedStyle(gd).display;\n        if (!display || display === 'none') {{\n            console.log([gd, 'removed!']);\n            Plotly.purge(gd);\n            observer.disconnect();\n        }}\n}});\n\n// Listen for the removal of the full notebook cells\nvar notebookContainer = gd.closest('#notebook-container');\nif (notebookContainer) {{\n    x.observe(notebookContainer, {childList: true});\n}}\n\n// Listen for the clearing of the current output cell\nvar outputEl = gd.closest('.output');\nif (outputEl) {{\n    x.observe(outputEl, {childList: true});\n}}\n\n                        })                };                });            </script>        </div>"
     },
     "metadata": {},
     "output_type": "display_data"
    }
   ],
   "source": [
    "generate_stop_matching_evaluation_map(curve_lat_lon, stops_in_shape, \"chillan\", True)"
   ],
   "metadata": {
    "collapsed": false
   }
  },
  {
   "cell_type": "markdown",
   "source": [
    "\n",
    "### **Particionar segmentos**"
   ],
   "metadata": {
    "collapsed": false
   }
  },
  {
   "cell_type": "code",
   "execution_count": 698,
   "outputs": [],
   "source": [
    "from shapely.ops import split\n",
    "\n",
    "def shape_partition(line, points):\n",
    "\n",
    "    partition = []\n",
    "\n",
    "    for point in points:\n",
    "\n",
    "        part = split(line, point)\n",
    "        line = list(part.geoms)[0]\n",
    "        line_next = list(part.geoms)[1]\n",
    "\n",
    "        partition += [line]\n",
    "\n",
    "        line = line_next\n",
    "\n",
    "    return partition + [line]"
   ],
   "metadata": {
    "collapsed": false
   }
  },
  {
   "cell_type": "code",
   "execution_count": 692,
   "outputs": [
    {
     "name": "stdout",
     "output_type": "stream",
     "text": [
      "POINT (759501.4941490631 5942389.511932061)\n",
      "GEOMETRYCOLLECTION (LINESTRING (759501.4941490631 5942389.511932061, 759501.4941490631 5942389.511932061, 759501.4941490631 5942389.511932061, 759511.2101445664 5942414.763962287, 759531.1219968224 5942421.936506713, 759542.2576720768 5942434.927955963, 759551.4367183194 5942442.42512446, 759556.1773119605 5942451.167249472, 759558.2682581971 5942461.100222391, 759556.6808591143 5942467.812396416, 759550.554267956 5942472.440502569, 759507.3658802917 5942494.850026056, 759465.0716935869 5942517.232271737, 759465.0716935869 5942517.232271737, 759465.9526847848 5942516.761353556, 759465.0716935869 5942517.232271737, 759427.1822748119 5942537.25972759, 759416.5834855782 5942542.022948056, 759399.7573155123 5942548.085117871, 759355.7744059102 5942573.849901609, 759355.7744059102 5942573.849901609, 759343.4537793079 5942580.886449851, 759332.7878169449 5942583.4302100595, 759314.4858692538 5942540.666482921, 759302.9312398338 5942513.803806797, 759302.9312398338 5942513.803806797, 759294.2611176604 5942493.518081974, 759289.4872490349 5942483.666150598, 759282.7904357793 5942469.42957275, 759272.3148168195 5942448.643049719, 759266.6465884256 5942438.818135746, 759266.6465884256 5942438.818135746, 759267.5912923265 5942440.455621628, 759266.6465884256 5942438.818135746, 759256.1375073919 5942416.921920717, 759251.4307784291 5942409.289322943, 759249.4743214172 5942403.794996955, 759247.3502137035 5942392.752292719, 759241.179094313 5942366.282231234, 759234.974474262 5942338.702490787, 759234.974474262 5942338.702490787, 759234.9778272203 5942338.81345835, 759232.9174506981 5942329.879135095, 759230.8604303468 5942321.05577903, 759227.8084348318 5942308.930419872, 759223.5938270913 5942287.954678581, 759221.3691789199 5942273.582942541, 759220.1730353755 5942263.622885173, 759214.2258676577 5942214.93227173, 759208.4463757633 5942171.79003332, 759207.0826079852 5942156.281595459, 759207.0826079852 5942156.281595459, 759206.5459829489 5942156.29780915, 759204.8579963348 5942141.909855844, 759203.4942335751 5942126.401417373, 759197.61422138 5942079.930145018, 759191.8683533652 5942037.897572626, 759187.0839305717 5941998.057327201, 759182.4001118349 5941961.546107185, 759178.6777196088 5941927.22721575, 759174.0609939604 5941892.935343619, 759169.310183805 5941854.2047651205, 759166.5492337774 5941822.078199931, 759162.7263222557 5941784.430273236, 759162.5586903645 5941778.881892534, 759160.0659682525 5941755.632733851, 759159.0040040687 5941750.111373194, 759157.0477090119 5941744.617032461, 759153.2357022904 5941736.957378462, 759151.2794130502 5941731.463036679, 759094.077283507 5941645.446641065, 759094.077283507 5941645.446641065, 759130.9347697442 5941621.008770581, 759159.0165270987 5941602.389326271, 759187.1316977527 5941584.8794594845, 759215.2132220961 5941566.259817373, 759244.1889398019 5941547.613046156, 759272.3037688602 5941530.102879915, 759302.1400092575 5941510.319188351, 759302.1400092575 5941510.319188351, 759303.9957209822 5941512.484469153, 759358.549938605 5941599.690351618, 759354.1454555583 5941602.044913552, 759354.1454555583 5941602.044913552, 759354.2449533087 5941602.375112511, 759328.6799278475 5941618.364549987, 759299.704112969 5941637.0116014555, 759272.4497385559 5941653.385129606, 759252.2492427747 5941666.213295692, 759252.2492427747 5941666.213295692, 759252.0770857792 5941666.440637076, 759243.4736911806 5941672.031977316, 759214.497521826 5941690.678719904, 759186.382028551 5941708.1886578575, 759151.2794130502 5941731.463036679, 759153.2357022904 5941736.957378462, 759157.0477090119 5941744.617032461, 759159.0040040687 5941750.111373194, 759160.0659682525 5941755.632733851, 759160.0994945808 5941756.742410017, 759160.0994945808 5941756.742410017, 759160.2023384245 5941757.183578461, 759162.5586903645 5941778.881892534, 759162.7263222557 5941784.430273236, 759166.5492337774 5941822.078199931, 759166.817445023 5941830.9556086715, 759166.817445023 5941830.9556086715, 759167.3607548492 5941831.161331571, 759169.310183805 5941854.2047651205, 759174.0609939604 5941892.935343619, 759178.6777196088 5941927.22721575, 759182.4001118349 5941961.546107185, 759187.0839305717 5941998.057327201, 759191.8683533652 5942037.897572626, 759197.61422138 5942079.930145018, 759203.4942335751 5942126.401417373, 759213.2987957858 5942124.994486811, 759288.2248047903 5942116.066112049, 759288.2248047903 5942116.066112049, 759287.9531395001 5942115.963253899, 759348.8743266491 5942108.6793698445, 759407.7350390906 5942101.346281942, 759407.7350390906 5942101.346281942, 759413.5826448479 5942146.707795348, 759416.0089394572 5942167.737558413, 759416.0089394572 5942167.737558413, 759416.363334948 5942167.615772935, 759419.3631747664 5942189.849952461, 759429.6156595085 5942232.856879295, 759410.07341833 5942237.890565574, 759410.07341833 5942237.890565574, 759409.715664436 5942237.901382988, 759394.9695321776 5942241.679321248, 759390.5311577306 5942242.924206101, 759365.5554693919 5942245.900683415, 759338.7909988654 5942248.931159442, 759338.7909988654 5942248.931159442, 759339.069377718 5942249.25595144, 759228.2225125006 5942263.379668996, 759220.1730353755 5942263.622885173, 759212.1570858867 5942264.975769426, 759130.1081610746 5942275.229195094, 759105.1323519836 5942278.204904921, 759090.8556686642 5942279.746752463, 759069.4238834074 5942281.504641164, 759066.7407213944 5942281.585664062, 759058.6912354766 5942281.828727709, 759011.0877032699 5942276.601899017, 758985.016503921 5942272.946209803, 758975.1447617066 5942272.133518446, 758967.8556919282 5942267.910799904, 758942.410991665 5942255.350588791, 758936.9777043972 5942253.293205557, 758930.6500365719 5942251.262812537, 758926.1446290022 5942250.288103953, 758926.1446290022 5942250.288103953, 758926.0551906727 5942250.290803254, 758848.6585041294 5942233.7446897635, 758851.8773446577 5942251.418527015, 758851.8773446577 5942251.418527015, 758851.6549427713 5942249.981347168, 758851.8773446577 5942251.418527015, 758819.4452214446 5942244.622214494, 758819.4452214446 5942244.622214494, 758820.2568607073 5942244.819865628, 758819.4452214446 5942244.622214494, 758765.4141316845 5942234.034543722, 758741.0650533087 5942228.104825361, 758741.0650533087 5942228.104825361, 758740.9096041698 5942228.886992075, 758732.9821684153 5942227.237911822, 758727.5824246687 5942226.290073894, 758711.3497390721 5942222.336865988, 758660.0355665952 5942212.777307725, 758648.3417446334 5942210.9085029345, 758654.5778592491 5942239.598238451, 758657.5955604841 5942250.614083152, 758657.5955604841 5942250.614083152, 758656.4879541183 5942246.537951059, 758657.5955604841 5942250.614083152, 758657.6959281533 5942253.9431049265, 758665.9885119915 5942291.456295418, 758668.044938051 5942300.279755149, 758669.2069793819 5942309.130180424, 758672.2247138821 5942320.146021256, 758676.437961231 5942341.12195969, 758698.3319044065 5942443.7553126905, 758707.2090055898 5942441.266278969, 758734.7681476518 5942434.881823, 758734.7681476518 5942434.881823, 758734.4137334609 5942435.003579179, 758734.7681476518 5942434.881823, 758853.1209299909 5942411.319584133, 758883.396585859 5942405.963360447, 758996.1240735254 5942382.902030174, 758996.1240735254 5942382.902030174, 758998.1711382347 5942382.50702852, 759003.4471008368 5942409.004224047, 759004.5089959452 5942414.525597816, 759008.8570837518 5942439.940116216, 759008.8570837518 5942439.940116216, 759008.3093844372 5942436.624592163, 759008.8570837518 5942439.940116216, 759009.8854845979 5942444.351814706, 759015.1949994676 5942471.958679518, 759016.1564059757 5942474.15102794, 759022.4273592393 5942503.9502377175, 759025.5795980812 5942519.40467867, 759029.9947677607 5942547.038538331, 759031.9511023676 5942552.532907335, 759033.9409402634 5942559.136950677, 759047.4678457654 5942592.049147962, 759066.7969402072 5942639.225067802, 759066.7969402072 5942639.225067802, 759066.1205862882 5942637.579459574, 759066.7969402072 5942639.225067802, 759090.8123755867 5942634.057187354, 759137.982266309 5942624.857908135, 759137.982266309 5942624.857908135, 759139.4032897626 5942624.4817847945, 759148.6483184522 5942622.314395922, 759154.8757657929 5942621.015620016, 759209.1338788166 5942609.380470097, 759256.3035599526 5942600.180526508, 759278.52997239 5942595.066159554, 759332.7878169449 5942583.4302100595, 759333.7828561796 5942586.732203277, 759333.7828561796 5942586.732203277, 759352.0849747132 5942629.495897118, 759355.897469388 5942637.155484492, 759367.4356196695 5942663.463264986, 759367.4356196695 5942663.463264986, 759367.3394681583 5942663.244033534, 759372.2432007474 5942674.424836468, 759383.714349965 5942698.513247889, 759394.224029789 5942720.409334667, 759397.0750661504 5942725.8765948545, 759407.5177119281 5942745.553316908, 759417.0659615367 5942765.257069647, 759423.7631793572 5942779.493561593, 759439.9081094419 5942810.104754066, 759461.7553644207 5942851.650406497, 759488.3099724695 5942900.828503527, 759517.4811185028 5942947.706028633, 759459.7438848063 5942962.780232554, 759459.7438848063 5942962.780232554, 759459.9026458671 5942962.109018343, 759426.8501277509 5942970.438870701, 759358.7010806294 5942987.604231423, 759358.7010806294 5942987.604231423, 759356.6572318212 5942988.110279222, 759375.5638101222 5943050.848105039, 759375.5638101222 5943050.848105039, 759375.1858984791 5943050.193114096, 759391.5188560203 5943104.789608553, 759396.4608177127 5943120.189875195, 759401.4363364358 5943136.699814694, 759397.9255063646 5943139.027314115, 759364.3713047296 5943154.480431972, 759357.3160732938 5943158.02572207, 759357.3160732938 5943158.02572207, 759357.4088749712 5943158.133986283, 759337.0448274529 5943168.634525023, 759307.929299572 5943182.842581149, 759304.4184271955 5943185.170039798, 759277.9527228691 5943198.187232003, 759273.5138272669 5943199.432026848, 759247.942523398 5943212.422097612, 759242.6426525455 5943214.803571308, 759222.3711465443 5943225.412087814, 759217.932230849 5943226.656852687, 759207.3659706655 5943232.529431984, 759211.1450194948 5943239.07941032, 759226.462377211 5943271.937355605, 759228.3183971017 5943274.1026671035, 759228.3183971017 5943274.1026671035, 759227.5133545056 5943274.1269838745, 759235.0491077458 5943289.448974924, 759240.7512658159 5943300.383600961, 759245.558941331 5943311.345244147, 759250.4001484164 5943323.41655948, 759255.2413673544 5943335.487872623, 759261.1782284733 5943354.190207973, 759269.0717283129 5943378.386867267, 759278.8213231603 5943404.748823332, 759293.6134362246 5943449.840112507, 759310.2617626709 5943497.096678691, 759310.2617626709 5943497.096678691, 759309.1805690269 5943493.908351732, 759310.2617626709 5943497.096678691, 759327.010829046 5943547.682242302, 759328.9675125201 5943553.176558701, 759359.4472695029 5943643.331952086, 759390.8891739722 5943735.67957631, 759393.8410735452 5943744.475870736, 759399.6778175653 5943759.8491087705, 759401.6345813682 5943765.343412152, 759356.448723207 5943781.14778458, 759356.448723207 5943781.14778458, 759355.8918784042 5943780.498197614, 759265.114977106 5943810.563460385, 759203.960831583 5943831.292029813, 759129.4886474559 5943855.7542534415, 759053.2604680255 5943881.379474773, 758994.7890855186 5943902.025507315, 758996.6786418997 5943905.300543932, 758996.6786418997 5943905.300543932, 758998.9910954919 5943904.786498125, 758993.5845241621 5943906.6156515945, 759046.4686997603 5944047.964815903, 759071.2130909996 5944123.188820446, 759088.8637537714 5944176.968547024, 759131.9463816558 5944307.950623828, 759178.1809608208 5944448.38929533, 759191.2953894878 5944488.311213136, 759191.2953894878 5944488.311213136, 759222.1715401943 5944582.675730975, 759266.8498313818 5944718.940491505, 759313.8118494488 5944853.692248794, 759449.9078182799 5944808.70783417, 759582.1521753336 5944763.726520042, 759721.130824632 5944716.42904539, 759858.4217247011 5944669.624552053, 759896.9758390692 5944656.4621550795, 759896.9758390692 5944656.4621550795, 759991.3712521576 5944624.393103108, 759946.8515895787 5944490.792001897, 759811.2592440083 5944534.436869098, 759675.464415021 5944580.30698462, 759630.0910952184 5944444.953389855, 759585.2121175478 5944308.140801607, 759449.1125574098 5944355.68281424, 759407.9090382322 5944370.03401134, 759407.9090382322 5944370.03401134, 759315.403632305 5944402.37285793, 759178.1809608208 5944448.38929533, 759039.0347581438 5944493.017568377, 758907.0141343914 5944536.428981978, 758770.3837529381 5944581.421076201, 758638.1157285804 5944625.61306433, 758627.9210839516 5944629.030054286, 758503.4410063325 5944670.208566524, 758495.3700016027 5944672.783979653, 758456.4429888211 5944685.506872427, 758456.4429888211 5944685.506872427, 758396.2349712816 5944705.200897651, 758363.6028589689 5944715.845754788, 758227.8032707014 5944764.802173989, 758274.1691838601 5944901.131099131, 758320.138411101 5945036.138990587, 758369.5560741558 5945175.596735203, 758411.4916437494 5945310.392474411, 758455.7071086207 5945440.565712957, 758469.1609599593 5945482.921770594, 758469.1609599593 5945482.921770594, 758499.7401898778 5945579.518622583, 758530.9956981579 5945674.762241581, 758543.6174578066 5945713.255913142, 758594.1886736873 5945855.1215952905, 758659.163611607 5945835.83865767, 758852.3216952619 5945769.932052147, 758870.317894049 5945763.836289521, 758999.7558598244 5945717.284054222, 759134.8595637429 5945671.558426531, 759170.0459458838 5945659.389932634, 759169.531606803 5945657.184090231, 759169.531606803 5945657.184090231, 759267.9098198495 5945623.115837291, 759272.8859761857 5945639.625858712, 759270.9007376251 5945751.864707333, 759268.2931198564 5945784.153204348, 759268.3936074344 5945787.482217583, 759268.6280781726 5945795.249915085, 759266.680711488 5945819.743703032, 759266.8146925061 5945824.182387132, 759253.900385281 5945960.075372303, 759235.0085820641 5946165.01089232, 759229.7589510753 5946228.478125024, 759220.1356091369 5946295.409359381, 759219.3747379596 5946299.875040835, 759219.3747379596 5946299.875040835, 759259.2391932716 5946285.343881261, 759303.5440549257 5946269.567812883, 759350.4996783847 5946252.600793578, 759396.5603333595 5946235.660526711, 759427.5767829219 5946224.727755489, 759480.7285210672 5946205.351493482, 759517.0465162443 5946192.036872923, 759522.3482536713 5946189.655335994, 759526.7216663737 5946186.191157458, 759526.7216663737 5946186.191157458, 759526.3704524942 5946186.423904977, 759526.7216663737 5946186.191157458, 759532.2916017429 5946192.686985136, 759556.5957235985 5946226.383891662, 759587.3983841977 5946267.659167552, 759618.2013263938 5946308.934346875, 759640.5823007873 5946338.24644386, 759650.8612579458 5946352.374682596, 759662.0350638155 5946366.475864448, 759685.3446866046 5946396.870484488, 759712.3679441186 5946431.595531866, 759712.3679441186 5946431.595531866, 759734.3694985998 5946418.712837066, 759738.7765118349 5946416.358225234, 759753.7200776984 5946407.020920942, 759788.908920208 5946385.964530751, 759804.7472011409 5946376.600072112, 759824.9924144329 5946364.880923383, 759864.5543005116 5946340.359868619, 759903.254728064 5946316.975362727, 759934.0359620204 5946298.273038775, 759971.87479778 5946276.024949843, 760000.899717927 5946258.48620026, 760000.899717927 5946258.48620026, 759972.6114760252 5946211.582696712, 759948.104185781 5946171.228842242, 759936.762205581 5946151.579652999, 759936.762205581 5946151.579652999, 759920.7448466799 5946125.407788904, 759894.3477126735 5946081.778934812, 759868.8791814977 5946039.2326147035, 759841.5541904967 5945994.521019474, 759845.0728836288 5945992.415339824, 759845.0728836288 5945992.415339824, 759938.3008574644 5945936.059431309, 760034.1178965488 5945876.514092384, 760034.1178965488 5945876.514092384, 760066.7786736304 5945919.952899949, 760094.0039013702 5945961.33481494, 760125.7704900969 5946004.800520717, 760156.6089899036 5946047.183550173, 760185.5909748212 5946087.401340956, 760216.3964211708 5946128.674509724, 760224.8193470656 5946140.636967659, 760227.6045834338 5946143.884669633, 760256.5535739356 5946182.992578054, 760316.2755511444 5946262.263583302, 760326.5556089537 5946276.391071664, 760383.4598258535 5946351.304320779, 760403.0582921485 5946377.366922097, 760584.0921034481 5946617.341241615, 760698.1120834319 5946773.822468968, 760743.8462731624 5946834.63368064, 760755.0561985646 5946849.843239635, 760769.0518194984 5946868.30033326, 760773.7282652722 5946874.822584823, 760779.2995944667 5946881.317674531, 760798.0391554517 5946908.516322399, 760803.6442047434 5946916.121072663, 760817.6400276006 5946934.578097158, 760834.421616607 5946956.282630435, 760865.1656142904 5946995.33441711, 760870.7707740986 5947002.939129071, 760898.8304069818 5947042.072315577, 760921.2513314534 5947072.491067776, 760931.5332549243 5947086.6179245785, 760940.88661268 5947099.662271392, 760976.4430978396 5947149.674578411, 760982.0147445949 5947156.169552498, 761034.3542529223 5947227.885903299, 761051.1706187736 5947250.6997410655, 761058.6333494742 5947260.469323721, 761067.058438549 5947272.431062838, 761104.4735772568 5947324.607883524, 761150.213289183 5947385.417206263, 761155.818929974 5947393.0217561405, 761170.7448691677 5947412.5607569525, 761178.207863033 5947422.330248846, 761208.0937280494 5947462.517834615, 761260.4705320338 5947535.342660196, 761260.4705320338 5947535.342660196, 761274.553545231 5947527.139625717, 761288.6702701924 5947520.046241745, 761303.6819187603 5947512.925622612, 761319.6559722542 5947507.997113994, 761334.7350650068 5947503.095788711, 761350.7428325668 5947499.276895741, 761365.8032723102 5947496.708554184, 761366.7843361505 5947496.567647599))\n"
     ]
    },
    {
     "ename": "IndexError",
     "evalue": "list index out of range",
     "output_type": "error",
     "traceback": [
      "\u001B[1;31m---------------------------------------------------------------------------\u001B[0m",
      "\u001B[1;31mIndexError\u001B[0m                                Traceback (most recent call last)",
      "Cell \u001B[1;32mIn[692], line 5\u001B[0m\n\u001B[0;32m      2\u001B[0m asdfg_ \u001B[38;5;241m=\u001B[39m [Point(\u001B[38;5;241m759501.4941490631\u001B[39m, \u001B[38;5;241m5942389.511932061\u001B[39m)]\n\u001B[0;32m      3\u001B[0m \u001B[38;5;28mprint\u001B[39m(asdfg_[\u001B[38;5;241m0\u001B[39m])\n\u001B[1;32m----> 5\u001B[0m asd_partition \u001B[38;5;241m=\u001B[39m \u001B[43mshape_partition\u001B[49m\u001B[43m(\u001B[49m\u001B[43masdfg\u001B[49m\u001B[43m,\u001B[49m\u001B[43m \u001B[49m\u001B[43masdfg_\u001B[49m\u001B[43m)\u001B[49m\n\u001B[0;32m      8\u001B[0m part \u001B[38;5;241m=\u001B[39m split(asdfg, asdfg_)\n\u001B[0;32m      9\u001B[0m part\n",
      "Cell \u001B[1;32mIn[671], line 12\u001B[0m, in \u001B[0;36mshape_partition\u001B[1;34m(line, points)\u001B[0m\n\u001B[0;32m     10\u001B[0m \u001B[38;5;28mprint\u001B[39m(part)\n\u001B[0;32m     11\u001B[0m line \u001B[38;5;241m=\u001B[39m \u001B[38;5;28mlist\u001B[39m(part\u001B[38;5;241m.\u001B[39mgeoms)[\u001B[38;5;241m0\u001B[39m]\n\u001B[1;32m---> 12\u001B[0m line_next \u001B[38;5;241m=\u001B[39m \u001B[38;5;28;43mlist\u001B[39;49m\u001B[43m(\u001B[49m\u001B[43mpart\u001B[49m\u001B[38;5;241;43m.\u001B[39;49m\u001B[43mgeoms\u001B[49m\u001B[43m)\u001B[49m\u001B[43m[\u001B[49m\u001B[38;5;241;43m1\u001B[39;49m\u001B[43m]\u001B[49m\n\u001B[0;32m     14\u001B[0m partition \u001B[38;5;241m+\u001B[39m\u001B[38;5;241m=\u001B[39m [line]\n\u001B[0;32m     16\u001B[0m line \u001B[38;5;241m=\u001B[39m line_next\n",
      "\u001B[1;31mIndexError\u001B[0m: list index out of range"
     ]
    }
   ],
   "source": [
    "asdfg = ls\n",
    "asdfg_ = [Point(759501.4941490631, 5942389.511932061)]\n",
    "print(asdfg_[0])\n",
    "\n",
    "asd_partition = shape_partition(asdfg, asdfg_)\n",
    "\n",
    "\n",
    "part = split(asdfg, asdfg_)\n",
    "part"
   ],
   "metadata": {
    "collapsed": false
   }
  },
  {
   "cell_type": "code",
   "execution_count": 701,
   "outputs": [
    {
     "data": {
      "text/plain": "[<LINESTRING (1 2, 2 3)>, <LINESTRING (2 3, 3 4)>, <LINESTRING (3 4, 4 5)>]"
     },
     "execution_count": 701,
     "metadata": {},
     "output_type": "execute_result"
    }
   ],
   "source": [
    "line_ = LineString([(1,2),(2,3),(3,4),(4,5)])\n",
    "points_ = [Point(2,3), Point(3,4)]\n",
    "\n",
    "partitions_ = shape_partition(line_, points_)\n",
    "partitions_"
   ],
   "metadata": {
    "collapsed": false
   }
  },
  {
   "cell_type": "code",
   "execution_count": 680,
   "outputs": [
    {
     "ename": "AttributeError",
     "evalue": "'list' object has no attribute 'geom_type'",
     "output_type": "error",
     "traceback": [
      "\u001B[1;31m---------------------------------------------------------------------------\u001B[0m",
      "\u001B[1;31mAttributeError\u001B[0m                            Traceback (most recent call last)",
      "Cell \u001B[1;32mIn[680], line 2\u001B[0m\n\u001B[0;32m      1\u001B[0m asdf \u001B[38;5;241m=\u001B[39m [asd[\u001B[38;5;241m0\u001B[39m]]\n\u001B[1;32m----> 2\u001B[0m partitions_2 \u001B[38;5;241m=\u001B[39m \u001B[43mshape_partition\u001B[49m\u001B[43m(\u001B[49m\u001B[43mls\u001B[49m\u001B[43m,\u001B[49m\u001B[43m \u001B[49m\u001B[43m[\u001B[49m\u001B[43masdf\u001B[49m\u001B[43m]\u001B[49m\u001B[43m)\u001B[49m\n",
      "Cell \u001B[1;32mIn[671], line 9\u001B[0m, in \u001B[0;36mshape_partition\u001B[1;34m(line, points)\u001B[0m\n\u001B[0;32m      5\u001B[0m partition \u001B[38;5;241m=\u001B[39m []\n\u001B[0;32m      7\u001B[0m \u001B[38;5;28;01mfor\u001B[39;00m point \u001B[38;5;129;01min\u001B[39;00m points:\n\u001B[1;32m----> 9\u001B[0m     part \u001B[38;5;241m=\u001B[39m \u001B[43msplit\u001B[49m\u001B[43m(\u001B[49m\u001B[43mline\u001B[49m\u001B[43m,\u001B[49m\u001B[43m \u001B[49m\u001B[43mpoint\u001B[49m\u001B[43m)\u001B[49m\n\u001B[0;32m     10\u001B[0m     \u001B[38;5;28mprint\u001B[39m(part)\n\u001B[0;32m     11\u001B[0m     line \u001B[38;5;241m=\u001B[39m \u001B[38;5;28mlist\u001B[39m(part\u001B[38;5;241m.\u001B[39mgeoms)[\u001B[38;5;241m0\u001B[39m]\n",
      "File \u001B[1;32m~\\AppData\\Local\\Programs\\Python\\Python39\\lib\\site-packages\\shapely\\ops.py:525\u001B[0m, in \u001B[0;36mSplitOp.split\u001B[1;34m(geom, splitter)\u001B[0m\n\u001B[0;32m    520\u001B[0m     \u001B[38;5;28;01mreturn\u001B[39;00m GeometryCollection(\n\u001B[0;32m    521\u001B[0m         [i \u001B[38;5;28;01mfor\u001B[39;00m part \u001B[38;5;129;01min\u001B[39;00m geom\u001B[38;5;241m.\u001B[39mgeoms \u001B[38;5;28;01mfor\u001B[39;00m i \u001B[38;5;129;01min\u001B[39;00m SplitOp\u001B[38;5;241m.\u001B[39msplit(part, splitter)\u001B[38;5;241m.\u001B[39mgeoms]\n\u001B[0;32m    522\u001B[0m     )\n\u001B[0;32m    524\u001B[0m \u001B[38;5;28;01melif\u001B[39;00m geom\u001B[38;5;241m.\u001B[39mgeom_type \u001B[38;5;241m==\u001B[39m \u001B[38;5;124m\"\u001B[39m\u001B[38;5;124mLineString\u001B[39m\u001B[38;5;124m\"\u001B[39m:\n\u001B[1;32m--> 525\u001B[0m     \u001B[38;5;28;01mif\u001B[39;00m \u001B[43msplitter\u001B[49m\u001B[38;5;241;43m.\u001B[39;49m\u001B[43mgeom_type\u001B[49m \u001B[38;5;129;01min\u001B[39;00m (\n\u001B[0;32m    526\u001B[0m         \u001B[38;5;124m\"\u001B[39m\u001B[38;5;124mLineString\u001B[39m\u001B[38;5;124m\"\u001B[39m,\n\u001B[0;32m    527\u001B[0m         \u001B[38;5;124m\"\u001B[39m\u001B[38;5;124mMultiLineString\u001B[39m\u001B[38;5;124m\"\u001B[39m,\n\u001B[0;32m    528\u001B[0m         \u001B[38;5;124m\"\u001B[39m\u001B[38;5;124mPolygon\u001B[39m\u001B[38;5;124m\"\u001B[39m,\n\u001B[0;32m    529\u001B[0m         \u001B[38;5;124m\"\u001B[39m\u001B[38;5;124mMultiPolygon\u001B[39m\u001B[38;5;124m\"\u001B[39m,\n\u001B[0;32m    530\u001B[0m     ):\n\u001B[0;32m    531\u001B[0m         split_func \u001B[38;5;241m=\u001B[39m SplitOp\u001B[38;5;241m.\u001B[39m_split_line_with_line\n\u001B[0;32m    532\u001B[0m     \u001B[38;5;28;01melif\u001B[39;00m splitter\u001B[38;5;241m.\u001B[39mgeom_type \u001B[38;5;241m==\u001B[39m \u001B[38;5;124m\"\u001B[39m\u001B[38;5;124mPoint\u001B[39m\u001B[38;5;124m\"\u001B[39m:\n",
      "\u001B[1;31mAttributeError\u001B[0m: 'list' object has no attribute 'geom_type'"
     ]
    }
   ],
   "source": [
    "asdf = [asd[0]]\n",
    "partitions_2 = shape_partition(ls, [asdf])"
   ],
   "metadata": {
    "collapsed": false
   }
  },
  {
   "cell_type": "code",
   "execution_count": null,
   "outputs": [],
   "source": [],
   "metadata": {
    "collapsed": false
   }
  },
  {
   "cell_type": "code",
   "execution_count": 672,
   "outputs": [
    {
     "name": "stdout",
     "output_type": "stream",
     "text": [
      "GEOMETRYCOLLECTION (LINESTRING (759501.4941490631 5942389.511932061, 759501.4941490631 5942389.511932061, 759501.4941490631 5942389.511932061, 759511.2101445664 5942414.763962287, 759531.1219968224 5942421.936506713, 759542.2576720768 5942434.927955963, 759551.4367183194 5942442.42512446, 759556.1773119605 5942451.167249472, 759558.2682581971 5942461.100222391, 759556.6808591143 5942467.812396416, 759550.554267956 5942472.440502569, 759507.3658802917 5942494.850026056, 759465.0716935869 5942517.232271737, 759465.0716935869 5942517.232271737, 759465.9526847848 5942516.761353556, 759465.0716935869 5942517.232271737, 759427.1822748119 5942537.25972759, 759416.5834855782 5942542.022948056, 759399.7573155123 5942548.085117871, 759355.7744059102 5942573.849901609, 759355.7744059102 5942573.849901609, 759343.4537793079 5942580.886449851, 759332.7878169449 5942583.4302100595, 759314.4858692538 5942540.666482921, 759302.9312398338 5942513.803806797, 759302.9312398338 5942513.803806797, 759294.2611176604 5942493.518081974, 759289.4872490349 5942483.666150598, 759282.7904357793 5942469.42957275, 759272.3148168195 5942448.643049719, 759266.6465884256 5942438.818135746, 759266.6465884256 5942438.818135746, 759267.5912923265 5942440.455621628, 759266.6465884256 5942438.818135746, 759256.1375073919 5942416.921920717, 759251.4307784291 5942409.289322943, 759249.4743214172 5942403.794996955, 759247.3502137035 5942392.752292719, 759241.179094313 5942366.282231234, 759234.974474262 5942338.702490787, 759234.974474262 5942338.702490787, 759234.9778272203 5942338.81345835, 759232.9174506981 5942329.879135095, 759230.8604303468 5942321.05577903, 759227.8084348318 5942308.930419872, 759223.5938270913 5942287.954678581, 759221.3691789199 5942273.582942541, 759220.1730353755 5942263.622885173, 759214.2258676577 5942214.93227173, 759208.4463757633 5942171.79003332, 759207.0826079852 5942156.281595459, 759207.0826079852 5942156.281595459, 759206.5459829489 5942156.29780915, 759204.8579963348 5942141.909855844, 759203.4942335751 5942126.401417373, 759197.61422138 5942079.930145018, 759191.8683533652 5942037.897572626, 759187.0839305717 5941998.057327201, 759182.4001118349 5941961.546107185, 759178.6777196088 5941927.22721575, 759174.0609939604 5941892.935343619, 759169.310183805 5941854.2047651205, 759166.5492337774 5941822.078199931, 759162.7263222557 5941784.430273236, 759162.5586903645 5941778.881892534, 759160.0659682525 5941755.632733851, 759159.0040040687 5941750.111373194, 759157.0477090119 5941744.617032461, 759153.2357022904 5941736.957378462, 759151.2794130502 5941731.463036679, 759094.077283507 5941645.446641065, 759094.077283507 5941645.446641065, 759130.9347697442 5941621.008770581, 759159.0165270987 5941602.389326271, 759187.1316977527 5941584.8794594845, 759215.2132220961 5941566.259817373, 759244.1889398019 5941547.613046156, 759272.3037688602 5941530.102879915, 759302.1400092575 5941510.319188351, 759302.1400092575 5941510.319188351, 759303.9957209822 5941512.484469153, 759358.549938605 5941599.690351618, 759354.1454555583 5941602.044913552, 759354.1454555583 5941602.044913552, 759354.2449533087 5941602.375112511, 759328.6799278475 5941618.364549987, 759299.704112969 5941637.0116014555, 759272.4497385559 5941653.385129606, 759252.2492427747 5941666.213295692, 759252.2492427747 5941666.213295692, 759252.0770857792 5941666.440637076, 759243.4736911806 5941672.031977316, 759214.497521826 5941690.678719904, 759186.382028551 5941708.1886578575, 759151.2794130502 5941731.463036679, 759153.2357022904 5941736.957378462, 759157.0477090119 5941744.617032461, 759159.0040040687 5941750.111373194, 759160.0659682525 5941755.632733851, 759160.0994945808 5941756.742410017, 759160.0994945808 5941756.742410017, 759160.2023384245 5941757.183578461, 759162.5586903645 5941778.881892534, 759162.7263222557 5941784.430273236, 759166.5492337774 5941822.078199931, 759166.817445023 5941830.9556086715, 759166.817445023 5941830.9556086715, 759167.3607548492 5941831.161331571, 759169.310183805 5941854.2047651205, 759174.0609939604 5941892.935343619, 759178.6777196088 5941927.22721575, 759182.4001118349 5941961.546107185, 759187.0839305717 5941998.057327201, 759191.8683533652 5942037.897572626, 759197.61422138 5942079.930145018, 759203.4942335751 5942126.401417373, 759213.2987957858 5942124.994486811, 759288.2248047903 5942116.066112049, 759288.2248047903 5942116.066112049, 759287.9531395001 5942115.963253899, 759348.8743266491 5942108.6793698445, 759407.7350390906 5942101.346281942, 759407.7350390906 5942101.346281942, 759413.5826448479 5942146.707795348, 759416.0089394572 5942167.737558413, 759416.0089394572 5942167.737558413, 759416.363334948 5942167.615772935, 759419.3631747664 5942189.849952461, 759429.6156595085 5942232.856879295, 759410.07341833 5942237.890565574, 759410.07341833 5942237.890565574, 759409.715664436 5942237.901382988, 759394.9695321776 5942241.679321248, 759390.5311577306 5942242.924206101, 759365.5554693919 5942245.900683415, 759338.7909988654 5942248.931159442, 759338.7909988654 5942248.931159442, 759339.069377718 5942249.25595144, 759228.2225125006 5942263.379668996, 759220.1730353755 5942263.622885173, 759212.1570858867 5942264.975769426, 759130.1081610746 5942275.229195094, 759105.1323519836 5942278.204904921, 759090.8556686642 5942279.746752463, 759069.4238834074 5942281.504641164, 759066.7407213944 5942281.585664062, 759058.6912354766 5942281.828727709, 759011.0877032699 5942276.601899017, 758985.016503921 5942272.946209803, 758975.1447617066 5942272.133518446, 758967.8556919282 5942267.910799904, 758942.410991665 5942255.350588791, 758936.9777043972 5942253.293205557, 758930.6500365719 5942251.262812537, 758926.1446290022 5942250.288103953, 758926.1446290022 5942250.288103953, 758926.0551906727 5942250.290803254, 758848.6585041294 5942233.7446897635, 758851.8773446577 5942251.418527015, 758851.8773446577 5942251.418527015, 758851.6549427713 5942249.981347168, 758851.8773446577 5942251.418527015, 758819.4452214446 5942244.622214494, 758819.4452214446 5942244.622214494, 758820.2568607073 5942244.819865628, 758819.4452214446 5942244.622214494, 758765.4141316845 5942234.034543722, 758741.0650533087 5942228.104825361, 758741.0650533087 5942228.104825361, 758740.9096041698 5942228.886992075, 758732.9821684153 5942227.237911822, 758727.5824246687 5942226.290073894, 758711.3497390721 5942222.336865988, 758660.0355665952 5942212.777307725, 758648.3417446334 5942210.9085029345, 758654.5778592491 5942239.598238451, 758657.5955604841 5942250.614083152, 758657.5955604841 5942250.614083152, 758656.4879541183 5942246.537951059, 758657.5955604841 5942250.614083152, 758657.6959281533 5942253.9431049265, 758665.9885119915 5942291.456295418, 758668.044938051 5942300.279755149, 758669.2069793819 5942309.130180424, 758672.2247138821 5942320.146021256, 758676.437961231 5942341.12195969, 758698.3319044065 5942443.7553126905, 758707.2090055898 5942441.266278969, 758734.7681476518 5942434.881823, 758734.7681476518 5942434.881823, 758734.4137334609 5942435.003579179, 758734.7681476518 5942434.881823, 758853.1209299909 5942411.319584133, 758883.396585859 5942405.963360447, 758996.1240735254 5942382.902030174, 758996.1240735254 5942382.902030174, 758998.1711382347 5942382.50702852, 759003.4471008368 5942409.004224047, 759004.5089959452 5942414.525597816, 759008.8570837518 5942439.940116216, 759008.8570837518 5942439.940116216, 759008.3093844372 5942436.624592163, 759008.8570837518 5942439.940116216, 759009.8854845979 5942444.351814706, 759015.1949994676 5942471.958679518, 759016.1564059757 5942474.15102794, 759022.4273592393 5942503.9502377175, 759025.5795980812 5942519.40467867, 759029.9947677607 5942547.038538331, 759031.9511023676 5942552.532907335, 759033.9409402634 5942559.136950677, 759047.4678457654 5942592.049147962, 759066.7969402072 5942639.225067802, 759066.7969402072 5942639.225067802, 759066.1205862882 5942637.579459574, 759066.7969402072 5942639.225067802, 759090.8123755867 5942634.057187354, 759137.982266309 5942624.857908135, 759137.982266309 5942624.857908135, 759139.4032897626 5942624.4817847945, 759148.6483184522 5942622.314395922, 759154.8757657929 5942621.015620016, 759209.1338788166 5942609.380470097, 759256.3035599526 5942600.180526508, 759278.52997239 5942595.066159554, 759332.7878169449 5942583.4302100595, 759333.7828561796 5942586.732203277, 759333.7828561796 5942586.732203277, 759352.0849747132 5942629.495897118, 759355.897469388 5942637.155484492, 759367.4356196695 5942663.463264986, 759367.4356196695 5942663.463264986, 759367.3394681583 5942663.244033534, 759372.2432007474 5942674.424836468, 759383.714349965 5942698.513247889, 759394.224029789 5942720.409334667, 759397.0750661504 5942725.8765948545, 759407.5177119281 5942745.553316908, 759417.0659615367 5942765.257069647, 759423.7631793572 5942779.493561593, 759439.9081094419 5942810.104754066, 759461.7553644207 5942851.650406497, 759488.3099724695 5942900.828503527, 759517.4811185028 5942947.706028633, 759459.7438848063 5942962.780232554, 759459.7438848063 5942962.780232554, 759459.9026458671 5942962.109018343, 759426.8501277509 5942970.438870701, 759358.7010806294 5942987.604231423, 759358.7010806294 5942987.604231423, 759356.6572318212 5942988.110279222, 759375.5638101222 5943050.848105039, 759375.5638101222 5943050.848105039, 759375.1858984791 5943050.193114096, 759391.5188560203 5943104.789608553, 759396.4608177127 5943120.189875195, 759401.4363364358 5943136.699814694, 759397.9255063646 5943139.027314115, 759364.3713047296 5943154.480431972, 759357.3160732938 5943158.02572207, 759357.3160732938 5943158.02572207, 759357.4088749712 5943158.133986283, 759337.0448274529 5943168.634525023, 759307.929299572 5943182.842581149, 759304.4184271955 5943185.170039798, 759277.9527228691 5943198.187232003, 759273.5138272669 5943199.432026848, 759247.942523398 5943212.422097612, 759242.6426525455 5943214.803571308, 759222.3711465443 5943225.412087814, 759217.932230849 5943226.656852687, 759207.3659706655 5943232.529431984, 759211.1450194948 5943239.07941032, 759226.462377211 5943271.937355605, 759228.3183971017 5943274.1026671035, 759228.3183971017 5943274.1026671035, 759227.5133545056 5943274.1269838745, 759235.0491077458 5943289.448974924, 759240.7512658159 5943300.383600961, 759245.558941331 5943311.345244147, 759250.4001484164 5943323.41655948, 759255.2413673544 5943335.487872623, 759261.1782284733 5943354.190207973, 759269.0717283129 5943378.386867267, 759278.8213231603 5943404.748823332, 759293.6134362246 5943449.840112507, 759310.2617626709 5943497.096678691, 759310.2617626709 5943497.096678691, 759309.1805690269 5943493.908351732, 759310.2617626709 5943497.096678691, 759327.010829046 5943547.682242302, 759328.9675125201 5943553.176558701, 759359.4472695029 5943643.331952086, 759390.8891739722 5943735.67957631, 759393.8410735452 5943744.475870736, 759399.6778175653 5943759.8491087705, 759401.6345813682 5943765.343412152, 759356.448723207 5943781.14778458, 759356.448723207 5943781.14778458, 759355.8918784042 5943780.498197614, 759265.114977106 5943810.563460385, 759203.960831583 5943831.292029813, 759129.4886474559 5943855.7542534415, 759053.2604680255 5943881.379474773, 758994.7890855186 5943902.025507315, 758996.6786418997 5943905.300543932, 758996.6786418997 5943905.300543932, 758998.9910954919 5943904.786498125, 758993.5845241621 5943906.6156515945, 759046.4686997603 5944047.964815903, 759071.2130909996 5944123.188820446, 759088.8637537714 5944176.968547024, 759131.9463816558 5944307.950623828, 759178.1809608208 5944448.38929533, 759191.2953894878 5944488.311213136, 759191.2953894878 5944488.311213136, 759222.1715401943 5944582.675730975, 759266.8498313818 5944718.940491505, 759313.8118494488 5944853.692248794, 759449.9078182799 5944808.70783417, 759582.1521753336 5944763.726520042, 759721.130824632 5944716.42904539, 759858.4217247011 5944669.624552053, 759896.9758390692 5944656.4621550795, 759896.9758390692 5944656.4621550795, 759991.3712521576 5944624.393103108, 759946.8515895787 5944490.792001897, 759811.2592440083 5944534.436869098, 759675.464415021 5944580.30698462, 759630.0910952184 5944444.953389855, 759585.2121175478 5944308.140801607, 759449.1125574098 5944355.68281424, 759407.9090382322 5944370.03401134, 759407.9090382322 5944370.03401134, 759315.403632305 5944402.37285793, 759178.1809608208 5944448.38929533, 759039.0347581438 5944493.017568377, 758907.0141343914 5944536.428981978, 758770.3837529381 5944581.421076201, 758638.1157285804 5944625.61306433, 758627.9210839516 5944629.030054286, 758503.4410063325 5944670.208566524, 758495.3700016027 5944672.783979653, 758456.4429888211 5944685.506872427, 758456.4429888211 5944685.506872427, 758396.2349712816 5944705.200897651, 758363.6028589689 5944715.845754788, 758227.8032707014 5944764.802173989, 758274.1691838601 5944901.131099131, 758320.138411101 5945036.138990587, 758369.5560741558 5945175.596735203, 758411.4916437494 5945310.392474411, 758455.7071086207 5945440.565712957, 758469.1609599593 5945482.921770594, 758469.1609599593 5945482.921770594, 758499.7401898778 5945579.518622583, 758530.9956981579 5945674.762241581, 758543.6174578066 5945713.255913142, 758594.1886736873 5945855.1215952905, 758659.163611607 5945835.83865767, 758852.3216952619 5945769.932052147, 758870.317894049 5945763.836289521, 758999.7558598244 5945717.284054222, 759134.8595637429 5945671.558426531, 759170.0459458838 5945659.389932634, 759169.531606803 5945657.184090231, 759169.531606803 5945657.184090231, 759267.9098198495 5945623.115837291, 759272.8859761857 5945639.625858712, 759270.9007376251 5945751.864707333, 759268.2931198564 5945784.153204348, 759268.3936074344 5945787.482217583, 759268.6280781726 5945795.249915085, 759266.680711488 5945819.743703032, 759266.8146925061 5945824.182387132, 759253.900385281 5945960.075372303, 759235.0085820641 5946165.01089232, 759229.7589510753 5946228.478125024, 759220.1356091369 5946295.409359381, 759219.3747379596 5946299.875040835, 759219.3747379596 5946299.875040835, 759259.2391932716 5946285.343881261, 759303.5440549257 5946269.567812883, 759350.4996783847 5946252.600793578, 759396.5603333595 5946235.660526711, 759427.5767829219 5946224.727755489, 759480.7285210672 5946205.351493482, 759517.0465162443 5946192.036872923, 759522.3482536713 5946189.655335994, 759526.7216663737 5946186.191157458, 759526.7216663737 5946186.191157458, 759526.3704524942 5946186.423904977, 759526.7216663737 5946186.191157458, 759532.2916017429 5946192.686985136, 759556.5957235985 5946226.383891662, 759587.3983841977 5946267.659167552, 759618.2013263938 5946308.934346875, 759640.5823007873 5946338.24644386, 759650.8612579458 5946352.374682596, 759662.0350638155 5946366.475864448, 759685.3446866046 5946396.870484488, 759712.3679441186 5946431.595531866, 759712.3679441186 5946431.595531866, 759734.3694985998 5946418.712837066, 759738.7765118349 5946416.358225234, 759753.7200776984 5946407.020920942, 759788.908920208 5946385.964530751, 759804.7472011409 5946376.600072112, 759824.9924144329 5946364.880923383, 759864.5543005116 5946340.359868619, 759903.254728064 5946316.975362727, 759934.0359620204 5946298.273038775, 759971.87479778 5946276.024949843, 760000.899717927 5946258.48620026, 760000.899717927 5946258.48620026, 759972.6114760252 5946211.582696712, 759948.104185781 5946171.228842242, 759936.762205581 5946151.579652999, 759936.762205581 5946151.579652999, 759920.7448466799 5946125.407788904, 759894.3477126735 5946081.778934812, 759868.8791814977 5946039.2326147035, 759841.5541904967 5945994.521019474, 759845.0728836288 5945992.415339824, 759845.0728836288 5945992.415339824, 759938.3008574644 5945936.059431309, 760034.1178965488 5945876.514092384, 760034.1178965488 5945876.514092384, 760066.7786736304 5945919.952899949, 760094.0039013702 5945961.33481494, 760125.7704900969 5946004.800520717, 760156.6089899036 5946047.183550173, 760185.5909748212 5946087.401340956, 760216.3964211708 5946128.674509724, 760224.8193470656 5946140.636967659, 760227.6045834338 5946143.884669633, 760256.5535739356 5946182.992578054, 760316.2755511444 5946262.263583302, 760326.5556089537 5946276.391071664, 760383.4598258535 5946351.304320779, 760403.0582921485 5946377.366922097, 760584.0921034481 5946617.341241615, 760698.1120834319 5946773.822468968, 760743.8462731624 5946834.63368064, 760755.0561985646 5946849.843239635, 760769.0518194984 5946868.30033326, 760773.7282652722 5946874.822584823, 760779.2995944667 5946881.317674531, 760798.0391554517 5946908.516322399, 760803.6442047434 5946916.121072663, 760817.6400276006 5946934.578097158, 760834.421616607 5946956.282630435, 760865.1656142904 5946995.33441711, 760870.7707740986 5947002.939129071, 760898.8304069818 5947042.072315577, 760921.2513314534 5947072.491067776, 760931.5332549243 5947086.6179245785, 760940.88661268 5947099.662271392, 760976.4430978396 5947149.674578411, 760982.0147445949 5947156.169552498, 761034.3542529223 5947227.885903299, 761051.1706187736 5947250.6997410655, 761058.6333494742 5947260.469323721, 761067.058438549 5947272.431062838, 761104.4735772568 5947324.607883524, 761150.213289183 5947385.417206263, 761155.818929974 5947393.0217561405, 761170.7448691677 5947412.5607569525, 761178.207863033 5947422.330248846, 761208.0937280494 5947462.517834615, 761260.4705320338 5947535.342660196, 761260.4705320338 5947535.342660196, 761274.553545231 5947527.139625717, 761288.6702701924 5947520.046241745, 761303.6819187603 5947512.925622612, 761319.6559722542 5947507.997113994, 761334.7350650068 5947503.095788711, 761350.7428325668 5947499.276895741, 761365.8032723102 5947496.708554184, 761366.7843361505 5947496.567647599))\n"
     ]
    },
    {
     "ename": "IndexError",
     "evalue": "list index out of range",
     "output_type": "error",
     "traceback": [
      "\u001B[1;31m---------------------------------------------------------------------------\u001B[0m",
      "\u001B[1;31mIndexError\u001B[0m                                Traceback (most recent call last)",
      "Cell \u001B[1;32mIn[672], line 1\u001B[0m\n\u001B[1;32m----> 1\u001B[0m partitions_2 \u001B[38;5;241m=\u001B[39m \u001B[43mshape_partition\u001B[49m\u001B[43m(\u001B[49m\u001B[43mls\u001B[49m\u001B[43m,\u001B[49m\u001B[43m \u001B[49m\u001B[43masd\u001B[49m\u001B[43m)\u001B[49m\n",
      "Cell \u001B[1;32mIn[671], line 12\u001B[0m, in \u001B[0;36mshape_partition\u001B[1;34m(line, points)\u001B[0m\n\u001B[0;32m     10\u001B[0m \u001B[38;5;28mprint\u001B[39m(part)\n\u001B[0;32m     11\u001B[0m line \u001B[38;5;241m=\u001B[39m \u001B[38;5;28mlist\u001B[39m(part\u001B[38;5;241m.\u001B[39mgeoms)[\u001B[38;5;241m0\u001B[39m]\n\u001B[1;32m---> 12\u001B[0m line_next \u001B[38;5;241m=\u001B[39m \u001B[38;5;28;43mlist\u001B[39;49m\u001B[43m(\u001B[49m\u001B[43mpart\u001B[49m\u001B[38;5;241;43m.\u001B[39;49m\u001B[43mgeoms\u001B[49m\u001B[43m)\u001B[49m\u001B[43m[\u001B[49m\u001B[38;5;241;43m1\u001B[39;49m\u001B[43m]\u001B[49m\n\u001B[0;32m     14\u001B[0m partition \u001B[38;5;241m+\u001B[39m\u001B[38;5;241m=\u001B[39m [line]\n\u001B[0;32m     16\u001B[0m line \u001B[38;5;241m=\u001B[39m line_next\n",
      "\u001B[1;31mIndexError\u001B[0m: list index out of range"
     ]
    }
   ],
   "source": [
    "partitions_2 = shape_partition(ls, asd)"
   ],
   "metadata": {
    "collapsed": false
   }
  },
  {
   "cell_type": "markdown",
   "source": [
    "\n",
    "### **Graphic**"
   ],
   "metadata": {
    "collapsed": false
   }
  },
  {
   "cell_type": "code",
   "execution_count": 665,
   "outputs": [
    {
     "ename": "SyntaxError",
     "evalue": "invalid syntax (2734851754.py, line 5)",
     "output_type": "error",
     "traceback": [
      "\u001B[1;36m  Cell \u001B[1;32mIn[665], line 5\u001B[1;36m\u001B[0m\n\u001B[1;33m    elif [5.0,7.5]\u001B[0m\n\u001B[1;37m                  ^\u001B[0m\n\u001B[1;31mSyntaxError\u001B[0m\u001B[1;31m:\u001B[0m invalid syntax\n"
     ]
    }
   ],
   "source": [
    "def vel_to_color(vel):\n",
    "\n",
    "    if vel in [0.0,5.0]:\n",
    "        return #magenta\n",
    "    elif [5.0,7.5]\n",
    "\n"
   ],
   "metadata": {
    "collapsed": false
   }
  },
  {
   "cell_type": "code",
   "execution_count": 702,
   "outputs": [
    {
     "data": {
      "text/plain": "<Figure size 640x480 with 1 Axes>",
      "image/png": "[encoded data removed]"
     },
     "metadata": {},
     "output_type": "display_data"
    }
   ],
   "source": [
    "def plot_utm_shapes_partitions(partitions, points):\n",
    "\n",
    "    xs = [point.x for point in points]\n",
    "    ys = [point.y for point in points]\n",
    "\n",
    "    # partitioned shape\n",
    "    for order, partition in enumerate(partitions):\n",
    "        plt.plot(*partition.xy, zorder = order)\n",
    "\n",
    "    # stops\n",
    "    plt.scatter(xs, ys)\n",
    "\n",
    "    plt.show()\n",
    "\n",
    "plot_utm_shapes_partitions(partitions_, points_)"
   ],
   "metadata": {
    "collapsed": false
   }
  }
 ],
 "metadata": {
  "kernelspec": {
   "display_name": "Python 3",
   "language": "python",
   "name": "python3"
  },
  "language_info": {
   "codemirror_mode": {
    "name": "ipython",
    "version": 2
   },
   "file_extension": ".py",
   "mimetype": "text/x-python",
   "name": "python",
   "nbconvert_exporter": "python",
   "pygments_lexer": "ipython2",
   "version": "2.7.6"
  }
 },
 "nbformat": 4,
 "nbformat_minor": 0
}
