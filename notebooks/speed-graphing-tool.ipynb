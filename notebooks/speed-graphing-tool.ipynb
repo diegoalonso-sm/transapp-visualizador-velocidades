{
 "cells": [
  {
   "cell_type": "code",
   "execution_count": 169,
   "outputs": [],
   "source": [
    "# [X] TODO: refactor notebook for simplicity (use columns, not indexes).\n",
    "# [ ] TODO: use shape_id frequencies to get route_id's representative shape.\n",
    "# [X] TODO: add last point in shapes as a way for differentiating directions.\n",
    "# [X] TODO: calculate centroid to automatize getting time zones.\n",
    "# [X] TODO: create main & auxiliary functions, using typer/logger.\n",
    "# [ ] TODO: publish repository in Transapp's GitHub account.\n",
    "# [ ] TODO: use mapmatching algorithms for correcting paths.\n",
    "# [ ] TODO: algorithm for selecting stops in round-trips.\n",
    "# [ ] TODO: projection algorithm."
   ],
   "metadata": {
    "collapsed": false
   }
  },
  {
   "cell_type": "code",
   "execution_count": 170,
   "outputs": [],
   "source": [
    "from matplotlib import pyplot as plt\n",
    "from shapely import LineString, Point\n",
    "\n",
    "import speed_visualizer.utils as sv"
   ],
   "metadata": {
    "collapsed": false
   }
  },
  {
   "cell_type": "code",
   "execution_count": 171,
   "outputs": [],
   "source": [
    "route_id = 468\n",
    "direction_id = 0\n",
    "time_interval = 0"
   ],
   "metadata": {
    "collapsed": false
   }
  },
  {
   "cell_type": "code",
   "execution_count": 172,
   "outputs": [
    {
     "name": "stdout",
     "output_type": "stream",
     "text": [
      "Holds information of the following shapes: ['1122123218']\n"
     ]
    }
   ],
   "source": [
    "shapes_trips_dict = sv.get_shapes_dict(route_id, direction_id)\n",
    "\n",
    "print(\"Holds information of the following shapes:\", list(shapes_trips_dict.keys()))"
   ],
   "metadata": {
    "collapsed": false
   }
  },
  {
   "cell_type": "code",
   "execution_count": 173,
   "outputs": [
    {
     "name": "stdout",
     "output_type": "stream",
     "text": [
      "trip : 073ac436-0-29bd321d-9, shape : 1122123218\n"
     ]
    }
   ],
   "source": [
    "# Idea: iterate for each shape & trip in selected route-direction and create its folder with html files.\n",
    "\n",
    "shape_id = list(shapes_trips_dict.keys())[0]\n",
    "trip_id = shapes_trips_dict[shape_id][0]\n",
    "\n",
    "print(f\"trip : {trip_id}, shape : {shape_id}\")"
   ],
   "metadata": {
    "collapsed": false
   }
  },
  {
   "cell_type": "code",
   "execution_count": 174,
   "outputs": [],
   "source": [
    "curve_geo, curve_utm = sv.get_shapes_coordinates(shape_id)"
   ],
   "metadata": {
    "collapsed": false
   }
  },
  {
   "cell_type": "code",
   "execution_count": 175,
   "outputs": [],
   "source": [
    "stops_geo, stops_utm = sv.get_stops_coordinates(trip_id)"
   ],
   "metadata": {
    "collapsed": false
   }
  },
  {
   "cell_type": "code",
   "execution_count": 176,
   "outputs": [
    {
     "data": {
      "text/plain": "   stop_id                                          stop_name         stop_x  \\\n0    120-1                Av. Baquedano esq. Gabriela Mistral  756180.051081   \n1    120-5                    Av. Baquedano esq. Pablo Neruda  756433.884318   \n2    120-6                         Av. Baquedano esq. Cabildo  756537.416618   \n3    120-7             Av. Baquedano esq. Entrada a Santuario  756956.581580   \n4    107-4                 Erasmo Escala esq. Conde del Maule  756843.936777   \n5    116-1          Mariano Egana esq. Juan Martinez de Rosas  756675.336438   \n6    107-2                        Erasmo Escala esq. Marchant  757038.562307   \n7    107-1               Erasmo Escala esq. General Velasquez  757072.908984   \n8     54-1                            El Tejar esq. Pje. Ocho  757243.125010   \n9     54-3                        El Tejar esq. Av. O'Higgins  757646.074630   \n10     3-3  Av. Libertador Bernardo O'Higgins esq. Bombero...  757915.106537   \n11     3-1  Av. Libertador Bernardo O'Higgins esq. Av. Collin  758277.138705   \n12    22-4                 Arturo Prat esq. Plaza La Victoria  758495.481370   \n13    22-3                           Arturo Prat esq. Carrera  758708.137853   \n14    22-2                  Arturo Prat esq. 18 De Septiembre  758887.902674   \n15    22-1                        Arturo Prat esq. 5 De Abril  759038.970670   \n16    13-2                             5 De Abril esq. Maipon  759167.731555   \n17    12-2                       18 De Septiembre esq. Bulnes  759059.215615   \n18    12-1  18 De Septiembre esq. Colegio Concepcion De Ch...  759139.264294   \n19    16-2                       Gamero esq. 18 De Septiembre  759210.118086   \n20    16-4                         Gamero esq. Sargento Aldea  759734.067880   \n21    18-1                    Av. Libertad esq. Yerbas Buenas  759935.649181   \n22    37-4  Francisco Ramirez esq. Hospital Clinico Hermin...  760138.043514   \n23    37-3        Francisco Ramirez esq. Cesfam Violeta Parra  760296.147787   \n24    37-2                Francisco Ramirez esq. Av. Coihueco  760418.109641   \n25    85-6                  Av. Coihueco esq. Blanco Encalada  760521.074708   \n26    85-4                        Av. Coihueco esq. Chacabuco  761012.801394   \n27    32-2                    Chacabuco esq. Geronimo Michael  760892.078590   \n28    31-1                                Yungay esq. Iquique  760409.110795   \n29    31-2                          Yungay esq. Av. Argentina  760280.053410   \n30     6-8           Av. Vicente Mendez esq. Diego De Almagro  760413.079606   \n31     6-6  Av. Vicente Mendez esq. Universidad De Concepcion  760594.068314   \n32     6-5  Av. Vicente Mendez esq. Universidad De Concepcion  760656.090811   \n33     6-2                      Av. Vicente Mendez esq. Jumbo  760878.091852   \n34    29-2                Emmanuel esq. San Francisco De Asis  761879.113848   \n35    29-1                     Emmanuel esq. Av. Andres Bello  762221.067328   \n36    28-1            San Alberto esq. Acceso A Camino A Cato  761749.101248   \n\n          stop_y  \n0   5.941206e+06  \n1   5.941397e+06  \n2   5.941472e+06  \n3   5.941812e+06  \n4   5.942542e+06  \n5   5.942996e+06  \n6   5.943347e+06  \n7   5.943472e+06  \n8   5.943556e+06  \n9   5.943621e+06  \n10  5.943769e+06  \n11  5.944059e+06  \n12  5.944507e+06  \n13  5.944438e+06  \n14  5.944381e+06  \n15  5.944331e+06  \n16  5.944381e+06  \n17  5.944990e+06  \n18  5.945215e+06  \n19  5.945328e+06  \n20  5.945156e+06  \n21  5.944635e+06  \n22  5.944601e+06  \n23  5.944594e+06  \n24  5.944597e+06  \n25  5.944729e+06  \n26  5.944998e+06  \n27  5.945115e+06  \n28  5.945239e+06  \n29  5.945292e+06  \n30  5.945612e+06  \n31  5.945981e+06  \n32  5.946112e+06  \n33  5.946560e+06  \n34  5.946825e+06  \n35  5.946648e+06  \n36  5.947091e+06  ",
      "text/html": "<div>\n<style scoped>\n    .dataframe tbody tr th:only-of-type {\n        vertical-align: middle;\n    }\n\n    .dataframe tbody tr th {\n        vertical-align: top;\n    }\n\n    .dataframe thead th {\n        text-align: right;\n    }\n</style>\n<table border=\"1\" class=\"dataframe\">\n  <thead>\n    <tr style=\"text-align: right;\">\n      <th></th>\n      <th>stop_id</th>\n      <th>stop_name</th>\n      <th>stop_x</th>\n      <th>stop_y</th>\n    </tr>\n  </thead>\n  <tbody>\n    <tr>\n      <th>0</th>\n      <td>120-1</td>\n      <td>Av. Baquedano esq. Gabriela Mistral</td>\n      <td>756180.051081</td>\n      <td>5.941206e+06</td>\n    </tr>\n    <tr>\n      <th>1</th>\n      <td>120-5</td>\n      <td>Av. Baquedano esq. Pablo Neruda</td>\n      <td>756433.884318</td>\n      <td>5.941397e+06</td>\n    </tr>\n    <tr>\n      <th>2</th>\n      <td>120-6</td>\n      <td>Av. Baquedano esq. Cabildo</td>\n      <td>756537.416618</td>\n      <td>5.941472e+06</td>\n    </tr>\n    <tr>\n      <th>3</th>\n      <td>120-7</td>\n      <td>Av. Baquedano esq. Entrada a Santuario</td>\n      <td>756956.581580</td>\n      <td>5.941812e+06</td>\n    </tr>\n    <tr>\n      <th>4</th>\n      <td>107-4</td>\n      <td>Erasmo Escala esq. Conde del Maule</td>\n      <td>756843.936777</td>\n      <td>5.942542e+06</td>\n    </tr>\n    <tr>\n      <th>5</th>\n      <td>116-1</td>\n      <td>Mariano Egana esq. Juan Martinez de Rosas</td>\n      <td>756675.336438</td>\n      <td>5.942996e+06</td>\n    </tr>\n    <tr>\n      <th>6</th>\n      <td>107-2</td>\n      <td>Erasmo Escala esq. Marchant</td>\n      <td>757038.562307</td>\n      <td>5.943347e+06</td>\n    </tr>\n    <tr>\n      <th>7</th>\n      <td>107-1</td>\n      <td>Erasmo Escala esq. General Velasquez</td>\n      <td>757072.908984</td>\n      <td>5.943472e+06</td>\n    </tr>\n    <tr>\n      <th>8</th>\n      <td>54-1</td>\n      <td>El Tejar esq. Pje. Ocho</td>\n      <td>757243.125010</td>\n      <td>5.943556e+06</td>\n    </tr>\n    <tr>\n      <th>9</th>\n      <td>54-3</td>\n      <td>El Tejar esq. Av. O'Higgins</td>\n      <td>757646.074630</td>\n      <td>5.943621e+06</td>\n    </tr>\n    <tr>\n      <th>10</th>\n      <td>3-3</td>\n      <td>Av. Libertador Bernardo O'Higgins esq. Bombero...</td>\n      <td>757915.106537</td>\n      <td>5.943769e+06</td>\n    </tr>\n    <tr>\n      <th>11</th>\n      <td>3-1</td>\n      <td>Av. Libertador Bernardo O'Higgins esq. Av. Collin</td>\n      <td>758277.138705</td>\n      <td>5.944059e+06</td>\n    </tr>\n    <tr>\n      <th>12</th>\n      <td>22-4</td>\n      <td>Arturo Prat esq. Plaza La Victoria</td>\n      <td>758495.481370</td>\n      <td>5.944507e+06</td>\n    </tr>\n    <tr>\n      <th>13</th>\n      <td>22-3</td>\n      <td>Arturo Prat esq. Carrera</td>\n      <td>758708.137853</td>\n      <td>5.944438e+06</td>\n    </tr>\n    <tr>\n      <th>14</th>\n      <td>22-2</td>\n      <td>Arturo Prat esq. 18 De Septiembre</td>\n      <td>758887.902674</td>\n      <td>5.944381e+06</td>\n    </tr>\n    <tr>\n      <th>15</th>\n      <td>22-1</td>\n      <td>Arturo Prat esq. 5 De Abril</td>\n      <td>759038.970670</td>\n      <td>5.944331e+06</td>\n    </tr>\n    <tr>\n      <th>16</th>\n      <td>13-2</td>\n      <td>5 De Abril esq. Maipon</td>\n      <td>759167.731555</td>\n      <td>5.944381e+06</td>\n    </tr>\n    <tr>\n      <th>17</th>\n      <td>12-2</td>\n      <td>18 De Septiembre esq. Bulnes</td>\n      <td>759059.215615</td>\n      <td>5.944990e+06</td>\n    </tr>\n    <tr>\n      <th>18</th>\n      <td>12-1</td>\n      <td>18 De Septiembre esq. Colegio Concepcion De Ch...</td>\n      <td>759139.264294</td>\n      <td>5.945215e+06</td>\n    </tr>\n    <tr>\n      <th>19</th>\n      <td>16-2</td>\n      <td>Gamero esq. 18 De Septiembre</td>\n      <td>759210.118086</td>\n      <td>5.945328e+06</td>\n    </tr>\n    <tr>\n      <th>20</th>\n      <td>16-4</td>\n      <td>Gamero esq. Sargento Aldea</td>\n      <td>759734.067880</td>\n      <td>5.945156e+06</td>\n    </tr>\n    <tr>\n      <th>21</th>\n      <td>18-1</td>\n      <td>Av. Libertad esq. Yerbas Buenas</td>\n      <td>759935.649181</td>\n      <td>5.944635e+06</td>\n    </tr>\n    <tr>\n      <th>22</th>\n      <td>37-4</td>\n      <td>Francisco Ramirez esq. Hospital Clinico Hermin...</td>\n      <td>760138.043514</td>\n      <td>5.944601e+06</td>\n    </tr>\n    <tr>\n      <th>23</th>\n      <td>37-3</td>\n      <td>Francisco Ramirez esq. Cesfam Violeta Parra</td>\n      <td>760296.147787</td>\n      <td>5.944594e+06</td>\n    </tr>\n    <tr>\n      <th>24</th>\n      <td>37-2</td>\n      <td>Francisco Ramirez esq. Av. Coihueco</td>\n      <td>760418.109641</td>\n      <td>5.944597e+06</td>\n    </tr>\n    <tr>\n      <th>25</th>\n      <td>85-6</td>\n      <td>Av. Coihueco esq. Blanco Encalada</td>\n      <td>760521.074708</td>\n      <td>5.944729e+06</td>\n    </tr>\n    <tr>\n      <th>26</th>\n      <td>85-4</td>\n      <td>Av. Coihueco esq. Chacabuco</td>\n      <td>761012.801394</td>\n      <td>5.944998e+06</td>\n    </tr>\n    <tr>\n      <th>27</th>\n      <td>32-2</td>\n      <td>Chacabuco esq. Geronimo Michael</td>\n      <td>760892.078590</td>\n      <td>5.945115e+06</td>\n    </tr>\n    <tr>\n      <th>28</th>\n      <td>31-1</td>\n      <td>Yungay esq. Iquique</td>\n      <td>760409.110795</td>\n      <td>5.945239e+06</td>\n    </tr>\n    <tr>\n      <th>29</th>\n      <td>31-2</td>\n      <td>Yungay esq. Av. Argentina</td>\n      <td>760280.053410</td>\n      <td>5.945292e+06</td>\n    </tr>\n    <tr>\n      <th>30</th>\n      <td>6-8</td>\n      <td>Av. Vicente Mendez esq. Diego De Almagro</td>\n      <td>760413.079606</td>\n      <td>5.945612e+06</td>\n    </tr>\n    <tr>\n      <th>31</th>\n      <td>6-6</td>\n      <td>Av. Vicente Mendez esq. Universidad De Concepcion</td>\n      <td>760594.068314</td>\n      <td>5.945981e+06</td>\n    </tr>\n    <tr>\n      <th>32</th>\n      <td>6-5</td>\n      <td>Av. Vicente Mendez esq. Universidad De Concepcion</td>\n      <td>760656.090811</td>\n      <td>5.946112e+06</td>\n    </tr>\n    <tr>\n      <th>33</th>\n      <td>6-2</td>\n      <td>Av. Vicente Mendez esq. Jumbo</td>\n      <td>760878.091852</td>\n      <td>5.946560e+06</td>\n    </tr>\n    <tr>\n      <th>34</th>\n      <td>29-2</td>\n      <td>Emmanuel esq. San Francisco De Asis</td>\n      <td>761879.113848</td>\n      <td>5.946825e+06</td>\n    </tr>\n    <tr>\n      <th>35</th>\n      <td>29-1</td>\n      <td>Emmanuel esq. Av. Andres Bello</td>\n      <td>762221.067328</td>\n      <td>5.946648e+06</td>\n    </tr>\n    <tr>\n      <th>36</th>\n      <td>28-1</td>\n      <td>San Alberto esq. Acceso A Camino A Cato</td>\n      <td>761749.101248</td>\n      <td>5.947091e+06</td>\n    </tr>\n  </tbody>\n</table>\n</div>"
     },
     "execution_count": 176,
     "metadata": {},
     "output_type": "execute_result"
    }
   ],
   "source": [
    "stops_utm"
   ],
   "metadata": {
    "collapsed": false
   }
  },
  {
   "cell_type": "code",
   "execution_count": 177,
   "outputs": [
    {
     "name": "stderr",
     "output_type": "stream",
     "text": [
      "C:\\Users\\diego\\AppData\\Local\\Programs\\Python\\Python39\\lib\\site-packages\\shapely\\linear.py:90: RuntimeWarning:\n",
      "\n",
      "invalid value encountered in line_locate_point\n",
      "\n",
      "C:\\Users\\diego\\AppData\\Local\\Temp\\ipykernel_13384\\3040044656.py:19: SettingWithCopyWarning:\n",
      "\n",
      "\n",
      "A value is trying to be set on a copy of a slice from a DataFrame.\n",
      "Try using .loc[row_indexer,col_indexer] = value instead\n",
      "\n",
      "See the caveats in the documentation: https://pandas.pydata.org/pandas-docs/stable/user_guide/indexing.html#returning-a-view-versus-a-copy\n",
      "\n"
     ]
    }
   ],
   "source": [
    "def get_projected_stop_point(curve_utm_, stops_utm_):\n",
    "    \"\"\"Given a dataframe with utm (x,y) coordinates and a linestring, gets another dataframe\n",
    "    with points projected in curve. \"\"\"\n",
    "\n",
    "    def _project_in_curve(ls, x, y):\n",
    "        \"\"\"Auxiliary function for projecting points in curve.\"\"\"\n",
    "\n",
    "        pnt = Point(x, y)\n",
    "        dst = ls.project(pnt)\n",
    "        prj = ls.interpolate(dst)\n",
    "\n",
    "        lat_, lon_ = sv.utm_point_to_latlon(prj.x, prj.y, 18, 'H')\n",
    "\n",
    "        return lat_, lon_\n",
    "\n",
    "    _project = lambda row: _project_in_curve(LineString(curve_utm_), row[\"stop_x\"], row[\"stop_y\"])\n",
    "\n",
    "    points_in_curve = stops_utm_[[\"stop_id\", \"stop_name\"]]\n",
    "    points_in_curve[[\"stop_lat\", \"stop_lon\"]] = stops_utm_.apply(_project, axis=\"columns\", result_type=\"expand\")\n",
    "\n",
    "    return points_in_curve\n",
    "\n",
    "\n",
    "points_in_curve = get_projected_stop_point(curve_utm, stops_utm)"
   ],
   "metadata": {
    "collapsed": false
   }
  },
  {
   "cell_type": "code",
   "execution_count": 178,
   "outputs": [
    {
     "data": {
      "text/plain": "<Figure size 640x480 with 1 Axes>",
      "image/png": "[encoded data removed]"
     },
     "metadata": {},
     "output_type": "display_data"
    }
   ],
   "source": [
    "sv.show_curve_with_stops(curve_geo, points_in_curve)"
   ],
   "metadata": {
    "collapsed": false
   }
  },
  {
   "cell_type": "code",
   "execution_count": 179,
   "outputs": [
    {
     "data": {
      "text/plain": "     shape_pt_lat  shape_pt_lon\n0      -36.640620    -72.135200\n1      -36.640620    -72.135200\n2      -36.640620    -72.135200\n3      -36.640380    -72.134830\n4      -36.640290    -72.134680\n..            ...           ...\n420    -36.582810    -72.071760\n421    -36.582724    -72.071693\n422    -36.582724    -72.071693\n423    -36.582720    -72.071690\n424    -36.581960    -72.074010\n\n[425 rows x 2 columns]",
      "text/html": "<div>\n<style scoped>\n    .dataframe tbody tr th:only-of-type {\n        vertical-align: middle;\n    }\n\n    .dataframe tbody tr th {\n        vertical-align: top;\n    }\n\n    .dataframe thead th {\n        text-align: right;\n    }\n</style>\n<table border=\"1\" class=\"dataframe\">\n  <thead>\n    <tr style=\"text-align: right;\">\n      <th></th>\n      <th>shape_pt_lat</th>\n      <th>shape_pt_lon</th>\n    </tr>\n  </thead>\n  <tbody>\n    <tr>\n      <th>0</th>\n      <td>-36.640620</td>\n      <td>-72.135200</td>\n    </tr>\n    <tr>\n      <th>1</th>\n      <td>-36.640620</td>\n      <td>-72.135200</td>\n    </tr>\n    <tr>\n      <th>2</th>\n      <td>-36.640620</td>\n      <td>-72.135200</td>\n    </tr>\n    <tr>\n      <th>3</th>\n      <td>-36.640380</td>\n      <td>-72.134830</td>\n    </tr>\n    <tr>\n      <th>4</th>\n      <td>-36.640290</td>\n      <td>-72.134680</td>\n    </tr>\n    <tr>\n      <th>...</th>\n      <td>...</td>\n      <td>...</td>\n    </tr>\n    <tr>\n      <th>420</th>\n      <td>-36.582810</td>\n      <td>-72.071760</td>\n    </tr>\n    <tr>\n      <th>421</th>\n      <td>-36.582724</td>\n      <td>-72.071693</td>\n    </tr>\n    <tr>\n      <th>422</th>\n      <td>-36.582724</td>\n      <td>-72.071693</td>\n    </tr>\n    <tr>\n      <th>423</th>\n      <td>-36.582720</td>\n      <td>-72.071690</td>\n    </tr>\n    <tr>\n      <th>424</th>\n      <td>-36.581960</td>\n      <td>-72.074010</td>\n    </tr>\n  </tbody>\n</table>\n<p>425 rows × 2 columns</p>\n</div>"
     },
     "execution_count": 179,
     "metadata": {},
     "output_type": "execute_result"
    }
   ],
   "source": [
    "curve_geo"
   ],
   "metadata": {
    "collapsed": false
   }
  },
  {
   "cell_type": "code",
   "execution_count": 180,
   "outputs": [
    {
     "data": {
      "application/vnd.plotly.v1+json": {
       "data": [
        {
         "hovertemplate": "shape_pt_lat=%{lat}<br>shape_pt_lon=%{lon}<extra></extra>",
         "lat": [
          -36.64062,
          -36.64062,
          -36.64062,
          -36.64038,
          -36.64029,
          -36.64027,
          -36.64016,
          -36.63988,
          -36.63963,
          -36.63922,
          -36.63857,
          -36.63852,
          -36.63828,
          -36.63821,
          -36.63797,
          -36.63772,
          -36.63765,
          -36.63715,
          -36.63574,
          -36.63546,
          -36.63525,
          -36.63519,
          -36.63513,
          -36.63507,
          -36.63501,
          -36.63493,
          -36.63486,
          -36.63479,
          -36.6347,
          -36.63463,
          -36.63462,
          -36.63462,
          -36.63454,
          -36.63445,
          -36.63435,
          -36.63426,
          -36.63418,
          -36.6341,
          -36.63404,
          -36.63398,
          -36.6339,
          -36.63357,
          -36.63329,
          -36.63321,
          -36.63321,
          -36.63298,
          -36.63277,
          -36.63277,
          -36.63215,
          -36.63154,
          -36.63116,
          -36.63033,
          -36.62978,
          -36.62921,
          -36.62914,
          -36.62791,
          -36.62791,
          -36.62768,
          -36.62747,
          -36.62747,
          -36.62627,
          -36.62507,
          -36.623881,
          -36.623881,
          -36.62387,
          -36.62409,
          -36.6243,
          -36.6243,
          -36.6243,
          -36.62306,
          -36.62205,
          -36.6219,
          -36.62079,
          -36.62073,
          -36.62069,
          -36.62064,
          -36.62031,
          -36.61963,
          -36.619507,
          -36.619507,
          -36.6195,
          -36.61975,
          -36.61975,
          -36.61972,
          -36.61968,
          -36.61964,
          -36.61955,
          -36.6195,
          -36.61933,
          -36.61905,
          -36.61892,
          -36.61875,
          -36.61858,
          -36.6185,
          -36.61842,
          -36.61834,
          -36.61825,
          -36.61816,
          -36.61808,
          -36.61801,
          -36.61794,
          -36.61788,
          -36.61782,
          -36.61777,
          -36.61772,
          -36.61768,
          -36.61761,
          -36.61755,
          -36.61754,
          -36.61754,
          -36.61752,
          -36.61749,
          -36.61749,
          -36.61748,
          -36.61749,
          -36.6175,
          -36.6175,
          -36.61751,
          -36.61751,
          -36.61755,
          -36.61762,
          -36.61784,
          -36.61801,
          -36.61808,
          -36.6181,
          -36.6182,
          -36.61822,
          -36.61828,
          -36.61834,
          -36.61834,
          -36.61745,
          -36.61654,
          -36.61604,
          -36.61565,
          -36.61564,
          -36.61489,
          -36.61487,
          -36.61485,
          -36.61378,
          -36.61371,
          -36.61362,
          -36.61362,
          -36.61358,
          -36.6135,
          -36.61348,
          -36.61344,
          -36.61344,
          -36.61322,
          -36.61319,
          -36.61215,
          -36.61143,
          -36.61094,
          -36.60969,
          -36.60969,
          -36.60969,
          -36.60969,
          -36.60971,
          -36.61007,
          -36.61044,
          -36.61081,
          -36.61119,
          -36.61155,
          -36.61155,
          -36.61096,
          -36.61051,
          -36.61033,
          -36.61005,
          -36.6098,
          -36.60965,
          -36.6094,
          -36.60909,
          -36.60831,
          -36.60817,
          -36.60787,
          -36.60787,
          -36.60781,
          -36.60756,
          -36.60753,
          -36.6075,
          -36.60747,
          -36.60746,
          -36.6073,
          -36.60721,
          -36.60716,
          -36.607142,
          -36.60714,
          -36.60714,
          -36.60708,
          -36.60694,
          -36.60648,
          -36.6061,
          -36.60594,
          -36.60588,
          -36.60576,
          -36.60569,
          -36.60469,
          -36.60388,
          -36.60342,
          -36.6022,
          -36.6022,
          -36.60257,
          -36.602571,
          -36.602571,
          -36.60294,
          -36.60294,
          -36.60329,
          -36.60331,
          -36.60333,
          -36.60367,
          -36.60369,
          -36.60369,
          -36.60407,
          -36.60407,
          -36.60408,
          -36.60531,
          -36.60653,
          -36.60764,
          -36.60775,
          -36.60775,
          -36.60812,
          -36.60838,
          -36.60841,
          -36.60849,
          -36.60851,
          -36.60855,
          -36.60855,
          -36.60856,
          -36.60857,
          -36.60857,
          -36.60857,
          -36.60857,
          -36.60858,
          -36.60858,
          -36.60858,
          -36.60858,
          -36.60858,
          -36.60859,
          -36.60859,
          -36.6086,
          -36.6086,
          -36.6086,
          -36.6086,
          -36.60785,
          -36.60763,
          -36.60736,
          -36.60724,
          -36.60698,
          -36.60671,
          -36.606685,
          -36.606685,
          -36.60668,
          -36.60656,
          -36.60647,
          -36.60629,
          -36.60624,
          -36.60557,
          -36.60553,
          -36.60552,
          -36.60552,
          -36.60542,
          -36.60539,
          -36.60522,
          -36.60497,
          -36.60473,
          -36.60469,
          -36.60468,
          -36.60469,
          -36.60469,
          -36.60463,
          -36.60449,
          -36.60427,
          -36.60395,
          -36.60384,
          -36.60368,
          -36.60348,
          -36.60339,
          -36.60329,
          -36.60315,
          -36.6031,
          -36.6029,
          -36.60285,
          -36.60264,
          -36.60261,
          -36.60241,
          -36.60222,
          -36.60176,
          -36.60176,
          -36.60178,
          -36.60212,
          -36.60228,
          -36.60289,
          -36.60289,
          -36.60286,
          -36.60276,
          -36.60254,
          -36.60248,
          -36.60242,
          -36.60242,
          -36.60238,
          -36.602273,
          -36.602273,
          -36.60227,
          -36.60221,
          -36.60198,
          -36.6019,
          -36.60175,
          -36.60098,
          -36.60082,
          -36.6003,
          -36.60024,
          -36.60018,
          -36.60011,
          -36.59995,
          -36.59978,
          -36.59931,
          -36.59916,
          -36.5985,
          -36.59726,
          -36.59714,
          -36.59658,
          -36.59628,
          -36.59612,
          -36.59612,
          -36.59517,
          -36.59489,
          -36.59484,
          -36.59366,
          -36.59334,
          -36.59231,
          -36.59179,
          -36.59167,
          -36.59155,
          -36.59127,
          -36.5911,
          -36.59102,
          -36.59054,
          -36.59027,
          -36.59004,
          -36.59001,
          -36.58975,
          -36.58949,
          -36.58937,
          -36.58929,
          -36.58915,
          -36.58903,
          -36.58898,
          -36.5889,
          -36.5889,
          -36.5889,
          -36.58883,
          -36.5888,
          -36.5888,
          -36.5888,
          -36.5888,
          -36.5888,
          -36.58882,
          -36.58885,
          -36.58887,
          -36.58893,
          -36.58897,
          -36.58898,
          -36.58898,
          -36.58892,
          -36.58887,
          -36.58881,
          -36.58874,
          -36.58744,
          -36.58707,
          -36.5869,
          -36.58691,
          -36.58691,
          -36.58692,
          -36.58694,
          -36.58701,
          -36.58705,
          -36.58725,
          -36.58746,
          -36.5877,
          -36.5879,
          -36.58816,
          -36.58835,
          -36.58858,
          -36.58858,
          -36.588579,
          -36.588599,
          -36.588796,
          -36.589048,
          -36.58924,
          -36.589488,
          -36.589562,
          -36.589675,
          -36.589251,
          -36.588775,
          -36.588425,
          -36.58841,
          -36.58841,
          -36.58822,
          -36.58813,
          -36.58803,
          -36.58789,
          -36.58784,
          -36.58765,
          -36.58746,
          -36.58744,
          -36.58724,
          -36.58704,
          -36.58679,
          -36.58654,
          -36.58633,
          -36.58608,
          -36.58588,
          -36.58578,
          -36.58577,
          -36.58577,
          -36.58518,
          -36.58514,
          -36.58481,
          -36.58474,
          -36.58362,
          -36.58318,
          -36.58281,
          -36.582724,
          -36.582724,
          -36.58272,
          -36.58196
         ],
         "legendgroup": "",
         "line": {
          "color": "blue"
         },
         "lon": [
          -72.1352,
          -72.1352,
          -72.1352,
          -72.13483,
          -72.13468,
          -72.13465,
          -72.13447,
          -72.13405,
          -72.13364,
          -72.133,
          -72.13199,
          -72.13191,
          -72.13154,
          -72.13144,
          -72.13106,
          -72.13067,
          -72.13056,
          -72.12978,
          -72.12758,
          -72.12714,
          -72.12681,
          -72.12671,
          -72.12663,
          -72.12654,
          -72.12647,
          -72.12639,
          -72.12633,
          -72.12627,
          -72.12621,
          -72.12617,
          -72.12617,
          -72.12617,
          -72.12613,
          -72.12609,
          -72.12605,
          -72.12603,
          -72.126,
          -72.12598,
          -72.12597,
          -72.12596,
          -72.12594,
          -72.12588,
          -72.12583,
          -72.12582,
          -72.12585,
          -72.12738,
          -72.12889,
          -72.12889,
          -72.12874,
          -72.1286,
          -72.1285,
          -72.12828,
          -72.12813,
          -72.12798,
          -72.12796,
          -72.12763,
          -72.12763,
          -72.12912,
          -72.13061,
          -72.13061,
          -72.13031,
          -72.13001,
          -72.129683,
          -72.129683,
          -72.12968,
          -72.12819,
          -72.126672,
          -72.12667,
          -72.12667,
          -72.12637,
          -72.12609,
          -72.12605,
          -72.12576,
          -72.12575,
          -72.12574,
          -72.12572,
          -72.12563,
          -72.12543,
          -72.125402,
          -72.125402,
          -72.1254,
          -72.12389,
          -72.12389,
          -72.12386,
          -72.12383,
          -72.12381,
          -72.12379,
          -72.12378,
          -72.12375,
          -72.12369,
          -72.12367,
          -72.12361,
          -72.12352,
          -72.12347,
          -72.12341,
          -72.12335,
          -72.12326,
          -72.12317,
          -72.12308,
          -72.12299,
          -72.12289,
          -72.12278,
          -72.12266,
          -72.12255,
          -72.12242,
          -72.1223,
          -72.12203,
          -72.12183,
          -72.12179,
          -72.12179,
          -72.12167,
          -72.12148,
          -72.12129,
          -72.12122,
          -72.12107,
          -72.121,
          -72.12097,
          -72.12095,
          -72.12095,
          -72.12081,
          -72.12055,
          -72.11983,
          -72.11929,
          -72.11903,
          -72.11897,
          -72.11863,
          -72.11856,
          -72.11849,
          -72.11842,
          -72.11842,
          -72.11712,
          -72.11577,
          -72.11506,
          -72.11452,
          -72.11451,
          -72.11344,
          -72.11341,
          -72.11338,
          -72.11187,
          -72.1118,
          -72.11174,
          -72.11174,
          -72.11174,
          -72.11174,
          -72.11173,
          -72.11171,
          -72.11171,
          -72.11162,
          -72.11161,
          -72.11122,
          -72.11095,
          -72.11077,
          -72.11031,
          -72.1103,
          -72.11031,
          -72.11031,
          -72.1102,
          -72.10875,
          -72.10721,
          -72.1057,
          -72.10414,
          -72.10265,
          -72.10265,
          -72.10244,
          -72.10227,
          -72.1022,
          -72.1021,
          -72.10201,
          -72.10195,
          -72.10186,
          -72.10174,
          -72.10145,
          -72.10139,
          -72.10128,
          -72.10128,
          -72.10153,
          -72.10256,
          -72.10272,
          -72.10281,
          -72.10295,
          -72.10297,
          -72.10367,
          -72.10403,
          -72.10423,
          -72.104311,
          -72.10432,
          -72.10432,
          -72.1043,
          -72.10425,
          -72.10408,
          -72.10394,
          -72.10388,
          -72.10386,
          -72.10382,
          -72.10379,
          -72.10341,
          -72.1031,
          -72.10293,
          -72.10249,
          -72.10249,
          -72.10094,
          -72.100935,
          -72.100935,
          -72.09942,
          -72.09942,
          -72.09796,
          -72.09789,
          -72.09781,
          -72.09643,
          -72.09636,
          -72.09636,
          -72.09485,
          -72.09485,
          -72.09484,
          -72.09528,
          -72.09575,
          -72.09616,
          -72.0962,
          -72.0962,
          -72.09469,
          -72.09368,
          -72.09351,
          -72.09322,
          -72.09314,
          -72.09295,
          -72.09295,
          -72.09292,
          -72.09284,
          -72.09263,
          -72.09245,
          -72.09181,
          -72.09107,
          -72.09089,
          -72.09009,
          -72.08986,
          -72.0897,
          -72.08923,
          -72.08907,
          -72.08834,
          -72.08792,
          -72.08782,
          -72.08782,
          -72.08754,
          -72.08745,
          -72.08733,
          -72.08727,
          -72.08715,
          -72.08697,
          -72.086936,
          -72.086936,
          -72.08693,
          -72.08678,
          -72.08659,
          -72.08609,
          -72.08594,
          -72.08403,
          -72.08394,
          -72.08394,
          -72.08394,
          -72.08364,
          -72.08353,
          -72.08306,
          -72.08237,
          -72.08168,
          -72.08157,
          -72.08158,
          -72.08157,
          -72.08157,
          -72.0817,
          -72.08198,
          -72.08245,
          -72.08313,
          -72.08336,
          -72.08368,
          -72.08411,
          -72.08431,
          -72.08453,
          -72.08484,
          -72.08496,
          -72.08542,
          -72.08552,
          -72.08601,
          -72.08608,
          -72.08657,
          -72.08702,
          -72.08811,
          -72.08811,
          -72.08811,
          -72.08824,
          -72.0883,
          -72.08852,
          -72.08852,
          -72.08864,
          -72.08905,
          -72.08994,
          -72.09018,
          -72.09039,
          -72.09039,
          -72.09044,
          -72.090557,
          -72.090557,
          -72.09056,
          -72.09054,
          -72.09044,
          -72.09042,
          -72.09038,
          -72.0899,
          -72.08981,
          -72.08949,
          -72.08945,
          -72.08942,
          -72.08937,
          -72.08928,
          -72.08917,
          -72.08889,
          -72.08879,
          -72.08839,
          -72.08764,
          -72.08758,
          -72.08727,
          -72.08711,
          -72.08702,
          -72.08702,
          -72.08649,
          -72.08634,
          -72.08631,
          -72.08565,
          -72.08548,
          -72.08491,
          -72.08452,
          -72.08445,
          -72.08436,
          -72.08419,
          -72.08409,
          -72.08405,
          -72.08375,
          -72.08354,
          -72.08329,
          -72.08325,
          -72.08294,
          -72.08255,
          -72.08233,
          -72.08216,
          -72.08183,
          -72.0815,
          -72.08142,
          -72.08106,
          -72.08104,
          -72.08104,
          -72.0807,
          -72.08031,
          -72.08017,
          -72.08015,
          -72.08015,
          -72.0799,
          -72.07957,
          -72.07928,
          -72.07917,
          -72.07878,
          -72.07854,
          -72.0785,
          -72.0785,
          -72.07846,
          -72.07842,
          -72.07835,
          -72.07827,
          -72.07681,
          -72.07623,
          -72.07597,
          -72.07595,
          -72.07595,
          -72.07592,
          -72.07585,
          -72.07568,
          -72.07556,
          -72.07502,
          -72.07449,
          -72.07383,
          -72.0733,
          -72.07262,
          -72.0721,
          -72.07149,
          -72.07149,
          -72.071491,
          -72.071439,
          -72.070924,
          -72.070245,
          -72.069726,
          -72.069057,
          -72.068856,
          -72.068551,
          -72.068214,
          -72.067834,
          -72.067553,
          -72.06754,
          -72.06754,
          -72.06805,
          -72.06828,
          -72.06855,
          -72.06891,
          -72.06905,
          -72.06956,
          -72.07005,
          -72.07011,
          -72.07062,
          -72.07115,
          -72.07183,
          -72.07249,
          -72.07303,
          -72.07369,
          -72.07421,
          -72.07448,
          -72.07451,
          -72.07451,
          -72.07396,
          -72.07392,
          -72.07361,
          -72.07355,
          -72.07252,
          -72.07211,
          -72.07176,
          -72.071693,
          -72.071693,
          -72.07169,
          -72.07401
         ],
         "mode": "lines",
         "name": "",
         "showlegend": false,
         "subplot": "mapbox",
         "type": "scattermapbox"
        },
        {
         "hovertemplate": "size=%{marker.size}<br>shape_pt_lat=%{lat}<br>shape_pt_lon=%{lon}<extra></extra>",
         "lat": [
          -36.58196
         ],
         "legendgroup": "",
         "lon": [
          -72.07401
         ],
         "marker": {
          "color": "red",
          "size": [
           20
          ],
          "sizemode": "area",
          "sizeref": 0.05
         },
         "mode": "markers",
         "name": "",
         "showlegend": false,
         "subplot": "mapbox",
         "type": "scattermapbox"
        },
        {
         "customdata": [
          [
           "120-1",
           "Av. Baquedano esq. Gabriela Mistral"
          ],
          [
           "120-5",
           "Av. Baquedano esq. Pablo Neruda"
          ],
          [
           "120-6",
           "Av. Baquedano esq. Cabildo"
          ],
          [
           "120-7",
           "Av. Baquedano esq. Entrada a Santuario"
          ],
          [
           "107-4",
           "Erasmo Escala esq. Conde del Maule"
          ],
          [
           "116-1",
           "Mariano Egana esq. Juan Martinez de Rosas"
          ],
          [
           "107-2",
           "Erasmo Escala esq. Marchant"
          ],
          [
           "107-1",
           "Erasmo Escala esq. General Velasquez"
          ],
          [
           "54-1",
           "El Tejar esq. Pje. Ocho"
          ],
          [
           "54-3",
           "El Tejar esq. Av. O'Higgins"
          ],
          [
           "3-3",
           "Av. Libertador Bernardo O'Higgins esq. Bombero Lagos"
          ],
          [
           "3-1",
           "Av. Libertador Bernardo O'Higgins esq. Av. Collin"
          ],
          [
           "22-4",
           "Arturo Prat esq. Plaza La Victoria"
          ],
          [
           "22-3",
           "Arturo Prat esq. Carrera"
          ],
          [
           "22-2",
           "Arturo Prat esq. 18 De Septiembre"
          ],
          [
           "22-1",
           "Arturo Prat esq. 5 De Abril"
          ],
          [
           "13-2",
           "5 De Abril esq. Maipon"
          ],
          [
           "12-2",
           "18 De Septiembre esq. Bulnes"
          ],
          [
           "12-1",
           "18 De Septiembre esq. Colegio Concepcion De Chillan"
          ],
          [
           "16-2",
           "Gamero esq. 18 De Septiembre"
          ],
          [
           "16-4",
           "Gamero esq. Sargento Aldea"
          ],
          [
           "18-1",
           "Av. Libertad esq. Yerbas Buenas"
          ],
          [
           "37-4",
           "Francisco Ramirez esq. Hospital Clinico Herminda M."
          ],
          [
           "37-3",
           "Francisco Ramirez esq. Cesfam Violeta Parra"
          ],
          [
           "37-2",
           "Francisco Ramirez esq. Av. Coihueco"
          ],
          [
           "85-6",
           "Av. Coihueco esq. Blanco Encalada"
          ],
          [
           "85-4",
           "Av. Coihueco esq. Chacabuco"
          ],
          [
           "32-2",
           "Chacabuco esq. Geronimo Michael"
          ],
          [
           "31-1",
           "Yungay esq. Iquique"
          ],
          [
           "31-2",
           "Yungay esq. Av. Argentina"
          ],
          [
           "6-8",
           "Av. Vicente Mendez esq. Diego De Almagro"
          ],
          [
           "6-6",
           "Av. Vicente Mendez esq. Universidad De Concepcion"
          ],
          [
           "6-5",
           "Av. Vicente Mendez esq. Universidad De Concepcion"
          ],
          [
           "6-2",
           "Av. Vicente Mendez esq. Jumbo"
          ],
          [
           "29-2",
           "Emmanuel esq. San Francisco De Asis"
          ],
          [
           "29-1",
           "Emmanuel esq. Av. Andres Bello"
          ],
          [
           "28-1",
           "San Alberto esq. Acceso A Camino A Cato"
          ]
         ],
         "hovertemplate": "<b>%{hovertext}</b><br><br>stop_lat=%{lat}<br>stop_lon=%{lon}<br>stop_id=%{customdata[0]}<br>stop_name=%{customdata[1]}<extra></extra>",
         "hovertext": [
          "Av. Baquedano esq. Gabriela Mistral",
          "Av. Baquedano esq. Pablo Neruda",
          "Av. Baquedano esq. Cabildo",
          "Av. Baquedano esq. Entrada a Santuario",
          "Erasmo Escala esq. Conde del Maule",
          "Mariano Egana esq. Juan Martinez de Rosas",
          "Erasmo Escala esq. Marchant",
          "Erasmo Escala esq. General Velasquez",
          "El Tejar esq. Pje. Ocho",
          "El Tejar esq. Av. O'Higgins",
          "Av. Libertador Bernardo O'Higgins esq. Bombero Lagos",
          "Av. Libertador Bernardo O'Higgins esq. Av. Collin",
          "Arturo Prat esq. Plaza La Victoria",
          "Arturo Prat esq. Carrera",
          "Arturo Prat esq. 18 De Septiembre",
          "Arturo Prat esq. 5 De Abril",
          "5 De Abril esq. Maipon",
          "18 De Septiembre esq. Bulnes",
          "18 De Septiembre esq. Colegio Concepcion De Chillan",
          "Gamero esq. 18 De Septiembre",
          "Gamero esq. Sargento Aldea",
          "Av. Libertad esq. Yerbas Buenas",
          "Francisco Ramirez esq. Hospital Clinico Herminda M.",
          "Francisco Ramirez esq. Cesfam Violeta Parra",
          "Francisco Ramirez esq. Av. Coihueco",
          "Av. Coihueco esq. Blanco Encalada",
          "Av. Coihueco esq. Chacabuco",
          "Chacabuco esq. Geronimo Michael",
          "Yungay esq. Iquique",
          "Yungay esq. Av. Argentina",
          "Av. Vicente Mendez esq. Diego De Almagro",
          "Av. Vicente Mendez esq. Universidad De Concepcion",
          "Av. Vicente Mendez esq. Universidad De Concepcion",
          "Av. Vicente Mendez esq. Jumbo",
          "Emmanuel esq. San Francisco De Asis",
          "Emmanuel esq. Av. Andres Bello",
          "San Alberto esq. Acceso A Camino A Cato"
         ],
         "lat": [
          -36.64025065851974,
          -36.638473001650866,
          -36.63775523576085,
          -36.63460763127148,
          -36.62806537138809,
          -36.624025105327476,
          -36.62077555181492,
          -36.619631456789406,
          -36.618808561689555,
          -36.61809319576596,
          -36.61673850695731,
          -36.61398766022353,
          -36.60981373239112,
          -36.61039581546459,
          -36.61088913970114,
          -36.611302893106924,
          -36.610859979872885,
          -36.60543952639219,
          -36.60338038074049,
          -36.602291886548066,
          -36.60372890706637,
          -36.60835530965048,
          -36.60857395604352,
          -36.608579988445314,
          -36.60859932008744,
          -36.607373911796444,
          -36.60480628706335,
          -36.60386305211545,
          -36.60284241810715,
          -36.60247338999524,
          -36.59940739439516,
          -36.59606420839346,
          -36.59486724890938,
          -36.59080894789712,
          -36.58809178814429,
          -36.58954713682944,
          -36.585813976788124
         ],
         "legendgroup": "",
         "lon": [
          -72.13461836475155,
          -72.13183755750096,
          -72.13072498134837,
          -72.12616381825879,
          -72.12767168464116,
          -72.12972263174163,
          -72.12575759103576,
          -72.12543042889929,
          -72.12363066987307,
          -72.11899037730697,
          -72.11606449729024,
          -72.11216306076523,
          -72.10978215025096,
          -72.10739385912802,
          -72.10537507016153,
          -72.10367270852849,
          -72.10240221583808,
          -72.10369482055735,
          -72.1029157120745,
          -72.10210502909248,
          -72.09620535150718,
          -72.0937758667216,
          -72.0915164370035,
          -72.08974999707235,
          -72.08838879330057,
          -72.08733618518998,
          -72.08189935445407,
          -72.08331177269733,
          -72.0887120356815,
          -72.09020309161482,
          -72.08894802584697,
          -72.08698887730866,
          -72.08632635336184,
          -72.08391809628503,
          -72.07279836716197,
          -72.06889633565987,
          -72.07438822749582
         ],
         "marker": {
          "color": "white"
         },
         "mode": "markers",
         "name": "",
         "showlegend": false,
         "subplot": "mapbox",
         "type": "scattermapbox"
        }
       ],
       "layout": {
        "template": {
         "data": {
          "histogram2dcontour": [
           {
            "type": "histogram2dcontour",
            "colorbar": {
             "outlinewidth": 0,
             "ticks": ""
            },
            "colorscale": [
             [
              0.0,
              "#0d0887"
             ],
             [
              0.1111111111111111,
              "#46039f"
             ],
             [
              0.2222222222222222,
              "#7201a8"
             ],
             [
              0.3333333333333333,
              "#9c179e"
             ],
             [
              0.4444444444444444,
              "#bd3786"
             ],
             [
              0.5555555555555556,
              "#d8576b"
             ],
             [
              0.6666666666666666,
              "#ed7953"
             ],
             [
              0.7777777777777778,
              "#fb9f3a"
             ],
             [
              0.8888888888888888,
              "#fdca26"
             ],
             [
              1.0,
              "#f0f921"
             ]
            ]
           }
          ],
          "choropleth": [
           {
            "type": "choropleth",
            "colorbar": {
             "outlinewidth": 0,
             "ticks": ""
            }
           }
          ],
          "histogram2d": [
           {
            "type": "histogram2d",
            "colorbar": {
             "outlinewidth": 0,
             "ticks": ""
            },
            "colorscale": [
             [
              0.0,
              "#0d0887"
             ],
             [
              0.1111111111111111,
              "#46039f"
             ],
             [
              0.2222222222222222,
              "#7201a8"
             ],
             [
              0.3333333333333333,
              "#9c179e"
             ],
             [
              0.4444444444444444,
              "#bd3786"
             ],
             [
              0.5555555555555556,
              "#d8576b"
             ],
             [
              0.6666666666666666,
              "#ed7953"
             ],
             [
              0.7777777777777778,
              "#fb9f3a"
             ],
             [
              0.8888888888888888,
              "#fdca26"
             ],
             [
              1.0,
              "#f0f921"
             ]
            ]
           }
          ],
          "heatmap": [
           {
            "type": "heatmap",
            "colorbar": {
             "outlinewidth": 0,
             "ticks": ""
            },
            "colorscale": [
             [
              0.0,
              "#0d0887"
             ],
             [
              0.1111111111111111,
              "#46039f"
             ],
             [
              0.2222222222222222,
              "#7201a8"
             ],
             [
              0.3333333333333333,
              "#9c179e"
             ],
             [
              0.4444444444444444,
              "#bd3786"
             ],
             [
              0.5555555555555556,
              "#d8576b"
             ],
             [
              0.6666666666666666,
              "#ed7953"
             ],
             [
              0.7777777777777778,
              "#fb9f3a"
             ],
             [
              0.8888888888888888,
              "#fdca26"
             ],
             [
              1.0,
              "#f0f921"
             ]
            ]
           }
          ],
          "heatmapgl": [
           {
            "type": "heatmapgl",
            "colorbar": {
             "outlinewidth": 0,
             "ticks": ""
            },
            "colorscale": [
             [
              0.0,
              "#0d0887"
             ],
             [
              0.1111111111111111,
              "#46039f"
             ],
             [
              0.2222222222222222,
              "#7201a8"
             ],
             [
              0.3333333333333333,
              "#9c179e"
             ],
             [
              0.4444444444444444,
              "#bd3786"
             ],
             [
              0.5555555555555556,
              "#d8576b"
             ],
             [
              0.6666666666666666,
              "#ed7953"
             ],
             [
              0.7777777777777778,
              "#fb9f3a"
             ],
             [
              0.8888888888888888,
              "#fdca26"
             ],
             [
              1.0,
              "#f0f921"
             ]
            ]
           }
          ],
          "contourcarpet": [
           {
            "type": "contourcarpet",
            "colorbar": {
             "outlinewidth": 0,
             "ticks": ""
            }
           }
          ],
          "contour": [
           {
            "type": "contour",
            "colorbar": {
             "outlinewidth": 0,
             "ticks": ""
            },
            "colorscale": [
             [
              0.0,
              "#0d0887"
             ],
             [
              0.1111111111111111,
              "#46039f"
             ],
             [
              0.2222222222222222,
              "#7201a8"
             ],
             [
              0.3333333333333333,
              "#9c179e"
             ],
             [
              0.4444444444444444,
              "#bd3786"
             ],
             [
              0.5555555555555556,
              "#d8576b"
             ],
             [
              0.6666666666666666,
              "#ed7953"
             ],
             [
              0.7777777777777778,
              "#fb9f3a"
             ],
             [
              0.8888888888888888,
              "#fdca26"
             ],
             [
              1.0,
              "#f0f921"
             ]
            ]
           }
          ],
          "surface": [
           {
            "type": "surface",
            "colorbar": {
             "outlinewidth": 0,
             "ticks": ""
            },
            "colorscale": [
             [
              0.0,
              "#0d0887"
             ],
             [
              0.1111111111111111,
              "#46039f"
             ],
             [
              0.2222222222222222,
              "#7201a8"
             ],
             [
              0.3333333333333333,
              "#9c179e"
             ],
             [
              0.4444444444444444,
              "#bd3786"
             ],
             [
              0.5555555555555556,
              "#d8576b"
             ],
             [
              0.6666666666666666,
              "#ed7953"
             ],
             [
              0.7777777777777778,
              "#fb9f3a"
             ],
             [
              0.8888888888888888,
              "#fdca26"
             ],
             [
              1.0,
              "#f0f921"
             ]
            ]
           }
          ],
          "mesh3d": [
           {
            "type": "mesh3d",
            "colorbar": {
             "outlinewidth": 0,
             "ticks": ""
            }
           }
          ],
          "scatter": [
           {
            "marker": {
             "line": {
              "color": "#283442"
             }
            },
            "type": "scatter"
           }
          ],
          "parcoords": [
           {
            "type": "parcoords",
            "line": {
             "colorbar": {
              "outlinewidth": 0,
              "ticks": ""
             }
            }
           }
          ],
          "scatterpolargl": [
           {
            "type": "scatterpolargl",
            "marker": {
             "colorbar": {
              "outlinewidth": 0,
              "ticks": ""
             }
            }
           }
          ],
          "bar": [
           {
            "error_x": {
             "color": "#f2f5fa"
            },
            "error_y": {
             "color": "#f2f5fa"
            },
            "marker": {
             "line": {
              "color": "rgb(17,17,17)",
              "width": 0.5
             },
             "pattern": {
              "fillmode": "overlay",
              "size": 10,
              "solidity": 0.2
             }
            },
            "type": "bar"
           }
          ],
          "scattergeo": [
           {
            "type": "scattergeo",
            "marker": {
             "colorbar": {
              "outlinewidth": 0,
              "ticks": ""
             }
            }
           }
          ],
          "scatterpolar": [
           {
            "type": "scatterpolar",
            "marker": {
             "colorbar": {
              "outlinewidth": 0,
              "ticks": ""
             }
            }
           }
          ],
          "histogram": [
           {
            "marker": {
             "pattern": {
              "fillmode": "overlay",
              "size": 10,
              "solidity": 0.2
             }
            },
            "type": "histogram"
           }
          ],
          "scattergl": [
           {
            "marker": {
             "line": {
              "color": "#283442"
             }
            },
            "type": "scattergl"
           }
          ],
          "scatter3d": [
           {
            "type": "scatter3d",
            "line": {
             "colorbar": {
              "outlinewidth": 0,
              "ticks": ""
             }
            },
            "marker": {
             "colorbar": {
              "outlinewidth": 0,
              "ticks": ""
             }
            }
           }
          ],
          "scattermapbox": [
           {
            "type": "scattermapbox",
            "marker": {
             "colorbar": {
              "outlinewidth": 0,
              "ticks": ""
             }
            }
           }
          ],
          "scatterternary": [
           {
            "type": "scatterternary",
            "marker": {
             "colorbar": {
              "outlinewidth": 0,
              "ticks": ""
             }
            }
           }
          ],
          "scattercarpet": [
           {
            "type": "scattercarpet",
            "marker": {
             "colorbar": {
              "outlinewidth": 0,
              "ticks": ""
             }
            }
           }
          ],
          "carpet": [
           {
            "aaxis": {
             "endlinecolor": "#A2B1C6",
             "gridcolor": "#506784",
             "linecolor": "#506784",
             "minorgridcolor": "#506784",
             "startlinecolor": "#A2B1C6"
            },
            "baxis": {
             "endlinecolor": "#A2B1C6",
             "gridcolor": "#506784",
             "linecolor": "#506784",
             "minorgridcolor": "#506784",
             "startlinecolor": "#A2B1C6"
            },
            "type": "carpet"
           }
          ],
          "table": [
           {
            "cells": {
             "fill": {
              "color": "#506784"
             },
             "line": {
              "color": "rgb(17,17,17)"
             }
            },
            "header": {
             "fill": {
              "color": "#2a3f5f"
             },
             "line": {
              "color": "rgb(17,17,17)"
             }
            },
            "type": "table"
           }
          ],
          "barpolar": [
           {
            "marker": {
             "line": {
              "color": "rgb(17,17,17)",
              "width": 0.5
             },
             "pattern": {
              "fillmode": "overlay",
              "size": 10,
              "solidity": 0.2
             }
            },
            "type": "barpolar"
           }
          ],
          "pie": [
           {
            "automargin": true,
            "type": "pie"
           }
          ]
         },
         "layout": {
          "autotypenumbers": "strict",
          "colorway": [
           "#636efa",
           "#EF553B",
           "#00cc96",
           "#ab63fa",
           "#FFA15A",
           "#19d3f3",
           "#FF6692",
           "#B6E880",
           "#FF97FF",
           "#FECB52"
          ],
          "font": {
           "color": "#f2f5fa"
          },
          "hovermode": "closest",
          "hoverlabel": {
           "align": "left"
          },
          "paper_bgcolor": "rgb(17,17,17)",
          "plot_bgcolor": "rgb(17,17,17)",
          "polar": {
           "bgcolor": "rgb(17,17,17)",
           "angularaxis": {
            "gridcolor": "#506784",
            "linecolor": "#506784",
            "ticks": ""
           },
           "radialaxis": {
            "gridcolor": "#506784",
            "linecolor": "#506784",
            "ticks": ""
           }
          },
          "ternary": {
           "bgcolor": "rgb(17,17,17)",
           "aaxis": {
            "gridcolor": "#506784",
            "linecolor": "#506784",
            "ticks": ""
           },
           "baxis": {
            "gridcolor": "#506784",
            "linecolor": "#506784",
            "ticks": ""
           },
           "caxis": {
            "gridcolor": "#506784",
            "linecolor": "#506784",
            "ticks": ""
           }
          },
          "coloraxis": {
           "colorbar": {
            "outlinewidth": 0,
            "ticks": ""
           }
          },
          "colorscale": {
           "sequential": [
            [
             0.0,
             "#0d0887"
            ],
            [
             0.1111111111111111,
             "#46039f"
            ],
            [
             0.2222222222222222,
             "#7201a8"
            ],
            [
             0.3333333333333333,
             "#9c179e"
            ],
            [
             0.4444444444444444,
             "#bd3786"
            ],
            [
             0.5555555555555556,
             "#d8576b"
            ],
            [
             0.6666666666666666,
             "#ed7953"
            ],
            [
             0.7777777777777778,
             "#fb9f3a"
            ],
            [
             0.8888888888888888,
             "#fdca26"
            ],
            [
             1.0,
             "#f0f921"
            ]
           ],
           "sequentialminus": [
            [
             0.0,
             "#0d0887"
            ],
            [
             0.1111111111111111,
             "#46039f"
            ],
            [
             0.2222222222222222,
             "#7201a8"
            ],
            [
             0.3333333333333333,
             "#9c179e"
            ],
            [
             0.4444444444444444,
             "#bd3786"
            ],
            [
             0.5555555555555556,
             "#d8576b"
            ],
            [
             0.6666666666666666,
             "#ed7953"
            ],
            [
             0.7777777777777778,
             "#fb9f3a"
            ],
            [
             0.8888888888888888,
             "#fdca26"
            ],
            [
             1.0,
             "#f0f921"
            ]
           ],
           "diverging": [
            [
             0,
             "#8e0152"
            ],
            [
             0.1,
             "#c51b7d"
            ],
            [
             0.2,
             "#de77ae"
            ],
            [
             0.3,
             "#f1b6da"
            ],
            [
             0.4,
             "#fde0ef"
            ],
            [
             0.5,
             "#f7f7f7"
            ],
            [
             0.6,
             "#e6f5d0"
            ],
            [
             0.7,
             "#b8e186"
            ],
            [
             0.8,
             "#7fbc41"
            ],
            [
             0.9,
             "#4d9221"
            ],
            [
             1,
             "#276419"
            ]
           ]
          },
          "xaxis": {
           "gridcolor": "#283442",
           "linecolor": "#506784",
           "ticks": "",
           "title": {
            "standoff": 15
           },
           "zerolinecolor": "#283442",
           "automargin": true,
           "zerolinewidth": 2
          },
          "yaxis": {
           "gridcolor": "#283442",
           "linecolor": "#506784",
           "ticks": "",
           "title": {
            "standoff": 15
           },
           "zerolinecolor": "#283442",
           "automargin": true,
           "zerolinewidth": 2
          },
          "scene": {
           "xaxis": {
            "backgroundcolor": "rgb(17,17,17)",
            "gridcolor": "#506784",
            "linecolor": "#506784",
            "showbackground": true,
            "ticks": "",
            "zerolinecolor": "#C8D4E3",
            "gridwidth": 2
           },
           "yaxis": {
            "backgroundcolor": "rgb(17,17,17)",
            "gridcolor": "#506784",
            "linecolor": "#506784",
            "showbackground": true,
            "ticks": "",
            "zerolinecolor": "#C8D4E3",
            "gridwidth": 2
           },
           "zaxis": {
            "backgroundcolor": "rgb(17,17,17)",
            "gridcolor": "#506784",
            "linecolor": "#506784",
            "showbackground": true,
            "ticks": "",
            "zerolinecolor": "#C8D4E3",
            "gridwidth": 2
           }
          },
          "shapedefaults": {
           "line": {
            "color": "#f2f5fa"
           }
          },
          "annotationdefaults": {
           "arrowcolor": "#f2f5fa",
           "arrowhead": 0,
           "arrowwidth": 1
          },
          "geo": {
           "bgcolor": "rgb(17,17,17)",
           "landcolor": "rgb(17,17,17)",
           "subunitcolor": "#506784",
           "showland": true,
           "showlakes": true,
           "lakecolor": "rgb(17,17,17)"
          },
          "title": {
           "x": 0.05
          },
          "updatemenudefaults": {
           "bgcolor": "#506784",
           "borderwidth": 0
          },
          "sliderdefaults": {
           "bgcolor": "#C8D4E3",
           "borderwidth": 1,
           "bordercolor": "rgb(17,17,17)",
           "tickwidth": 0
          },
          "mapbox": {
           "style": "dark"
          }
         }
        },
        "mapbox": {
         "domain": {
          "x": [
           0.0,
           1.0
          ],
          "y": [
           0.0,
           1.0
          ]
         },
         "center": {
          "lat": -36.60814304,
          "lon": -72.10020448235294
         },
         "zoom": 12,
         "style": "dark",
         "accesstoken": "pk.eyJ1IjoidHJhbnNhcHAiLCJhIjoiY2w4czhubzh3MXhwajNwbzgwM2dzM3R6bCJ9.vsA2xogBFcRYH2DbwDOb4w"
        },
        "legend": {
         "tracegroupgap": 0
        },
        "margin": {
         "t": 0,
         "r": 0,
         "l": 0,
         "b": 0
        }
       },
       "config": {
        "plotlyServerURL": "https://plot.ly"
       }
      },
      "text/html": "<div>                            <div id=\"b35cb1f3-c11b-4bbb-bed6-93bed26215ee\" class=\"plotly-graph-div\" style=\"height:525px; width:100%;\"></div>            <script type=\"text/javascript\">                require([\"plotly\"], function(Plotly) {                    window.PLOTLYENV=window.PLOTLYENV || {};                                    if (document.getElementById(\"b35cb1f3-c11b-4bbb-bed6-93bed26215ee\")) {                    Plotly.newPlot(                        \"b35cb1f3-c11b-4bbb-bed6-93bed26215ee\",                        [{\"hovertemplate\":\"shape_pt_lat=%{lat}<br>shape_pt_lon=%{lon}<extra></extra>\",\"lat\":[-36.64062,-36.64062,-36.64062,-36.64038,-36.64029,-36.64027,-36.64016,-36.63988,-36.63963,-36.63922,-36.63857,-36.63852,-36.63828,-36.63821,-36.63797,-36.63772,-36.63765,-36.63715,-36.63574,-36.63546,-36.63525,-36.63519,-36.63513,-36.63507,-36.63501,-36.63493,-36.63486,-36.63479,-36.6347,-36.63463,-36.63462,-36.63462,-36.63454,-36.63445,-36.63435,-36.63426,-36.63418,-36.6341,-36.63404,-36.63398,-36.6339,-36.63357,-36.63329,-36.63321,-36.63321,-36.63298,-36.63277,-36.63277,-36.63215,-36.63154,-36.63116,-36.63033,-36.62978,-36.62921,-36.62914,-36.62791,-36.62791,-36.62768,-36.62747,-36.62747,-36.62627,-36.62507,-36.623881,-36.623881,-36.62387,-36.62409,-36.6243,-36.6243,-36.6243,-36.62306,-36.62205,-36.6219,-36.62079,-36.62073,-36.62069,-36.62064,-36.62031,-36.61963,-36.619507,-36.619507,-36.6195,-36.61975,-36.61975,-36.61972,-36.61968,-36.61964,-36.61955,-36.6195,-36.61933,-36.61905,-36.61892,-36.61875,-36.61858,-36.6185,-36.61842,-36.61834,-36.61825,-36.61816,-36.61808,-36.61801,-36.61794,-36.61788,-36.61782,-36.61777,-36.61772,-36.61768,-36.61761,-36.61755,-36.61754,-36.61754,-36.61752,-36.61749,-36.61749,-36.61748,-36.61749,-36.6175,-36.6175,-36.61751,-36.61751,-36.61755,-36.61762,-36.61784,-36.61801,-36.61808,-36.6181,-36.6182,-36.61822,-36.61828,-36.61834,-36.61834,-36.61745,-36.61654,-36.61604,-36.61565,-36.61564,-36.61489,-36.61487,-36.61485,-36.61378,-36.61371,-36.61362,-36.61362,-36.61358,-36.6135,-36.61348,-36.61344,-36.61344,-36.61322,-36.61319,-36.61215,-36.61143,-36.61094,-36.60969,-36.60969,-36.60969,-36.60969,-36.60971,-36.61007,-36.61044,-36.61081,-36.61119,-36.61155,-36.61155,-36.61096,-36.61051,-36.61033,-36.61005,-36.6098,-36.60965,-36.6094,-36.60909,-36.60831,-36.60817,-36.60787,-36.60787,-36.60781,-36.60756,-36.60753,-36.6075,-36.60747,-36.60746,-36.6073,-36.60721,-36.60716,-36.607142,-36.60714,-36.60714,-36.60708,-36.60694,-36.60648,-36.6061,-36.60594,-36.60588,-36.60576,-36.60569,-36.60469,-36.60388,-36.60342,-36.6022,-36.6022,-36.60257,-36.602571,-36.602571,-36.60294,-36.60294,-36.60329,-36.60331,-36.60333,-36.60367,-36.60369,-36.60369,-36.60407,-36.60407,-36.60408,-36.60531,-36.60653,-36.60764,-36.60775,-36.60775,-36.60812,-36.60838,-36.60841,-36.60849,-36.60851,-36.60855,-36.60855,-36.60856,-36.60857,-36.60857,-36.60857,-36.60857,-36.60858,-36.60858,-36.60858,-36.60858,-36.60858,-36.60859,-36.60859,-36.6086,-36.6086,-36.6086,-36.6086,-36.60785,-36.60763,-36.60736,-36.60724,-36.60698,-36.60671,-36.606685,-36.606685,-36.60668,-36.60656,-36.60647,-36.60629,-36.60624,-36.60557,-36.60553,-36.60552,-36.60552,-36.60542,-36.60539,-36.60522,-36.60497,-36.60473,-36.60469,-36.60468,-36.60469,-36.60469,-36.60463,-36.60449,-36.60427,-36.60395,-36.60384,-36.60368,-36.60348,-36.60339,-36.60329,-36.60315,-36.6031,-36.6029,-36.60285,-36.60264,-36.60261,-36.60241,-36.60222,-36.60176,-36.60176,-36.60178,-36.60212,-36.60228,-36.60289,-36.60289,-36.60286,-36.60276,-36.60254,-36.60248,-36.60242,-36.60242,-36.60238,-36.602273,-36.602273,-36.60227,-36.60221,-36.60198,-36.6019,-36.60175,-36.60098,-36.60082,-36.6003,-36.60024,-36.60018,-36.60011,-36.59995,-36.59978,-36.59931,-36.59916,-36.5985,-36.59726,-36.59714,-36.59658,-36.59628,-36.59612,-36.59612,-36.59517,-36.59489,-36.59484,-36.59366,-36.59334,-36.59231,-36.59179,-36.59167,-36.59155,-36.59127,-36.5911,-36.59102,-36.59054,-36.59027,-36.59004,-36.59001,-36.58975,-36.58949,-36.58937,-36.58929,-36.58915,-36.58903,-36.58898,-36.5889,-36.5889,-36.5889,-36.58883,-36.5888,-36.5888,-36.5888,-36.5888,-36.5888,-36.58882,-36.58885,-36.58887,-36.58893,-36.58897,-36.58898,-36.58898,-36.58892,-36.58887,-36.58881,-36.58874,-36.58744,-36.58707,-36.5869,-36.58691,-36.58691,-36.58692,-36.58694,-36.58701,-36.58705,-36.58725,-36.58746,-36.5877,-36.5879,-36.58816,-36.58835,-36.58858,-36.58858,-36.588579,-36.588599,-36.588796,-36.589048,-36.58924,-36.589488,-36.589562,-36.589675,-36.589251,-36.588775,-36.588425,-36.58841,-36.58841,-36.58822,-36.58813,-36.58803,-36.58789,-36.58784,-36.58765,-36.58746,-36.58744,-36.58724,-36.58704,-36.58679,-36.58654,-36.58633,-36.58608,-36.58588,-36.58578,-36.58577,-36.58577,-36.58518,-36.58514,-36.58481,-36.58474,-36.58362,-36.58318,-36.58281,-36.582724,-36.582724,-36.58272,-36.58196],\"legendgroup\":\"\",\"line\":{\"color\":\"blue\"},\"lon\":[-72.1352,-72.1352,-72.1352,-72.13483,-72.13468,-72.13465,-72.13447,-72.13405,-72.13364,-72.133,-72.13199,-72.13191,-72.13154,-72.13144,-72.13106,-72.13067,-72.13056,-72.12978,-72.12758,-72.12714,-72.12681,-72.12671,-72.12663,-72.12654,-72.12647,-72.12639,-72.12633,-72.12627,-72.12621,-72.12617,-72.12617,-72.12617,-72.12613,-72.12609,-72.12605,-72.12603,-72.126,-72.12598,-72.12597,-72.12596,-72.12594,-72.12588,-72.12583,-72.12582,-72.12585,-72.12738,-72.12889,-72.12889,-72.12874,-72.1286,-72.1285,-72.12828,-72.12813,-72.12798,-72.12796,-72.12763,-72.12763,-72.12912,-72.13061,-72.13061,-72.13031,-72.13001,-72.129683,-72.129683,-72.12968,-72.12819,-72.126672,-72.12667,-72.12667,-72.12637,-72.12609,-72.12605,-72.12576,-72.12575,-72.12574,-72.12572,-72.12563,-72.12543,-72.125402,-72.125402,-72.1254,-72.12389,-72.12389,-72.12386,-72.12383,-72.12381,-72.12379,-72.12378,-72.12375,-72.12369,-72.12367,-72.12361,-72.12352,-72.12347,-72.12341,-72.12335,-72.12326,-72.12317,-72.12308,-72.12299,-72.12289,-72.12278,-72.12266,-72.12255,-72.12242,-72.1223,-72.12203,-72.12183,-72.12179,-72.12179,-72.12167,-72.12148,-72.12129,-72.12122,-72.12107,-72.121,-72.12097,-72.12095,-72.12095,-72.12081,-72.12055,-72.11983,-72.11929,-72.11903,-72.11897,-72.11863,-72.11856,-72.11849,-72.11842,-72.11842,-72.11712,-72.11577,-72.11506,-72.11452,-72.11451,-72.11344,-72.11341,-72.11338,-72.11187,-72.1118,-72.11174,-72.11174,-72.11174,-72.11174,-72.11173,-72.11171,-72.11171,-72.11162,-72.11161,-72.11122,-72.11095,-72.11077,-72.11031,-72.1103,-72.11031,-72.11031,-72.1102,-72.10875,-72.10721,-72.1057,-72.10414,-72.10265,-72.10265,-72.10244,-72.10227,-72.1022,-72.1021,-72.10201,-72.10195,-72.10186,-72.10174,-72.10145,-72.10139,-72.10128,-72.10128,-72.10153,-72.10256,-72.10272,-72.10281,-72.10295,-72.10297,-72.10367,-72.10403,-72.10423,-72.104311,-72.10432,-72.10432,-72.1043,-72.10425,-72.10408,-72.10394,-72.10388,-72.10386,-72.10382,-72.10379,-72.10341,-72.1031,-72.10293,-72.10249,-72.10249,-72.10094,-72.100935,-72.100935,-72.09942,-72.09942,-72.09796,-72.09789,-72.09781,-72.09643,-72.09636,-72.09636,-72.09485,-72.09485,-72.09484,-72.09528,-72.09575,-72.09616,-72.0962,-72.0962,-72.09469,-72.09368,-72.09351,-72.09322,-72.09314,-72.09295,-72.09295,-72.09292,-72.09284,-72.09263,-72.09245,-72.09181,-72.09107,-72.09089,-72.09009,-72.08986,-72.0897,-72.08923,-72.08907,-72.08834,-72.08792,-72.08782,-72.08782,-72.08754,-72.08745,-72.08733,-72.08727,-72.08715,-72.08697,-72.086936,-72.086936,-72.08693,-72.08678,-72.08659,-72.08609,-72.08594,-72.08403,-72.08394,-72.08394,-72.08394,-72.08364,-72.08353,-72.08306,-72.08237,-72.08168,-72.08157,-72.08158,-72.08157,-72.08157,-72.0817,-72.08198,-72.08245,-72.08313,-72.08336,-72.08368,-72.08411,-72.08431,-72.08453,-72.08484,-72.08496,-72.08542,-72.08552,-72.08601,-72.08608,-72.08657,-72.08702,-72.08811,-72.08811,-72.08811,-72.08824,-72.0883,-72.08852,-72.08852,-72.08864,-72.08905,-72.08994,-72.09018,-72.09039,-72.09039,-72.09044,-72.090557,-72.090557,-72.09056,-72.09054,-72.09044,-72.09042,-72.09038,-72.0899,-72.08981,-72.08949,-72.08945,-72.08942,-72.08937,-72.08928,-72.08917,-72.08889,-72.08879,-72.08839,-72.08764,-72.08758,-72.08727,-72.08711,-72.08702,-72.08702,-72.08649,-72.08634,-72.08631,-72.08565,-72.08548,-72.08491,-72.08452,-72.08445,-72.08436,-72.08419,-72.08409,-72.08405,-72.08375,-72.08354,-72.08329,-72.08325,-72.08294,-72.08255,-72.08233,-72.08216,-72.08183,-72.0815,-72.08142,-72.08106,-72.08104,-72.08104,-72.0807,-72.08031,-72.08017,-72.08015,-72.08015,-72.0799,-72.07957,-72.07928,-72.07917,-72.07878,-72.07854,-72.0785,-72.0785,-72.07846,-72.07842,-72.07835,-72.07827,-72.07681,-72.07623,-72.07597,-72.07595,-72.07595,-72.07592,-72.07585,-72.07568,-72.07556,-72.07502,-72.07449,-72.07383,-72.0733,-72.07262,-72.0721,-72.07149,-72.07149,-72.071491,-72.071439,-72.070924,-72.070245,-72.069726,-72.069057,-72.068856,-72.068551,-72.068214,-72.067834,-72.067553,-72.06754,-72.06754,-72.06805,-72.06828,-72.06855,-72.06891,-72.06905,-72.06956,-72.07005,-72.07011,-72.07062,-72.07115,-72.07183,-72.07249,-72.07303,-72.07369,-72.07421,-72.07448,-72.07451,-72.07451,-72.07396,-72.07392,-72.07361,-72.07355,-72.07252,-72.07211,-72.07176,-72.071693,-72.071693,-72.07169,-72.07401],\"mode\":\"lines\",\"name\":\"\",\"showlegend\":false,\"subplot\":\"mapbox\",\"type\":\"scattermapbox\"},{\"hovertemplate\":\"size=%{marker.size}<br>shape_pt_lat=%{lat}<br>shape_pt_lon=%{lon}<extra></extra>\",\"lat\":[-36.58196],\"legendgroup\":\"\",\"lon\":[-72.07401],\"marker\":{\"color\":\"red\",\"size\":[20],\"sizemode\":\"area\",\"sizeref\":0.05},\"mode\":\"markers\",\"name\":\"\",\"showlegend\":false,\"subplot\":\"mapbox\",\"type\":\"scattermapbox\"},{\"customdata\":[[\"120-1\",\"Av. Baquedano esq. Gabriela Mistral\"],[\"120-5\",\"Av. Baquedano esq. Pablo Neruda\"],[\"120-6\",\"Av. Baquedano esq. Cabildo\"],[\"120-7\",\"Av. Baquedano esq. Entrada a Santuario\"],[\"107-4\",\"Erasmo Escala esq. Conde del Maule\"],[\"116-1\",\"Mariano Egana esq. Juan Martinez de Rosas\"],[\"107-2\",\"Erasmo Escala esq. Marchant\"],[\"107-1\",\"Erasmo Escala esq. General Velasquez\"],[\"54-1\",\"El Tejar esq. Pje. Ocho\"],[\"54-3\",\"El Tejar esq. Av. O'Higgins\"],[\"3-3\",\"Av. Libertador Bernardo O'Higgins esq. Bombero Lagos\"],[\"3-1\",\"Av. Libertador Bernardo O'Higgins esq. Av. Collin\"],[\"22-4\",\"Arturo Prat esq. Plaza La Victoria\"],[\"22-3\",\"Arturo Prat esq. Carrera\"],[\"22-2\",\"Arturo Prat esq. 18 De Septiembre\"],[\"22-1\",\"Arturo Prat esq. 5 De Abril\"],[\"13-2\",\"5 De Abril esq. Maipon\"],[\"12-2\",\"18 De Septiembre esq. Bulnes\"],[\"12-1\",\"18 De Septiembre esq. Colegio Concepcion De Chillan\"],[\"16-2\",\"Gamero esq. 18 De Septiembre\"],[\"16-4\",\"Gamero esq. Sargento Aldea\"],[\"18-1\",\"Av. Libertad esq. Yerbas Buenas\"],[\"37-4\",\"Francisco Ramirez esq. Hospital Clinico Herminda M.\"],[\"37-3\",\"Francisco Ramirez esq. Cesfam Violeta Parra\"],[\"37-2\",\"Francisco Ramirez esq. Av. Coihueco\"],[\"85-6\",\"Av. Coihueco esq. Blanco Encalada\"],[\"85-4\",\"Av. Coihueco esq. Chacabuco\"],[\"32-2\",\"Chacabuco esq. Geronimo Michael\"],[\"31-1\",\"Yungay esq. Iquique\"],[\"31-2\",\"Yungay esq. Av. Argentina\"],[\"6-8\",\"Av. Vicente Mendez esq. Diego De Almagro\"],[\"6-6\",\"Av. Vicente Mendez esq. Universidad De Concepcion\"],[\"6-5\",\"Av. Vicente Mendez esq. Universidad De Concepcion\"],[\"6-2\",\"Av. Vicente Mendez esq. Jumbo\"],[\"29-2\",\"Emmanuel esq. San Francisco De Asis\"],[\"29-1\",\"Emmanuel esq. Av. Andres Bello\"],[\"28-1\",\"San Alberto esq. Acceso A Camino A Cato\"]],\"hovertemplate\":\"<b>%{hovertext}</b><br><br>stop_lat=%{lat}<br>stop_lon=%{lon}<br>stop_id=%{customdata[0]}<br>stop_name=%{customdata[1]}<extra></extra>\",\"hovertext\":[\"Av. Baquedano esq. Gabriela Mistral\",\"Av. Baquedano esq. Pablo Neruda\",\"Av. Baquedano esq. Cabildo\",\"Av. Baquedano esq. Entrada a Santuario\",\"Erasmo Escala esq. Conde del Maule\",\"Mariano Egana esq. Juan Martinez de Rosas\",\"Erasmo Escala esq. Marchant\",\"Erasmo Escala esq. General Velasquez\",\"El Tejar esq. Pje. Ocho\",\"El Tejar esq. Av. O'Higgins\",\"Av. Libertador Bernardo O'Higgins esq. Bombero Lagos\",\"Av. Libertador Bernardo O'Higgins esq. Av. Collin\",\"Arturo Prat esq. Plaza La Victoria\",\"Arturo Prat esq. Carrera\",\"Arturo Prat esq. 18 De Septiembre\",\"Arturo Prat esq. 5 De Abril\",\"5 De Abril esq. Maipon\",\"18 De Septiembre esq. Bulnes\",\"18 De Septiembre esq. Colegio Concepcion De Chillan\",\"Gamero esq. 18 De Septiembre\",\"Gamero esq. Sargento Aldea\",\"Av. Libertad esq. Yerbas Buenas\",\"Francisco Ramirez esq. Hospital Clinico Herminda M.\",\"Francisco Ramirez esq. Cesfam Violeta Parra\",\"Francisco Ramirez esq. Av. Coihueco\",\"Av. Coihueco esq. Blanco Encalada\",\"Av. Coihueco esq. Chacabuco\",\"Chacabuco esq. Geronimo Michael\",\"Yungay esq. Iquique\",\"Yungay esq. Av. Argentina\",\"Av. Vicente Mendez esq. Diego De Almagro\",\"Av. Vicente Mendez esq. Universidad De Concepcion\",\"Av. Vicente Mendez esq. Universidad De Concepcion\",\"Av. Vicente Mendez esq. Jumbo\",\"Emmanuel esq. San Francisco De Asis\",\"Emmanuel esq. Av. Andres Bello\",\"San Alberto esq. Acceso A Camino A Cato\"],\"lat\":[-36.64025065851974,-36.638473001650866,-36.63775523576085,-36.63460763127148,-36.62806537138809,-36.624025105327476,-36.62077555181492,-36.619631456789406,-36.618808561689555,-36.61809319576596,-36.61673850695731,-36.61398766022353,-36.60981373239112,-36.61039581546459,-36.61088913970114,-36.611302893106924,-36.610859979872885,-36.60543952639219,-36.60338038074049,-36.602291886548066,-36.60372890706637,-36.60835530965048,-36.60857395604352,-36.608579988445314,-36.60859932008744,-36.607373911796444,-36.60480628706335,-36.60386305211545,-36.60284241810715,-36.60247338999524,-36.59940739439516,-36.59606420839346,-36.59486724890938,-36.59080894789712,-36.58809178814429,-36.58954713682944,-36.585813976788124],\"legendgroup\":\"\",\"lon\":[-72.13461836475155,-72.13183755750096,-72.13072498134837,-72.12616381825879,-72.12767168464116,-72.12972263174163,-72.12575759103576,-72.12543042889929,-72.12363066987307,-72.11899037730697,-72.11606449729024,-72.11216306076523,-72.10978215025096,-72.10739385912802,-72.10537507016153,-72.10367270852849,-72.10240221583808,-72.10369482055735,-72.1029157120745,-72.10210502909248,-72.09620535150718,-72.0937758667216,-72.0915164370035,-72.08974999707235,-72.08838879330057,-72.08733618518998,-72.08189935445407,-72.08331177269733,-72.0887120356815,-72.09020309161482,-72.08894802584697,-72.08698887730866,-72.08632635336184,-72.08391809628503,-72.07279836716197,-72.06889633565987,-72.07438822749582],\"marker\":{\"color\":\"white\"},\"mode\":\"markers\",\"name\":\"\",\"showlegend\":false,\"subplot\":\"mapbox\",\"type\":\"scattermapbox\"}],                        {\"template\":{\"data\":{\"histogram2dcontour\":[{\"type\":\"histogram2dcontour\",\"colorbar\":{\"outlinewidth\":0,\"ticks\":\"\"},\"colorscale\":[[0.0,\"#0d0887\"],[0.1111111111111111,\"#46039f\"],[0.2222222222222222,\"#7201a8\"],[0.3333333333333333,\"#9c179e\"],[0.4444444444444444,\"#bd3786\"],[0.5555555555555556,\"#d8576b\"],[0.6666666666666666,\"#ed7953\"],[0.7777777777777778,\"#fb9f3a\"],[0.8888888888888888,\"#fdca26\"],[1.0,\"#f0f921\"]]}],\"choropleth\":[{\"type\":\"choropleth\",\"colorbar\":{\"outlinewidth\":0,\"ticks\":\"\"}}],\"histogram2d\":[{\"type\":\"histogram2d\",\"colorbar\":{\"outlinewidth\":0,\"ticks\":\"\"},\"colorscale\":[[0.0,\"#0d0887\"],[0.1111111111111111,\"#46039f\"],[0.2222222222222222,\"#7201a8\"],[0.3333333333333333,\"#9c179e\"],[0.4444444444444444,\"#bd3786\"],[0.5555555555555556,\"#d8576b\"],[0.6666666666666666,\"#ed7953\"],[0.7777777777777778,\"#fb9f3a\"],[0.8888888888888888,\"#fdca26\"],[1.0,\"#f0f921\"]]}],\"heatmap\":[{\"type\":\"heatmap\",\"colorbar\":{\"outlinewidth\":0,\"ticks\":\"\"},\"colorscale\":[[0.0,\"#0d0887\"],[0.1111111111111111,\"#46039f\"],[0.2222222222222222,\"#7201a8\"],[0.3333333333333333,\"#9c179e\"],[0.4444444444444444,\"#bd3786\"],[0.5555555555555556,\"#d8576b\"],[0.6666666666666666,\"#ed7953\"],[0.7777777777777778,\"#fb9f3a\"],[0.8888888888888888,\"#fdca26\"],[1.0,\"#f0f921\"]]}],\"heatmapgl\":[{\"type\":\"heatmapgl\",\"colorbar\":{\"outlinewidth\":0,\"ticks\":\"\"},\"colorscale\":[[0.0,\"#0d0887\"],[0.1111111111111111,\"#46039f\"],[0.2222222222222222,\"#7201a8\"],[0.3333333333333333,\"#9c179e\"],[0.4444444444444444,\"#bd3786\"],[0.5555555555555556,\"#d8576b\"],[0.6666666666666666,\"#ed7953\"],[0.7777777777777778,\"#fb9f3a\"],[0.8888888888888888,\"#fdca26\"],[1.0,\"#f0f921\"]]}],\"contourcarpet\":[{\"type\":\"contourcarpet\",\"colorbar\":{\"outlinewidth\":0,\"ticks\":\"\"}}],\"contour\":[{\"type\":\"contour\",\"colorbar\":{\"outlinewidth\":0,\"ticks\":\"\"},\"colorscale\":[[0.0,\"#0d0887\"],[0.1111111111111111,\"#46039f\"],[0.2222222222222222,\"#7201a8\"],[0.3333333333333333,\"#9c179e\"],[0.4444444444444444,\"#bd3786\"],[0.5555555555555556,\"#d8576b\"],[0.6666666666666666,\"#ed7953\"],[0.7777777777777778,\"#fb9f3a\"],[0.8888888888888888,\"#fdca26\"],[1.0,\"#f0f921\"]]}],\"surface\":[{\"type\":\"surface\",\"colorbar\":{\"outlinewidth\":0,\"ticks\":\"\"},\"colorscale\":[[0.0,\"#0d0887\"],[0.1111111111111111,\"#46039f\"],[0.2222222222222222,\"#7201a8\"],[0.3333333333333333,\"#9c179e\"],[0.4444444444444444,\"#bd3786\"],[0.5555555555555556,\"#d8576b\"],[0.6666666666666666,\"#ed7953\"],[0.7777777777777778,\"#fb9f3a\"],[0.8888888888888888,\"#fdca26\"],[1.0,\"#f0f921\"]]}],\"mesh3d\":[{\"type\":\"mesh3d\",\"colorbar\":{\"outlinewidth\":0,\"ticks\":\"\"}}],\"scatter\":[{\"marker\":{\"line\":{\"color\":\"#283442\"}},\"type\":\"scatter\"}],\"parcoords\":[{\"type\":\"parcoords\",\"line\":{\"colorbar\":{\"outlinewidth\":0,\"ticks\":\"\"}}}],\"scatterpolargl\":[{\"type\":\"scatterpolargl\",\"marker\":{\"colorbar\":{\"outlinewidth\":0,\"ticks\":\"\"}}}],\"bar\":[{\"error_x\":{\"color\":\"#f2f5fa\"},\"error_y\":{\"color\":\"#f2f5fa\"},\"marker\":{\"line\":{\"color\":\"rgb(17,17,17)\",\"width\":0.5},\"pattern\":{\"fillmode\":\"overlay\",\"size\":10,\"solidity\":0.2}},\"type\":\"bar\"}],\"scattergeo\":[{\"type\":\"scattergeo\",\"marker\":{\"colorbar\":{\"outlinewidth\":0,\"ticks\":\"\"}}}],\"scatterpolar\":[{\"type\":\"scatterpolar\",\"marker\":{\"colorbar\":{\"outlinewidth\":0,\"ticks\":\"\"}}}],\"histogram\":[{\"marker\":{\"pattern\":{\"fillmode\":\"overlay\",\"size\":10,\"solidity\":0.2}},\"type\":\"histogram\"}],\"scattergl\":[{\"marker\":{\"line\":{\"color\":\"#283442\"}},\"type\":\"scattergl\"}],\"scatter3d\":[{\"type\":\"scatter3d\",\"line\":{\"colorbar\":{\"outlinewidth\":0,\"ticks\":\"\"}},\"marker\":{\"colorbar\":{\"outlinewidth\":0,\"ticks\":\"\"}}}],\"scattermapbox\":[{\"type\":\"scattermapbox\",\"marker\":{\"colorbar\":{\"outlinewidth\":0,\"ticks\":\"\"}}}],\"scatterternary\":[{\"type\":\"scatterternary\",\"marker\":{\"colorbar\":{\"outlinewidth\":0,\"ticks\":\"\"}}}],\"scattercarpet\":[{\"type\":\"scattercarpet\",\"marker\":{\"colorbar\":{\"outlinewidth\":0,\"ticks\":\"\"}}}],\"carpet\":[{\"aaxis\":{\"endlinecolor\":\"#A2B1C6\",\"gridcolor\":\"#506784\",\"linecolor\":\"#506784\",\"minorgridcolor\":\"#506784\",\"startlinecolor\":\"#A2B1C6\"},\"baxis\":{\"endlinecolor\":\"#A2B1C6\",\"gridcolor\":\"#506784\",\"linecolor\":\"#506784\",\"minorgridcolor\":\"#506784\",\"startlinecolor\":\"#A2B1C6\"},\"type\":\"carpet\"}],\"table\":[{\"cells\":{\"fill\":{\"color\":\"#506784\"},\"line\":{\"color\":\"rgb(17,17,17)\"}},\"header\":{\"fill\":{\"color\":\"#2a3f5f\"},\"line\":{\"color\":\"rgb(17,17,17)\"}},\"type\":\"table\"}],\"barpolar\":[{\"marker\":{\"line\":{\"color\":\"rgb(17,17,17)\",\"width\":0.5},\"pattern\":{\"fillmode\":\"overlay\",\"size\":10,\"solidity\":0.2}},\"type\":\"barpolar\"}],\"pie\":[{\"automargin\":true,\"type\":\"pie\"}]},\"layout\":{\"autotypenumbers\":\"strict\",\"colorway\":[\"#636efa\",\"#EF553B\",\"#00cc96\",\"#ab63fa\",\"#FFA15A\",\"#19d3f3\",\"#FF6692\",\"#B6E880\",\"#FF97FF\",\"#FECB52\"],\"font\":{\"color\":\"#f2f5fa\"},\"hovermode\":\"closest\",\"hoverlabel\":{\"align\":\"left\"},\"paper_bgcolor\":\"rgb(17,17,17)\",\"plot_bgcolor\":\"rgb(17,17,17)\",\"polar\":{\"bgcolor\":\"rgb(17,17,17)\",\"angularaxis\":{\"gridcolor\":\"#506784\",\"linecolor\":\"#506784\",\"ticks\":\"\"},\"radialaxis\":{\"gridcolor\":\"#506784\",\"linecolor\":\"#506784\",\"ticks\":\"\"}},\"ternary\":{\"bgcolor\":\"rgb(17,17,17)\",\"aaxis\":{\"gridcolor\":\"#506784\",\"linecolor\":\"#506784\",\"ticks\":\"\"},\"baxis\":{\"gridcolor\":\"#506784\",\"linecolor\":\"#506784\",\"ticks\":\"\"},\"caxis\":{\"gridcolor\":\"#506784\",\"linecolor\":\"#506784\",\"ticks\":\"\"}},\"coloraxis\":{\"colorbar\":{\"outlinewidth\":0,\"ticks\":\"\"}},\"colorscale\":{\"sequential\":[[0.0,\"#0d0887\"],[0.1111111111111111,\"#46039f\"],[0.2222222222222222,\"#7201a8\"],[0.3333333333333333,\"#9c179e\"],[0.4444444444444444,\"#bd3786\"],[0.5555555555555556,\"#d8576b\"],[0.6666666666666666,\"#ed7953\"],[0.7777777777777778,\"#fb9f3a\"],[0.8888888888888888,\"#fdca26\"],[1.0,\"#f0f921\"]],\"sequentialminus\":[[0.0,\"#0d0887\"],[0.1111111111111111,\"#46039f\"],[0.2222222222222222,\"#7201a8\"],[0.3333333333333333,\"#9c179e\"],[0.4444444444444444,\"#bd3786\"],[0.5555555555555556,\"#d8576b\"],[0.6666666666666666,\"#ed7953\"],[0.7777777777777778,\"#fb9f3a\"],[0.8888888888888888,\"#fdca26\"],[1.0,\"#f0f921\"]],\"diverging\":[[0,\"#8e0152\"],[0.1,\"#c51b7d\"],[0.2,\"#de77ae\"],[0.3,\"#f1b6da\"],[0.4,\"#fde0ef\"],[0.5,\"#f7f7f7\"],[0.6,\"#e6f5d0\"],[0.7,\"#b8e186\"],[0.8,\"#7fbc41\"],[0.9,\"#4d9221\"],[1,\"#276419\"]]},\"xaxis\":{\"gridcolor\":\"#283442\",\"linecolor\":\"#506784\",\"ticks\":\"\",\"title\":{\"standoff\":15},\"zerolinecolor\":\"#283442\",\"automargin\":true,\"zerolinewidth\":2},\"yaxis\":{\"gridcolor\":\"#283442\",\"linecolor\":\"#506784\",\"ticks\":\"\",\"title\":{\"standoff\":15},\"zerolinecolor\":\"#283442\",\"automargin\":true,\"zerolinewidth\":2},\"scene\":{\"xaxis\":{\"backgroundcolor\":\"rgb(17,17,17)\",\"gridcolor\":\"#506784\",\"linecolor\":\"#506784\",\"showbackground\":true,\"ticks\":\"\",\"zerolinecolor\":\"#C8D4E3\",\"gridwidth\":2},\"yaxis\":{\"backgroundcolor\":\"rgb(17,17,17)\",\"gridcolor\":\"#506784\",\"linecolor\":\"#506784\",\"showbackground\":true,\"ticks\":\"\",\"zerolinecolor\":\"#C8D4E3\",\"gridwidth\":2},\"zaxis\":{\"backgroundcolor\":\"rgb(17,17,17)\",\"gridcolor\":\"#506784\",\"linecolor\":\"#506784\",\"showbackground\":true,\"ticks\":\"\",\"zerolinecolor\":\"#C8D4E3\",\"gridwidth\":2}},\"shapedefaults\":{\"line\":{\"color\":\"#f2f5fa\"}},\"annotationdefaults\":{\"arrowcolor\":\"#f2f5fa\",\"arrowhead\":0,\"arrowwidth\":1},\"geo\":{\"bgcolor\":\"rgb(17,17,17)\",\"landcolor\":\"rgb(17,17,17)\",\"subunitcolor\":\"#506784\",\"showland\":true,\"showlakes\":true,\"lakecolor\":\"rgb(17,17,17)\"},\"title\":{\"x\":0.05},\"updatemenudefaults\":{\"bgcolor\":\"#506784\",\"borderwidth\":0},\"sliderdefaults\":{\"bgcolor\":\"#C8D4E3\",\"borderwidth\":1,\"bordercolor\":\"rgb(17,17,17)\",\"tickwidth\":0},\"mapbox\":{\"style\":\"dark\"}}},\"mapbox\":{\"domain\":{\"x\":[0.0,1.0],\"y\":[0.0,1.0]},\"center\":{\"lat\":-36.60814304,\"lon\":-72.10020448235294},\"zoom\":12,\"style\":\"dark\",\"accesstoken\":\"pk.eyJ1IjoidHJhbnNhcHAiLCJhIjoiY2w4czhubzh3MXhwajNwbzgwM2dzM3R6bCJ9.vsA2xogBFcRYH2DbwDOb4w\"},\"legend\":{\"tracegroupgap\":0},\"margin\":{\"t\":0,\"r\":0,\"l\":0,\"b\":0}},                        {\"responsive\": true}                    ).then(function(){\n                            \nvar gd = document.getElementById('b35cb1f3-c11b-4bbb-bed6-93bed26215ee');\nvar x = new MutationObserver(function (mutations, observer) {{\n        var display = window.getComputedStyle(gd).display;\n        if (!display || display === 'none') {{\n            console.log([gd, 'removed!']);\n            Plotly.purge(gd);\n            observer.disconnect();\n        }}\n}});\n\n// Listen for the removal of the full notebook cells\nvar notebookContainer = gd.closest('#notebook-container');\nif (notebookContainer) {{\n    x.observe(notebookContainer, {childList: true});\n}}\n\n// Listen for the clearing of the current output cell\nvar outputEl = gd.closest('.output');\nif (outputEl) {{\n    x.observe(outputEl, {childList: true});\n}}\n\n                        })                };                });            </script>        </div>"
     },
     "metadata": {},
     "output_type": "display_data"
    }
   ],
   "source": [
    "direction = \"ida\" if direction_id == 0 else \"vuelta\"\n",
    "\n",
    "sv.generate_stop_matching_evaluation_map(curve_geo, points_in_curve, f\"{route_id}_{direction}\")"
   ],
   "metadata": {
    "collapsed": false
   }
  },
  {
   "cell_type": "code",
   "execution_count": 181,
   "outputs": [],
   "source": [
    "from shapely.ops import split\n",
    "\n",
    "\n",
    "def shape_partition(linestring_, stop_points_):\n",
    "    partitions = []\n",
    "\n",
    "    for point in stop_points_:\n",
    "        print(point)\n",
    "        print(linestring_.interpolate(linestring_.project(point)))\n",
    "\n",
    "        partition = split(linestring_, linestring_.interpolate(linestring_.project(point)))\n",
    "        linestring_ = list(partition.geoms)[0]\n",
    "        line_next = list(partition.geoms)[1]\n",
    "\n",
    "        partitions += [linestring_]\n",
    "\n",
    "        linestring_ = line_next\n",
    "\n",
    "    return partitions + [linestring_]"
   ],
   "metadata": {
    "collapsed": false
   }
  },
  {
   "cell_type": "code",
   "execution_count": 182,
   "outputs": [
    {
     "name": "stdout",
     "output_type": "stream",
     "text": [
      "POINT (2 3)\n",
      "POINT (2 3)\n",
      "POINT (3 4)\n",
      "POINT (3 4)\n"
     ]
    },
    {
     "data": {
      "text/plain": "[<LINESTRING (1 2, 2 3)>, <LINESTRING (2 3, 3 4)>, <LINESTRING (3 4, 4 5)>]"
     },
     "execution_count": 182,
     "metadata": {},
     "output_type": "execute_result"
    }
   ],
   "source": [
    "line_ = LineString([(1, 2), (2, 3), (3, 4), (4, 5)])\n",
    "points_ = [Point(2, 3), Point(3, 4)]\n",
    "\n",
    "partitions_ = shape_partition(line_, points_)\n",
    "partitions_"
   ],
   "metadata": {
    "collapsed": false
   }
  },
  {
   "cell_type": "code",
   "execution_count": 183,
   "outputs": [
    {
     "data": {
      "text/plain": "<Figure size 640x480 with 1 Axes>",
      "image/png": "[encoded data removed]"
     },
     "metadata": {},
     "output_type": "display_data"
    }
   ],
   "source": [
    "def plot_utm_shapes_partitions(partitions_, points_):\n",
    "    xs = [point.x for point in points_]\n",
    "    ys = [point.y for point in points_]\n",
    "\n",
    "    # partitioned shape\n",
    "    for order, partition_ in enumerate(partitions_):\n",
    "        plt.plot(*partition_.xy, zorder=order)\n",
    "\n",
    "    # stops\n",
    "    plt.scatter(xs, ys, color=\"black\")\n",
    "\n",
    "    plt.show()\n",
    "\n",
    "\n",
    "plot_utm_shapes_partitions(partitions_, points_)"
   ],
   "metadata": {
    "collapsed": false
   }
  },
  {
   "cell_type": "code",
   "execution_count": 184,
   "outputs": [
    {
     "name": "stdout",
     "output_type": "stream",
     "text": [
      "POINT (759501.4941490631 5942389.511932061)\n",
      "POINT (759132.4204768445 5944308.824860569)\n"
     ]
    },
    {
     "name": "stderr",
     "output_type": "stream",
     "text": [
      "C:\\Users\\diego\\AppData\\Local\\Programs\\Python\\Python39\\lib\\site-packages\\shapely\\linear.py:90: RuntimeWarning:\n",
      "\n",
      "invalid value encountered in line_locate_point\n",
      "\n"
     ]
    }
   ],
   "source": [
    "line = LineString(curve_utm)\n",
    "stop = [Point(759501.4941490631, 5942389.511932061)]\n",
    "\n",
    "partition = shape_partition(line, stop)"
   ],
   "metadata": {
    "collapsed": false
   }
  },
  {
   "cell_type": "code",
   "execution_count": 185,
   "outputs": [
    {
     "data": {
      "text/plain": "     shape_pt_lat  shape_pt_lon\n0      -36.640620    -72.135200\n1      -36.640620    -72.135200\n2      -36.640620    -72.135200\n3      -36.640380    -72.134830\n4      -36.640290    -72.134680\n..            ...           ...\n420    -36.582810    -72.071760\n421    -36.582724    -72.071693\n422    -36.582724    -72.071693\n423    -36.582720    -72.071690\n424    -36.581960    -72.074010\n\n[425 rows x 2 columns]",
      "text/html": "<div>\n<style scoped>\n    .dataframe tbody tr th:only-of-type {\n        vertical-align: middle;\n    }\n\n    .dataframe tbody tr th {\n        vertical-align: top;\n    }\n\n    .dataframe thead th {\n        text-align: right;\n    }\n</style>\n<table border=\"1\" class=\"dataframe\">\n  <thead>\n    <tr style=\"text-align: right;\">\n      <th></th>\n      <th>shape_pt_lat</th>\n      <th>shape_pt_lon</th>\n    </tr>\n  </thead>\n  <tbody>\n    <tr>\n      <th>0</th>\n      <td>-36.640620</td>\n      <td>-72.135200</td>\n    </tr>\n    <tr>\n      <th>1</th>\n      <td>-36.640620</td>\n      <td>-72.135200</td>\n    </tr>\n    <tr>\n      <th>2</th>\n      <td>-36.640620</td>\n      <td>-72.135200</td>\n    </tr>\n    <tr>\n      <th>3</th>\n      <td>-36.640380</td>\n      <td>-72.134830</td>\n    </tr>\n    <tr>\n      <th>4</th>\n      <td>-36.640290</td>\n      <td>-72.134680</td>\n    </tr>\n    <tr>\n      <th>...</th>\n      <td>...</td>\n      <td>...</td>\n    </tr>\n    <tr>\n      <th>420</th>\n      <td>-36.582810</td>\n      <td>-72.071760</td>\n    </tr>\n    <tr>\n      <th>421</th>\n      <td>-36.582724</td>\n      <td>-72.071693</td>\n    </tr>\n    <tr>\n      <th>422</th>\n      <td>-36.582724</td>\n      <td>-72.071693</td>\n    </tr>\n    <tr>\n      <th>423</th>\n      <td>-36.582720</td>\n      <td>-72.071690</td>\n    </tr>\n    <tr>\n      <th>424</th>\n      <td>-36.581960</td>\n      <td>-72.074010</td>\n    </tr>\n  </tbody>\n</table>\n<p>425 rows × 2 columns</p>\n</div>"
     },
     "execution_count": 185,
     "metadata": {},
     "output_type": "execute_result"
    }
   ],
   "source": [
    "curve_geo"
   ],
   "metadata": {
    "collapsed": false
   }
  },
  {
   "cell_type": "code",
   "execution_count": 186,
   "outputs": [
    {
     "name": "stdout",
     "output_type": "stream",
     "text": [
      "-36.64062, -72.1352 -> -36.64062, -72.1352, seq: 0, prev_dist: 0, length: 0.0\n",
      "-36.64062, -72.1352 -> -36.64062, -72.1352, seq: 1, prev_dist: 0.0, length: 0.0\n",
      "-36.64062, -72.1352 -> -36.64038, -72.13483, seq: 2, prev_dist: 0.0, length: 42.463227933591725\n",
      "-36.64038, -72.13483 -> -36.64029, -72.13468, seq: 3, prev_dist: 42.463227933591725, length: 16.716493661387304\n",
      "-36.64029, -72.13468 -> -36.64027, -72.13465, seq: 4, prev_dist: 59.17972159497903, length: 3.481082362081365\n"
     ]
    }
   ],
   "source": [
    "from speed_visualizer.geometry.line_class import Segment\n",
    "from speed_visualizer.geometry.point_class import Point\n",
    "\n",
    "segments = []\n",
    "\n",
    "n = curve_geo.axes[0].size\n",
    "\n",
    "distance_ab = 0\n",
    "\n",
    "for i in range(0, n - 1):\n",
    "    # initial point\n",
    "    lat_a, lon_a = curve_geo.iloc[i, 0], curve_geo.iloc[i, 1]\n",
    "    point_a = Point(lat_a, lon_a)\n",
    "\n",
    "    # final point\n",
    "    lat_b, lon_b = curve_geo.iloc[i + 1, 0], curve_geo.iloc[i + 1, 1]\n",
    "    point_b = Point(lat_b, lon_b)\n",
    "\n",
    "    segments += [Segment(point_a, point_b, distance_ab, i)]\n",
    "\n",
    "    # distances\n",
    "    distance_ab += point_a.distance(point_b)\n",
    "\n",
    "for i in range(5):\n",
    "    print(segments[i])"
   ],
   "metadata": {
    "collapsed": false
   }
  },
  {
   "cell_type": "code",
   "execution_count": 187,
   "outputs": [
    {
     "name": "stdout",
     "output_type": "stream",
     "text": [
      "-36.64028292, -72.13458802\n",
      "-36.63849471, -72.13181589\n",
      "-36.63779669, -72.13068408\n",
      "-36.63462353, -72.1261149\n",
      "-36.62807479, -72.12761771\n"
     ]
    }
   ],
   "source": [
    "from speed_visualizer.geometry.point_class import StopPoint\n",
    "\n",
    "stop_points = []\n",
    "\n",
    "n = stops_geo.axes[0].size\n",
    "\n",
    "for i in range(0, n):\n",
    "    # stop point\n",
    "    lat, lon = stops_geo.iloc[i, 2], stops_geo.iloc[i, 3]\n",
    "    stop_id = stops_geo.iloc[i, 0]\n",
    "\n",
    "    stop_points += [StopPoint(lat, lon, stop_id)]\n",
    "\n",
    "for i in range(5):\n",
    "    print(stop_points[i])"
   ],
   "metadata": {
    "collapsed": false
   }
  },
  {
   "cell_type": "code",
   "execution_count": 188,
   "outputs": [],
   "source": [
    "DISTANCE_THRESHOLD = 25"
   ],
   "metadata": {
    "collapsed": false
   }
  },
  {
   "cell_type": "code",
   "execution_count": 189,
   "outputs": [],
   "source": [
    "def _get_distances_from_segments(p, segments_, prev_dist=None):\n",
    "    for segment in segments_:\n",
    "        aux_dist, aux_proj = segment.en_route_distances(p)\n",
    "        # first check if segment is valid compared to the previous en route distance\n",
    "        if (prev_dist is not None and prev_dist <= aux_proj) or prev_dist is None:\n",
    "            # check if segment is near enough the point\n",
    "            if aux_dist <= DISTANCE_THRESHOLD:\n",
    "                # this is the segment\n",
    "                return aux_dist, aux_proj\n",
    "    return None, None"
   ],
   "metadata": {
    "collapsed": false
   }
  },
  {
   "cell_type": "code",
   "execution_count": 190,
   "outputs": [
    {
     "ename": "ZeroDivisionError",
     "evalue": "float division by zero",
     "output_type": "error",
     "traceback": [
      "\u001B[1;31m---------------------------------------------------------------------------\u001B[0m",
      "\u001B[1;31mZeroDivisionError\u001B[0m                         Traceback (most recent call last)",
      "Cell \u001B[1;32mIn[190], line 1\u001B[0m\n\u001B[1;32m----> 1\u001B[0m \u001B[43m_get_distances_from_segments\u001B[49m\u001B[43m(\u001B[49m\u001B[43mstop_points\u001B[49m\u001B[43m[\u001B[49m\u001B[38;5;241;43m1\u001B[39;49m\u001B[43m]\u001B[49m\u001B[43m,\u001B[49m\u001B[43m \u001B[49m\u001B[43msegments\u001B[49m\u001B[43m)\u001B[49m\n",
      "Cell \u001B[1;32mIn[189], line 3\u001B[0m, in \u001B[0;36m_get_distances_from_segments\u001B[1;34m(p, segments_, prev_dist)\u001B[0m\n\u001B[0;32m      1\u001B[0m \u001B[38;5;28;01mdef\u001B[39;00m \u001B[38;5;21m_get_distances_from_segments\u001B[39m(p, segments_, prev_dist\u001B[38;5;241m=\u001B[39m\u001B[38;5;28;01mNone\u001B[39;00m):\n\u001B[0;32m      2\u001B[0m     \u001B[38;5;28;01mfor\u001B[39;00m segment \u001B[38;5;129;01min\u001B[39;00m segments_:\n\u001B[1;32m----> 3\u001B[0m         aux_dist, aux_proj \u001B[38;5;241m=\u001B[39m \u001B[43msegment\u001B[49m\u001B[38;5;241;43m.\u001B[39;49m\u001B[43men_route_distances\u001B[49m\u001B[43m(\u001B[49m\u001B[43mp\u001B[49m\u001B[43m)\u001B[49m\n\u001B[0;32m      4\u001B[0m         \u001B[38;5;66;03m# first check if segment is valid compared to the previous en route distance\u001B[39;00m\n\u001B[0;32m      5\u001B[0m         \u001B[38;5;28;01mif\u001B[39;00m (prev_dist \u001B[38;5;129;01mis\u001B[39;00m \u001B[38;5;129;01mnot\u001B[39;00m \u001B[38;5;28;01mNone\u001B[39;00m \u001B[38;5;129;01mand\u001B[39;00m prev_dist \u001B[38;5;241m<\u001B[39m\u001B[38;5;241m=\u001B[39m aux_proj) \u001B[38;5;129;01mor\u001B[39;00m prev_dist \u001B[38;5;129;01mis\u001B[39;00m \u001B[38;5;28;01mNone\u001B[39;00m:\n\u001B[0;32m      6\u001B[0m             \u001B[38;5;66;03m# check if segment is near enough the point\u001B[39;00m\n",
      "File \u001B[1;32m~\\OneDrive\\Escritorio\\Transapp\\Repositorios\\transapp-visualizador-velocidades\\speed_visualizer\\geometry\\line_class.py:56\u001B[0m, in \u001B[0;36mSegment.en_route_distances\u001B[1;34m(self, p)\u001B[0m\n\u001B[0;32m     55\u001B[0m \u001B[38;5;28;01mdef\u001B[39;00m \u001B[38;5;21men_route_distances\u001B[39m(\u001B[38;5;28mself\u001B[39m, p: Point):\n\u001B[1;32m---> 56\u001B[0m     distance, projection \u001B[38;5;241m=\u001B[39m \u001B[38;5;28;43mself\u001B[39;49m\u001B[38;5;241;43m.\u001B[39;49m\u001B[43mdistances\u001B[49m\u001B[43m(\u001B[49m\u001B[43mp\u001B[49m\u001B[43m)\u001B[49m\n\u001B[0;32m     57\u001B[0m     projection \u001B[38;5;241m+\u001B[39m\u001B[38;5;241m=\u001B[39m \u001B[38;5;28mself\u001B[39m\u001B[38;5;241m.\u001B[39mprev_distance\n\u001B[0;32m     58\u001B[0m     \u001B[38;5;28;01mreturn\u001B[39;00m distance, projection\n",
      "File \u001B[1;32m~\\OneDrive\\Escritorio\\Transapp\\Repositorios\\transapp-visualizador-velocidades\\speed_visualizer\\geometry\\line_class.py:32\u001B[0m, in \u001B[0;36mLine.distances\u001B[1;34m(self, p)\u001B[0m\n\u001B[0;32m     30\u001B[0m s \u001B[38;5;241m=\u001B[39m (segment_length \u001B[38;5;241m+\u001B[39m distance_a \u001B[38;5;241m+\u001B[39m distance_b) \u001B[38;5;241m/\u001B[39m \u001B[38;5;241m2\u001B[39m\n\u001B[0;32m     31\u001B[0m a \u001B[38;5;241m=\u001B[39m math\u001B[38;5;241m.\u001B[39msqrt(s \u001B[38;5;241m*\u001B[39m (s \u001B[38;5;241m-\u001B[39m distance_a) \u001B[38;5;241m*\u001B[39m (s \u001B[38;5;241m-\u001B[39m distance_b) \u001B[38;5;241m*\u001B[39m (s \u001B[38;5;241m-\u001B[39m segment_length))\n\u001B[1;32m---> 32\u001B[0m stop_distance \u001B[38;5;241m=\u001B[39m \u001B[43m(\u001B[49m\u001B[43ma\u001B[49m\u001B[43m \u001B[49m\u001B[38;5;241;43m*\u001B[39;49m\u001B[43m \u001B[49m\u001B[38;5;241;43m2\u001B[39;49m\u001B[43m)\u001B[49m\u001B[43m \u001B[49m\u001B[38;5;241;43m/\u001B[39;49m\u001B[43m \u001B[49m\u001B[43msegment_length\u001B[49m\n\u001B[0;32m     34\u001B[0m \u001B[38;5;66;03m# using pitagoras we get the distance form the start of the segment to the point\u001B[39;00m\n\u001B[0;32m     35\u001B[0m \u001B[38;5;66;03m# projection. The abs() in the equation is there to prevent a math domain error\u001B[39;00m\n\u001B[0;32m     36\u001B[0m \u001B[38;5;66;03m# that may happen due to decimal precision\u001B[39;00m\n\u001B[0;32m     37\u001B[0m \u001B[38;5;28;01mreturn\u001B[39;00m stop_distance, math\u001B[38;5;241m.\u001B[39msqrt(\u001B[38;5;28mabs\u001B[39m(math\u001B[38;5;241m.\u001B[39mpow(distance_a, \u001B[38;5;241m2\u001B[39m) \u001B[38;5;241m-\u001B[39m math\u001B[38;5;241m.\u001B[39mpow(stop_distance, \u001B[38;5;241m2\u001B[39m)))\n",
      "\u001B[1;31mZeroDivisionError\u001B[0m: float division by zero"
     ]
    }
   ],
   "source": [
    "_get_distances_from_segments(stop_points[1], segments)"
   ],
   "metadata": {
    "collapsed": false
   }
  },
  {
   "cell_type": "code",
   "execution_count": 192,
   "outputs": [
    {
     "data": {
      "text/plain": "[<matplotlib.lines.Line2D at 0x18a90b8e9a0>]"
     },
     "execution_count": 192,
     "metadata": {},
     "output_type": "execute_result"
    },
    {
     "data": {
      "text/plain": "<Figure size 640x480 with 1 Axes>",
      "image/png": "[encoded data removed]"
     },
     "metadata": {},
     "output_type": "display_data"
    }
   ],
   "source": [
    "import shapely as sp\n",
    "\n",
    "line = LineString([[0.0, 0.0], [0.0, 1.0], [1.0, 1.0], [1.0, 0.5], [2.0, 0.5], [2.0, 1.5], [3.0, 1.5], [3.0, 0.0]])\n",
    "\n",
    "segments = []\n",
    "\n",
    "segments += [LineString([[0.0, 0.0], [0.0, 1.0]])]  #s1\n",
    "segments += [LineString([[0.0, 1.0], [1.0, 1.0]])]  #s2\n",
    "segments += [LineString([[1.0, 1.0], [1.0, 0.5]])]  #s3\n",
    "segments += [LineString([[1.0, 0.5], [2.0, 0.5]])]  #s4\n",
    "segments += [LineString([[2.0, 0.5], [2.0, 1.5]])]  #s5\n",
    "segments += [LineString([[2.0, 1.5], [3.0, 1.5]])]  #s6\n",
    "segments += [LineString([[3.0, 1.5], [3.0, 0.0]])]  #s7\n",
    "\n",
    "points = []\n",
    "\n",
    "points += [sp.Point(0.50, 1.00)]\n",
    "points += [sp.Point(1.75, 0.50)]\n",
    "points += [sp.Point(2.25, 1.50)]\n",
    "\n",
    "for segment in segments:\n",
    "    plt.plot(*segment.xy)\n",
    "\n",
    "for point in points:\n",
    "    plt.scatter(point.x, point.y)\n",
    "\n",
    "plt.plot(*line.xy)"
   ],
   "metadata": {
    "collapsed": false
   }
  },
  {
   "cell_type": "code",
   "execution_count": 193,
   "outputs": [
    {
     "name": "stdout",
     "output_type": "stream",
     "text": [
      "LINESTRING (0 0, 0 1, 0 1, 0.5 1)\n",
      "LINESTRING (0.5 1, 1 1, 1 1, 1 0.5, 1 0.5, 1.75 0.5)\n",
      "LINESTRING (1.75 0.5, 2 0.5, 2 0.5, 2 1.5, 2 1.5, 2.25 1.5)\n",
      "LINESTRING (2.25 1.5, 3 1.5, 3 1.5, 3 0)\n"
     ]
    },
    {
     "data": {
      "text/plain": "<Figure size 640x480 with 1 Axes>",
      "image/png": "[encoded data removed]"
     },
     "metadata": {},
     "output_type": "display_data"
    }
   ],
   "source": [
    "# Creador de segmentos\n",
    "\n",
    "new_segments = []\n",
    "new_segment = []\n",
    "\n",
    "# Iteradores\n",
    "\n",
    "i = 0\n",
    "j = 0\n",
    "\n",
    "# Límites\n",
    "\n",
    "n = len(segments)  # considera todos en orden\n",
    "m = len(points)  # considera todos en orden\n",
    "\n",
    "# Distancia\n",
    "\n",
    "distance_prev = 0\n",
    "\n",
    "while i <= n and j <= m:\n",
    "\n",
    "    if i == n:\n",
    "        new_segments += [LineString(new_segment)]\n",
    "        break\n",
    "\n",
    "    if j == m:\n",
    "\n",
    "        while i < n:\n",
    "            segment = segments[i]\n",
    "\n",
    "            point_a = segment.coords[0]\n",
    "            point_b = segment.coords[-1]\n",
    "\n",
    "            new_segment += [point_a]\n",
    "            new_segment += [point_b]\n",
    "\n",
    "            i += 1\n",
    "\n",
    "        new_segments += [LineString(new_segment)]\n",
    "        break\n",
    "\n",
    "    segment = segments[i]\n",
    "    point = points[j]\n",
    "\n",
    "    distance_ab = segment.length\n",
    "    projection = line.project(point)\n",
    "\n",
    "    if distance_ab + distance_prev > projection:\n",
    "\n",
    "        point_a = segment.coords[0]\n",
    "        point_b = point\n",
    "\n",
    "        new_segment += [point_a]\n",
    "        new_segment += [point_b]\n",
    "\n",
    "        new_segments += [LineString(new_segment)]\n",
    "\n",
    "        new_segment = []\n",
    "\n",
    "        point_a = point\n",
    "        point_b = segment.coords[-1]\n",
    "\n",
    "        new_segment += [point_a]\n",
    "        new_segment += [point_b]\n",
    "\n",
    "        distance_prev += distance_ab\n",
    "\n",
    "        i += 1\n",
    "        j += 1\n",
    "\n",
    "    else:\n",
    "\n",
    "        point_a = segment.coords[0]\n",
    "        point_b = segment.coords[-1]\n",
    "\n",
    "        new_segment += [point_a]\n",
    "        new_segment += [point_b]\n",
    "\n",
    "        distance_prev += distance_ab\n",
    "\n",
    "        i += 1\n",
    "\n",
    "for segment in new_segments:\n",
    "    print(segment)\n",
    "    plt.plot(*segment.xy)\n",
    "\n",
    "for point in points:\n",
    "    plt.scatter(point.x, point.y, color=\"black\", zorder=2)\n",
    "\n",
    "plt.show()"
   ],
   "metadata": {
    "collapsed": false
   }
  }
 ],
 "metadata": {
  "kernelspec": {
   "display_name": "Python 3",
   "language": "python",
   "name": "python3"
  },
  "language_info": {
   "codemirror_mode": {
    "name": "ipython",
    "version": 2
   },
   "file_extension": ".py",
   "mimetype": "text/x-python",
   "name": "python",
   "nbconvert_exporter": "python",
   "pygments_lexer": "ipython2",
   "version": "2.7.6"
  }
 },
 "nbformat": 4,
 "nbformat_minor": 0
}
